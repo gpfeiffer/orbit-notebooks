{
 "cells": [
  {
   "cell_type": "markdown",
   "id": "90599f92",
   "metadata": {},
   "source": [
    "### Real, Complex and Symplectic Reflection Groups - March 2023, RUB\n",
    "\n",
    "## Computational Aspects of Complex Reflection Groups\n",
    "\n",
    "Götz Pfeiffer - University of Galway\n",
    "\n",
    "# 2. Finite Coxeter Groups in Action"
   ]
  },
  {
   "cell_type": "markdown",
   "id": "6c6bfc13",
   "metadata": {},
   "source": [
    "[![Vitruvian Man](images/vitruvian.jpg)](https://en.wikipedia.org/wiki/Vitruvian_Man)"
   ]
  },
  {
   "cell_type": "markdown",
   "id": "a1f0fe05",
   "metadata": {},
   "source": [
    "## Setup"
   ]
  },
  {
   "cell_type": "markdown",
   "id": "07a2bc9e",
   "metadata": {},
   "source": [
    "We use the graph traversal techniques from the last day to\n",
    "* construct a finite Coxeter group as a permutation group,\n",
    "* compute basic properties of elements and parabolic subgroups,\n",
    "* determine the normalizer complement of a parabolic subgroup,\n",
    "* examine the conjugation action with respect to element length.\n",
    "\n",
    "First, reload the algorithms ..."
   ]
  },
  {
   "cell_type": "code",
   "execution_count": null,
   "id": "fc22f8e3",
   "metadata": {},
   "outputs": [],
   "source": [
    "Read(\"gap4/orbits.g\");\n",
    "LoadPackage(\"jupyterviz\");\n",
    "opts:= rec(vertexwidth:= 12, vertexheight:= 12, edgecolor:= \"#def\");;"
   ]
  },
  {
   "cell_type": "markdown",
   "id": "5e4702a5",
   "metadata": {},
   "source": [
    "## Real Reflection Groups"
   ]
  },
  {
   "cell_type": "markdown",
   "id": "59ee1b5f",
   "metadata": {},
   "source": [
    "<div class=\"alert alert-danger\">\n",
    "\n",
    "**Definition.**\n",
    "\n",
    "* Let $S$ be a finite set, and let $M = (m_{st})$ be a symmetric matrix with $m_{ss} = 1$\n",
    "and $m_{st} = m_{ts} \\in \\{2,3,4,\\dots,\\infty\\}$ if $s \\neq t$.\n",
    "* A **Coxeter group** with  **Coxeter Matrix** $M$ is the group $W$ given by the presentation\n",
    "    $$\n",
    "    W = \\langle S \\mid (st)^{m_{st}} = 1;\\, s,t \\in S \\rangle\n",
    "    $$\n",
    "</div>"
   ]
  },
  {
   "cell_type": "markdown",
   "id": "08cf3a45",
   "metadata": {},
   "source": [
    "* The presentation of a Coxeter group can be described by a graph with vertex set $S$ and edges labelled $m_{st}$  between $s$ and $t$ if $m_{st} > 2$, where for $m_{st} = 3$ the label is usually omitted.\n",
    "* A Coxeter group is called **simply laced** if $m_{st} \\leq 3$ for all $s, t \\in S$.\n",
    "* Coxeter graphs (for simply laced irreducible finite Coxeter groups) can be made by the following GAP program."
   ]
  },
  {
   "cell_type": "code",
   "execution_count": null,
   "id": "c32aba5a",
   "metadata": {},
   "outputs": [],
   "source": [
    "coxeterGraph := function(series, rank)\n",
    "    local edges;\n",
    "    edges := List([2..rank], j -> [j-1, j]);\n",
    "    if series >= \"D\" then  edges[1][2] := 3;  fi;\n",
    "    if series >= \"E\" then  edges[2][2] := 4;  fi;\n",
    "    return edges;\n",
    "end;"
   ]
  },
  {
   "cell_type": "markdown",
   "id": "77c71665",
   "metadata": {},
   "source": [
    "* For example:"
   ]
  },
  {
   "cell_type": "code",
   "execution_count": null,
   "id": "0e45e267",
   "metadata": {},
   "outputs": [],
   "source": [
    "graph := coxeterGraph(\"A\", 7);"
   ]
  },
  {
   "cell_type": "code",
   "execution_count": null,
   "id": "2327809c",
   "metadata": {},
   "outputs": [],
   "source": [
    "PlotGraph(graph, opts);"
   ]
  },
  {
   "cell_type": "markdown",
   "id": "f8618cbd",
   "metadata": {},
   "source": [
    "* From the Coxeter matrix $M$, or the corresponding graph, we set up a Cartan matrix $C$:\n",
    "* $C = (c_{st})$ with $c_{ss} = 2$ and $c_{st} c_{ts} = 4 \\cos^2 \\frac{\\pi}{m_{st}}$, $c_{st} = 0 \\iff c_{ts} = 0$, $s \\neq t$."
   ]
  },
  {
   "cell_type": "code",
   "execution_count": null,
   "id": "9a17afd4",
   "metadata": {},
   "outputs": [],
   "source": [
    "cartanMat := function(series, rank)\n",
    "    local cartan,  ij,  i,  j;\n",
    "    cartan := 2*IdentityMat(rank);;\n",
    "    for ij in coxeterGraph(series, rank) do\n",
    "        i := ij[1];  j := ij[2];\n",
    "        cartan[i][j] := -1;\n",
    "        cartan[j][i] := -1;\n",
    "    od;\n",
    "    if series = \"B\" then  cartan[1][2] := -2;  fi;\n",
    "    if series = \"C\" then  cartan[2][1] := -2;  fi;\n",
    "    if series = \"F\" then  cartan[3][4] := -2;  fi;  # sic!\n",
    "    return cartan;\n",
    "end;"
   ]
  },
  {
   "cell_type": "code",
   "execution_count": null,
   "id": "4ecc8301",
   "metadata": {},
   "outputs": [],
   "source": [
    "C := cartanMat(\"A\", 3);"
   ]
  },
  {
   "cell_type": "code",
   "execution_count": null,
   "id": "ca817e08",
   "metadata": {},
   "outputs": [],
   "source": [
    "PrintArray(C);"
   ]
  },
  {
   "cell_type": "markdown",
   "id": "14b696b8",
   "metadata": {},
   "source": [
    "* From the Cartan matrix $C$ we can compute matrices for the **simple reflections**: the space $V = \\mathbb{R}^n$ has a basis of **simple roots** $\\{\\alpha_s : s \\in S\\}$ and\n",
    "$$\n",
    "\\alpha_t.\\tilde{s} = \\alpha_t - c_{st} \\alpha_s\n",
    "$$\n",
    "defines a linear action $\\tilde{s} \\in \\mathrm{GL}(V)$ of $s$ as **reflection** in the hyperplane orthogonal to $\\alpha_s$."
   ]
  },
  {
   "cell_type": "code",
   "execution_count": null,
   "id": "44786b12",
   "metadata": {},
   "outputs": [],
   "source": [
    "S := [1..Length(C)];;  mats := [];;  one := C^0;;\n",
    "for s in S do\n",
    "    mats[s] := C^0;  mats[s]{S}[s] := one[s] - C[s];\n",
    "od;"
   ]
  },
  {
   "cell_type": "code",
   "execution_count": null,
   "id": "0b42adcf",
   "metadata": {},
   "outputs": [],
   "source": [
    "for mat in mats do\n",
    "    PrintArray(mat);  Print(\"\\n\");\n",
    "od;"
   ]
  },
  {
   "cell_type": "code",
   "execution_count": null,
   "id": "8703378a",
   "metadata": {},
   "outputs": [],
   "source": [
    "mats[1]^2;"
   ]
  },
  {
   "cell_type": "markdown",
   "id": "fedbf77b",
   "metadata": {},
   "source": [
    "* Thus, $W = \\langle \\tilde{s} : s \\in S \\rangle \\leq \\mathrm{GL}(V)$ acts as a **reflection group** on $V$.\n",
    "* Note that $\\{\\alpha_s : s \\in S\\}$ is not the standard basis of $V$.\n",
    "* But there are real numbers $d_s$, $s \\in S$ such that\n",
    "$$\n",
    "(\\alpha_s, \\alpha_t) = \\tfrac12 d_s^2 c_{st}\n",
    "$$\n",
    "defines a $W$-invariant bilinear form on $V$ (with $d_s = \\sqrt{(\\alpha_s, \\alpha_s)}$)."
   ]
  },
  {
   "cell_type": "markdown",
   "id": "4e049cfd",
   "metadata": {},
   "source": [
    "* The **root system** $\\Phi$ of $W$ (or of $C$) is $\\Phi = \\{\\alpha_s.w : s \\in S,\\,w \\in W\\}$, a union of $W$-orbits.\n",
    "* So we can grow this root system as **orbits** of the simple roots $\\alpha_s$ (which, as our basis vectors,  are simply the rows of the identity matrix $C^0$)."
   ]
  },
  {
   "cell_type": "code",
   "execution_count": null,
   "id": "62a851b6",
   "metadata": {},
   "outputs": [],
   "source": [
    "phi := orbits(mats, C^0, OnRight);"
   ]
  },
  {
   "cell_type": "markdown",
   "id": "192d0dd3",
   "metadata": {},
   "source": [
    "* Note how $\\Phi = \\Phi^{+} \\cup \\Phi^{-}$, where $\\Phi^{+} = \\{ \\alpha \\in \\Phi : \\alpha \\geq 0\\}$.\n",
    "* Or, how roots come in pairs of negatives $\\{r, -r\\}$.  We could enumerate them as such ..."
   ]
  },
  {
   "cell_type": "code",
   "execution_count": null,
   "id": "02902a4a",
   "metadata": {},
   "outputs": [],
   "source": [
    "onRootPairs := function(pair, a)\n",
    "    return Set(OnRight(pair, a));\n",
    "end;;\n",
    "phi := orbits(mats, List(C^0, x -> [-x, x]), onRootPairs);"
   ]
  },
  {
   "cell_type": "markdown",
   "id": "c9235308",
   "metadata": {},
   "source": [
    "* ... and obtain $\\Phi$ by rearranging the pairs."
   ]
  },
  {
   "cell_type": "code",
   "execution_count": null,
   "id": "e18dc5ec",
   "metadata": {},
   "outputs": [],
   "source": [
    "phi := Concatenation(TransposedMat(phi){[2,1]});"
   ]
  },
  {
   "cell_type": "markdown",
   "id": "05dfa931",
   "metadata": {},
   "source": [
    "* Or, we only enumerate the positive representatives of each pair ..."
   ]
  },
  {
   "cell_type": "code",
   "execution_count": null,
   "id": "075e331f",
   "metadata": {},
   "outputs": [],
   "source": [
    "absRoot := root -> SignInt(Sum(root)) * root;;\n",
    "onRoots := function(x, a)\n",
    "    return absRoot(OnRight(x, a));\n",
    "end;;\n",
    "phi:= orbits(mats, C^0, onRoots);"
   ]
  },
  {
   "cell_type": "markdown",
   "id": "94cf7b5e",
   "metadata": {},
   "source": [
    "* ... and find $\\Phi$ as concatentation of $\\Phi^{+}$ and $- \\Phi^{+}$."
   ]
  },
  {
   "cell_type": "code",
   "execution_count": null,
   "id": "50b2e3a4",
   "metadata": {},
   "outputs": [],
   "source": [
    "phi:= Concatenation(phi, -phi);"
   ]
  },
  {
   "cell_type": "markdown",
   "id": "ac34dafe",
   "metadata": {},
   "source": [
    "* In fact, for future reference, we can compute the edges of the action graph, and words in the generators along with $\\Phi$. (What are suitable words for the initial roots?  What are the initial edges?)"
   ]
  },
  {
   "cell_type": "code",
   "execution_count": null,
   "id": "3f130d7c",
   "metadata": {},
   "outputs": [],
   "source": [
    "orbits_with_words_and_edges := function(aaa, xxx, under)\n",
    "    local   list,  edges,  words,  i,  k,  l,  z;\n",
    "    words := List([1..Length(xxx)], i -> [i]);\n",
    "    list := ShallowCopy(xxx);  edges := [];  i := 0;\n",
    "    while i < Length(list) do\n",
    "        i := i+1;\n",
    "        for k in [1..Length(aaa)] do\n",
    "            z := under(list[i], aaa[k]);\n",
    "            l := Position(list, z);\n",
    "            if l = fail then\n",
    "                Add(list, z);\n",
    "                Add(words, onWords(words[i], k));\n",
    "                l := Length(list);\n",
    "            fi;\n",
    "            Add(edges, [i, l]);\n",
    "        od;\n",
    "    od;\n",
    "    return rec(list := list, edges := edges, words := words);\n",
    "end;"
   ]
  },
  {
   "cell_type": "code",
   "execution_count": null,
   "id": "953b07c6",
   "metadata": {},
   "outputs": [],
   "source": [
    "roots := orbits_with_words_and_edges(mats, C^0, onRoots);;\n",
    "roots.list;"
   ]
  },
  {
   "cell_type": "code",
   "execution_count": null,
   "id": "4577c36a",
   "metadata": {},
   "outputs": [],
   "source": [
    "edges := Filtered(roots.edges, x-> x[1] <> x[2]);\n",
    "PlotGraph(edges, opts);"
   ]
  },
  {
   "cell_type": "code",
   "execution_count": null,
   "id": "4befc3f9",
   "metadata": {},
   "outputs": [],
   "source": [
    "roots.words;"
   ]
  },
  {
   "cell_type": "markdown",
   "id": "f0c724ea",
   "metadata": {},
   "source": [
    "* Express simple reflections as permutations of the roots. Formula?  (Compare with Schreier generators $(f_y a)/f_{y.a}$!)\n",
    "* `Sortex` returns the permutation needed to sort a list: `Permuted(list, Sortex(list))` is the sorted list.\n",
    "* So, if $a$ maps `xxx` to `yyy`, $b$ sorts `yyy` (i.e., maps it to `zzz`) and $c$ sorts `xxx` (i.e., maps it to `zzz`) then $c/b$ maps `xxx` to `yyy`.\n",
    "* The permutation of `xxx` caused is the map that assigns $i \\mapsto j$ if `yyy[i] = xxx[j]`, i.e. $b/c = (c/b)^{-1}$ (Check!)."
   ]
  },
  {
   "cell_type": "code",
   "execution_count": null,
   "id": "fc854c0a",
   "metadata": {},
   "outputs": [],
   "source": [
    "permutation := function(a, xxx, under)\n",
    "    return Sortex(List(xxx, x-> under(x, a))) / Sortex(ShallowCopy(xxx));\n",
    "end;"
   ]
  },
  {
   "cell_type": "code",
   "execution_count": null,
   "id": "15cb02f4",
   "metadata": {},
   "outputs": [],
   "source": [
    "permutation(mats[1], phi, OnRight);"
   ]
  },
  {
   "cell_type": "code",
   "execution_count": null,
   "id": "2ea88f87",
   "metadata": {},
   "outputs": [],
   "source": [
    "permutation(mats[1], phi, OnRight) * permutation(mats[2], phi, OnRight);"
   ]
  },
  {
   "cell_type": "code",
   "execution_count": null,
   "id": "e3a500b5",
   "metadata": {},
   "outputs": [],
   "source": [
    "permutation(mats[1] * mats[2], phi, OnRight);"
   ]
  },
  {
   "cell_type": "code",
   "execution_count": null,
   "id": "f6586f35",
   "metadata": {},
   "outputs": [],
   "source": [
    "a := mats[1] * mats[2];"
   ]
  },
  {
   "cell_type": "code",
   "execution_count": null,
   "id": "dc2ba41e",
   "metadata": {},
   "outputs": [],
   "source": [
    "Permuted(phi, permutation(a, phi, OnRight)^-1) = List(phi, x-> x * a);"
   ]
  },
  {
   "cell_type": "markdown",
   "id": "ef4501dd",
   "metadata": {},
   "source": [
    "* GAP has a function `Permutation` for this purpose."
   ]
  },
  {
   "cell_type": "code",
   "execution_count": null,
   "id": "e242cd66",
   "metadata": {},
   "outputs": [],
   "source": [
    "Permutation(a, phi, OnRight);"
   ]
  },
  {
   "cell_type": "code",
   "execution_count": null,
   "id": "728b52d2",
   "metadata": {},
   "outputs": [],
   "source": [
    "perms:= List(mats, m-> Permutation(m, phi, OnRight));"
   ]
  },
  {
   "cell_type": "code",
   "execution_count": null,
   "id": "80b051fe",
   "metadata": {},
   "outputs": [],
   "source": [
    "perms[1] * perms[2];"
   ]
  },
  {
   "cell_type": "markdown",
   "id": "9fc7f330",
   "metadata": {},
   "source": [
    "* all in one program"
   ]
  },
  {
   "cell_type": "code",
   "execution_count": null,
   "id": "36f76281",
   "metadata": {},
   "outputs": [],
   "source": [
    "DeclareAttribute(\"Data\", IsPermGroup);\n",
    "\n",
    "coxeterGroup := function(C)\n",
    "    local  one,  mats,  roots,  S,  s,  phi,  data,  G;\n",
    "    one := C^0;  mats := [];  S := [1..Length(C)];\n",
    "    for s in S do\n",
    "        mats[s] := C^0;  mats[s]{S}[s] := one[s] - C[s];\n",
    "    od;\n",
    "    roots := orbits_with_words_and_edges(mats, C^0, onRoots);\n",
    "    data := rec(mats := mats, roots := roots, rank := Length(S));\n",
    "    data.N := Length(roots.list);\n",
    "    data.phi := Concatenation(roots.list, -roots.list);\n",
    "    data.perms := List(mats, m -> Permutation(m, data.phi, OnRight));\n",
    "    G:= GroupWithGenerators(data.perms);\n",
    "    SetData(G, data);\n",
    "    return G;\n",
    "end;"
   ]
  },
  {
   "cell_type": "code",
   "execution_count": null,
   "id": "496a4c32",
   "metadata": {},
   "outputs": [],
   "source": [
    "W:= coxeterGroup(C);"
   ]
  },
  {
   "cell_type": "code",
   "execution_count": null,
   "id": "6bffa97a",
   "metadata": {},
   "outputs": [],
   "source": [
    "Data(W);"
   ]
  },
  {
   "cell_type": "code",
   "execution_count": null,
   "id": "4ea811e1",
   "metadata": {},
   "outputs": [],
   "source": [
    "sizeOfGroup(W);"
   ]
  },
  {
   "cell_type": "markdown",
   "id": "662292f8",
   "metadata": {},
   "source": [
    "* E8 ..."
   ]
  },
  {
   "cell_type": "code",
   "execution_count": null,
   "id": "a0b33c5a",
   "metadata": {},
   "outputs": [],
   "source": [
    "graphE8:= coxeterGraph(\"E\", 8);"
   ]
  },
  {
   "cell_type": "code",
   "execution_count": null,
   "id": "2c2ff650",
   "metadata": {},
   "outputs": [],
   "source": [
    "PlotGraph(graphE8, opts);"
   ]
  },
  {
   "cell_type": "code",
   "execution_count": null,
   "id": "c10df81d",
   "metadata": {},
   "outputs": [],
   "source": [
    "cartanE8:= cartanMat(\"E\", 8);"
   ]
  },
  {
   "cell_type": "code",
   "execution_count": null,
   "id": "120ffc33",
   "metadata": {},
   "outputs": [],
   "source": [
    "E8:= coxeterGroup(cartanE8);;"
   ]
  },
  {
   "cell_type": "code",
   "execution_count": null,
   "id": "1744dacb",
   "metadata": {},
   "outputs": [],
   "source": [
    "E8.1;"
   ]
  },
  {
   "cell_type": "code",
   "execution_count": null,
   "id": "d398d5d9",
   "metadata": {},
   "outputs": [],
   "source": [
    "sizeOfGroup(E8);"
   ]
  },
  {
   "cell_type": "code",
   "execution_count": null,
   "id": "7cbfed84",
   "metadata": {},
   "outputs": [],
   "source": [
    "Data(E8).N;"
   ]
  },
  {
   "cell_type": "code",
   "execution_count": null,
   "id": "92e535b0",
   "metadata": {},
   "outputs": [],
   "source": [
    "edges:= Filtered(Data(E8).roots.edges, x-> x[1] <> x[2]);;\n",
    "PlotGraph(edges);"
   ]
  },
  {
   "cell_type": "markdown",
   "id": "6ede1cf7",
   "metadata": {},
   "source": [
    "### Reflections"
   ]
  },
  {
   "cell_type": "code",
   "execution_count": null,
   "id": "5fe211b5",
   "metadata": {},
   "outputs": [],
   "source": [
    "reflections := function(W)\n",
    "    local reflection_from_word;\n",
    "    reflection_from_word := function(w)\n",
    "        return W.(w[1])^Product(Data(W).perms{w{[2..Length(w)]}});\n",
    "    end;\n",
    "    return List(Data(W).roots.words, reflection_from_word);\n",
    "end;"
   ]
  },
  {
   "cell_type": "code",
   "execution_count": null,
   "id": "9e1ef180",
   "metadata": {},
   "outputs": [],
   "source": [
    "A3 := coxeterGroup(cartanMat(\"A\", 3));\n",
    "rr := reflections(A3);"
   ]
  },
  {
   "cell_type": "code",
   "execution_count": null,
   "id": "cfb356b2",
   "metadata": {},
   "outputs": [],
   "source": [
    "Length(rr);"
   ]
  },
  {
   "cell_type": "markdown",
   "id": "14dd34f8",
   "metadata": {},
   "source": [
    "##  Properties"
   ]
  },
  {
   "cell_type": "markdown",
   "id": "7ac5d9fe",
   "metadata": {},
   "source": [
    "* Some Basis properties are now immediate."
   ]
  },
  {
   "cell_type": "markdown",
   "id": "42ee1862",
   "metadata": {},
   "source": [
    "### Length"
   ]
  },
  {
   "cell_type": "markdown",
   "id": "d8dcbbbd",
   "metadata": {},
   "source": [
    "* the **length** of  an element $w \\in W$ is $\\ell(w) = \\#\\{\\alpha \\in \\Phi^{+} : \\alpha.w \\in \\Phi^{-}\\}$"
   ]
  },
  {
   "cell_type": "code",
   "execution_count": null,
   "id": "b0616e96",
   "metadata": {},
   "outputs": [],
   "source": [
    "coxeterLength:= function(W, w)\n",
    "    return Number([1..Data(W).N], i-> i^w > Data(W).N);\n",
    "end;"
   ]
  },
  {
   "cell_type": "code",
   "execution_count": null,
   "id": "eaf0a698",
   "metadata": {},
   "outputs": [],
   "source": [
    "List(Data(E8).perms, w-> coxeterLength(E8, w));"
   ]
  },
  {
   "cell_type": "code",
   "execution_count": null,
   "id": "b53c3656",
   "metadata": {},
   "outputs": [],
   "source": [
    "word:= [5,2,3,8,7,5,3,1,6];\n",
    "perm:= Product(Data(E8).perms{word});\n",
    "coxeterLength(E8, perm);"
   ]
  },
  {
   "cell_type": "code",
   "execution_count": null,
   "id": "fde92441",
   "metadata": {},
   "outputs": [],
   "source": [
    "permCoxeterWord:= function(W, word)\n",
    "    if word = [] then return (); fi;\n",
    "    return Product(Data(W).perms{word});\n",
    "end;"
   ]
  },
  {
   "cell_type": "code",
   "execution_count": null,
   "id": "53dd877e",
   "metadata": {},
   "outputs": [],
   "source": [
    "permCoxeterWord(E8, word);"
   ]
  },
  {
   "cell_type": "markdown",
   "id": "8c4e4f4c",
   "metadata": {},
   "source": [
    "### Descents"
   ]
  },
  {
   "cell_type": "markdown",
   "id": "786384f6",
   "metadata": {},
   "source": [
    "* $s \\in S$ is a **left descent** of $w \\in W$ if $\\ell(sw) < \\ell(w)$, i.e., if $\\alpha_s.w \\in \\Phi^{-}$."
   ]
  },
  {
   "cell_type": "code",
   "execution_count": null,
   "id": "433238de",
   "metadata": {},
   "outputs": [],
   "source": [
    "isLeftDescent:= function(W, w, s)\n",
    "    return s^w > Data(W).N;\n",
    "end;"
   ]
  },
  {
   "cell_type": "code",
   "execution_count": null,
   "id": "a0df6b52",
   "metadata": {},
   "outputs": [],
   "source": [
    "isLeftDescent(E8, perm, 5);\n",
    "isLeftDescent(E8, perm, 2);"
   ]
  },
  {
   "cell_type": "markdown",
   "id": "e358d878",
   "metadata": {},
   "source": [
    "### Reduced Expressions"
   ]
  },
  {
   "cell_type": "markdown",
   "id": "33982286",
   "metadata": {},
   "source": [
    "* perm -> word:  $w$ as a word in $S$ is a sequence of left descents."
   ]
  },
  {
   "cell_type": "code",
   "execution_count": null,
   "id": "159ea128",
   "metadata": {},
   "outputs": [],
   "source": [
    "coxeterWord:= function(W, w)\n",
    "    local word, a;\n",
    "    word:= [];\n",
    "    while w <> () do\n",
    "        a:= First([1..Data(W).rank], s-> isLeftDescent(W, w, s));\n",
    "        Add(word, a); w:= Data(W).perms[a] * w;\n",
    "    od;\n",
    "    return word;\n",
    "end;"
   ]
  },
  {
   "cell_type": "code",
   "execution_count": null,
   "id": "cd36394f",
   "metadata": {},
   "outputs": [],
   "source": [
    "reduced:= coxeterWord(E8, perm);"
   ]
  },
  {
   "cell_type": "code",
   "execution_count": null,
   "id": "5ebf11a2",
   "metadata": {},
   "outputs": [],
   "source": [
    "permCoxeterWord(E8, reduced) = perm;"
   ]
  },
  {
   "cell_type": "markdown",
   "id": "203e0073",
   "metadata": {},
   "source": [
    "* to find a reduced expression of any word in $S$, convert word -> perm and perm -> word."
   ]
  },
  {
   "cell_type": "code",
   "execution_count": null,
   "id": "2a3748c0",
   "metadata": {},
   "outputs": [],
   "source": [
    "reducedWord:= function(W, word)\n",
    "    return coxeterWord(W, permCoxeterWord(W, word));\n",
    "end;"
   ]
  },
  {
   "cell_type": "code",
   "execution_count": null,
   "id": "0adbe859",
   "metadata": {},
   "outputs": [],
   "source": [
    "word;\n",
    "reducedWord(E8, word);"
   ]
  },
  {
   "cell_type": "markdown",
   "id": "cebc0d34",
   "metadata": {},
   "source": [
    "### Longest Elements"
   ]
  },
  {
   "cell_type": "markdown",
   "id": "e4ece1ac",
   "metadata": {},
   "source": [
    "* Longest elements.  For each $J \\subseteq S$ there is one, $w_J$, a product of non-descents. "
   ]
  },
  {
   "cell_type": "code",
   "execution_count": null,
   "id": "3fe17fed",
   "metadata": {},
   "outputs": [],
   "source": [
    "longestElement:= function(W, J)\n",
    "    local  wJ,  s;\n",
    "    wJ:= ();\n",
    "    while true do\n",
    "        s:= First(J, s-> not isLeftDescent(W, wJ, s));\n",
    "        if s = fail then  return wJ;  fi;\n",
    "        wJ:= W.(s) * wJ;\n",
    "    od;\n",
    "end;"
   ]
  },
  {
   "cell_type": "code",
   "execution_count": null,
   "id": "b6fcc6ac",
   "metadata": {},
   "outputs": [],
   "source": [
    "J:= [4,5,6];\n",
    "wJ:= longestElement(E8, J);\n",
    "coxeterWord(E8, wJ);"
   ]
  },
  {
   "cell_type": "markdown",
   "id": "767b783b",
   "metadata": {},
   "source": [
    "* $w_J$ acts as a graph automorphism on $W_J$."
   ]
  },
  {
   "cell_type": "code",
   "execution_count": null,
   "id": "7c6bedad",
   "metadata": {},
   "outputs": [],
   "source": [
    "w6:= longestElement(E8, [1..6]);\n",
    "Permutation(w6, Data(E8).perms{[1..6]}, OnPoints);"
   ]
  },
  {
   "cell_type": "markdown",
   "id": "39bbe1ce",
   "metadata": {},
   "source": [
    "###  Prefixes"
   ]
  },
  {
   "cell_type": "markdown",
   "id": "05c56704",
   "metadata": {},
   "source": [
    "* Prefixes (aka weak Bruhat Order): $u \\in W$ is a **prefix** of $w \\in W$ if $\\ell(u) + \\ell(u^{-1} w) = \\ell(w)$, i.e., if $w = uv$ with $\\ell(w) = \\ell(u) = \\ell(v)$.\n",
    "The set of all prefixes of $w$ is the **orbit (!)** of $w$ under the action $(w, s) \\mapsto ws$ if $\\ell(ws) < \\ell(w)$, and $w$ else."
   ]
  },
  {
   "cell_type": "code",
   "execution_count": null,
   "id": "5d8b9313",
   "metadata": {},
   "outputs": [],
   "source": [
    "prefixes:= function(W, w)\n",
    "    local onRightDescents;\n",
    "\n",
    "    onRightDescents:= function(w, s)\n",
    "        if isLeftDescent(W, w^-1, s) then\n",
    "            return w * W.(s);\n",
    "        else\n",
    "            return w;\n",
    "        fi;\n",
    "    end;\n",
    "\n",
    "    return orbit([1..Data(W).rank], w, onRightDescents);\n",
    "end;"
   ]
  },
  {
   "cell_type": "code",
   "execution_count": null,
   "id": "d881bee0",
   "metadata": {},
   "outputs": [],
   "source": [
    "w:= longestElement(E8, [4,5]);;\n",
    "pre:= prefixes(E8, w);;\n",
    "List(pre, x-> CoxeterWord(E8, x));"
   ]
  },
  {
   "cell_type": "markdown",
   "id": "398e27ed",
   "metadata": {},
   "source": [
    "### Distinguished Coset Representatives"
   ]
  },
  {
   "cell_type": "markdown",
   "id": "81421693",
   "metadata": {},
   "source": [
    "* A coset $W_J w$ of a parabolic subgroup $W_J$ of $W$ contains a **unique element of minimal length**.\n",
    "* The parabolic subgroup thus has a **distinguished transversal** $X_J = \\{ x \\in W : \\ell(ux) = \\ell(u) + \\ell(x) \\text{ for all } u \\in W_J \\}$.\n",
    "* $X_J$ is the set of prefixes of the **longest coset representative** $d_J = w_J w_S$."
   ]
  },
  {
   "cell_type": "code",
   "execution_count": null,
   "id": "e846e818",
   "metadata": {},
   "outputs": [],
   "source": [
    "prefixes_with_edges:= function(W, w)\n",
    "    local onRightDescents;\n",
    "\n",
    "    onRightDescents:= function(w, s)\n",
    "        if isLeftDescent(W, w^-1, s) then\n",
    "            return w * W.(s);\n",
    "        else\n",
    "            return w;\n",
    "        fi;\n",
    "    end;\n",
    "\n",
    "    return orbit_with_edges([1..Data(W).rank], w, onRightDescents);\n",
    "end;"
   ]
  },
  {
   "cell_type": "code",
   "execution_count": null,
   "id": "a3302a40",
   "metadata": {},
   "outputs": [],
   "source": [
    "J:= [1..6]; K := [1..7];\n",
    "wJ:= longestElement(E8, J);;\n",
    "wK:= longestElement(E8, K);;\n",
    "dJ:= wJ * wK;\n",
    "XJ:= prefixes_with_edges(E8, dJ);;"
   ]
  },
  {
   "cell_type": "code",
   "execution_count": null,
   "id": "0af3d07e",
   "metadata": {},
   "outputs": [],
   "source": [
    "edges := Filtered(XJ.edges, x-> x[1] <> x[2]);;\n",
    "PlotGraph(edges, opts);"
   ]
  },
  {
   "cell_type": "markdown",
   "id": "07008291",
   "metadata": {},
   "source": [
    "* Let's wrap $d_J^L = w_J w_L$ into a short function."
   ]
  },
  {
   "cell_type": "code",
   "execution_count": null,
   "id": "9c5c94ad",
   "metadata": {},
   "outputs": [],
   "source": [
    "longestCosetElement:= function(W, J, L)\n",
    "    return longestElement(W, J) * longestElement(W, L);\n",
    "end;"
   ]
  },
  {
   "cell_type": "code",
   "execution_count": null,
   "id": "ccd87f16",
   "metadata": {},
   "outputs": [],
   "source": [
    "coxeterWord(E8, longestCosetElement(E8, J, K));"
   ]
  },
  {
   "cell_type": "markdown",
   "id": "0176e7f1",
   "metadata": {},
   "source": [
    "##  Shapes: Classes of Parabolic Subgroups"
   ]
  },
  {
   "cell_type": "markdown",
   "id": "5b643c4e",
   "metadata": {},
   "source": [
    "* $W$ acts on its subgroups by conjugations, in particular on its parabolic subgroups.\n",
    "* The set of standard parabolic subgroups $W_J$, $J \\subseteq S$ is thus partitioned into **shapes**: classes of conjugate parabolics."
   ]
  },
  {
   "cell_type": "markdown",
   "id": "622e1913",
   "metadata": {},
   "source": [
    "* Obviously, if $L = J \\cup \\{s\\}$ for some $s \\in S \\setminus J$ then conjugation by $d_J^L$ maps $W_J$ to\n",
    "$W_K$ for some $K \\subseteq L$.  In fact, $K = J^{d_J^L}$."
   ]
  },
  {
   "cell_type": "markdown",
   "id": "d17e7c84",
   "metadata": {},
   "source": [
    "* **Theorem** (Lusztig-Spaltenstein, Howlett, Deodhar) The shape of $W_J$ is the $S^*$-orbit of $W_J$ under the above action."
   ]
  },
  {
   "cell_type": "code",
   "execution_count": null,
   "id": "da2538ce",
   "metadata": {},
   "outputs": [],
   "source": [
    "tackOn := function(x, s)\n",
    "    return Union(x, [s]);\n",
    "end;"
   ]
  },
  {
   "cell_type": "code",
   "execution_count": null,
   "id": "a6c5a5e0",
   "metadata": {},
   "outputs": [],
   "source": [
    "tackOn([1,3,5], 4);"
   ]
  },
  {
   "cell_type": "code",
   "execution_count": null,
   "id": "13ecbbd6",
   "metadata": {},
   "outputs": [],
   "source": [
    "shape := function(W, J)\n",
    "    local onParabolics;\n",
    "    onParabolics := function(K, s)\n",
    "        return OnSets(K, longestCosetElement(W, K, tackOn(K, s)));\n",
    "    end;\n",
    "    return orbit([1..Data(W).rank], J, onParabolics);\n",
    "end;"
   ]
  },
  {
   "cell_type": "code",
   "execution_count": null,
   "id": "5c54487a",
   "metadata": {},
   "outputs": [],
   "source": [
    "shape(E8, [1,3]);"
   ]
  },
  {
   "cell_type": "markdown",
   "id": "326a3bb6",
   "metadata": {},
   "source": [
    " * Denote by $\\Lambda$ the set of all shapes of $W$.\n",
    " * Recall how the power set $2^S$ is the orbit of $S^*$ under the `takeAway` action.\n",
    " * $\\Lambda$ is the $S^*$-orbit of the shape $\\{S\\}$ under that same action."
   ]
  },
  {
   "cell_type": "code",
   "execution_count": null,
   "id": "5f3fa6c2",
   "metadata": {},
   "outputs": [],
   "source": [
    "takeAway:= function(x, s)\n",
    "    return Difference(x, [s]);\n",
    "end;"
   ]
  },
  {
   "cell_type": "code",
   "execution_count": null,
   "id": "34b672f0",
   "metadata": {},
   "outputs": [],
   "source": [
    "shapes := function(W)\n",
    "    local onShapes, S;\n",
    "    onShapes := function(x, s)\n",
    "        return Set(shape(W, takeAway(x[1], s)));\n",
    "    end;\n",
    "    S := [1..Data(W).rank];\n",
    "    return orbit(S, shape(W, S), onShapes);\n",
    "end;"
   ]
  },
  {
   "cell_type": "code",
   "execution_count": null,
   "id": "aba9ec24",
   "metadata": {},
   "outputs": [],
   "source": [
    "sss := shapes(E8);"
   ]
  },
  {
   "cell_type": "code",
   "execution_count": null,
   "id": "98f2836d",
   "metadata": {},
   "outputs": [],
   "source": [
    "Sum(sss, Length);"
   ]
  },
  {
   "cell_type": "markdown",
   "id": "01a76c83",
   "metadata": {},
   "source": [
    "* A shape has a graph."
   ]
  },
  {
   "cell_type": "code",
   "execution_count": null,
   "id": "f2cc68b9",
   "metadata": {},
   "outputs": [],
   "source": [
    "shape_with_edges := function(W, J)\n",
    "    local onParabolics;\n",
    "    onParabolics := function(K, s)\n",
    "        return OnSets(K, longestCosetElement(W, K, tackOn(K, s)));\n",
    "    end;\n",
    "    return orbit_with_edges([1..Data(W).rank], J, onParabolics);\n",
    "end;"
   ]
  },
  {
   "cell_type": "code",
   "execution_count": null,
   "id": "0f214229",
   "metadata": {},
   "outputs": [],
   "source": [
    "sh := shape_with_edges(E8, [1,3,4]);"
   ]
  },
  {
   "cell_type": "code",
   "execution_count": null,
   "id": "ba6712d7",
   "metadata": {},
   "outputs": [],
   "source": [
    "edges := Filtered(sh.edges, x-> x[1] <> x[2]);;\n",
    "PlotGraph(edges);"
   ]
  },
  {
   "cell_type": "markdown",
   "id": "f6f639fe",
   "metadata": {},
   "source": [
    "* In order to compute a transversal for the shape, we need to modify the algorithm.\n",
    "* We need to adjust for the fact that a generator $s \\in S \\subseteq \\mathbb{N}$ merely represents a conjugating element $d_K d_L \\in W$, which even depends on the context.\n",
    "* We might as well also take into account, that for the current parabolic $K$ only $s \\notin K$ needs to be considered."
   ]
  },
  {
   "cell_type": "code",
   "execution_count": null,
   "id": "7ab6b094",
   "metadata": {},
   "outputs": [],
   "source": [
    "shape_with_transversal := function(W, J)\n",
    "    local   S,  list,  reps,  i,  K,  s,  a,  L;\n",
    "    S := [1..Data(W).rank];  list:= [J];  reps:= [()];  i:= 0;\n",
    "    while i < Length(list) do\n",
    "        i := i+1;  K := list[i];\n",
    "        for s in Difference(S, K) do\n",
    "            a := longestCosetElement(W, K, tackOn(K, s));\n",
    "            L := OnSets(K, a);\n",
    "            if not L in list then\n",
    "                Add(list, L);\n",
    "                Add(reps, reps[i] * a);\n",
    "            fi;\n",
    "        od;\n",
    "    od;\n",
    "    return rec(list:= list, reps:= reps);\n",
    "end;"
   ]
  },
  {
   "cell_type": "markdown",
   "id": "44ccf36e",
   "metadata": {},
   "source": [
    "##  Normalizers of Parabolic Subgroups"
   ]
  },
  {
   "cell_type": "markdown",
   "id": "6130f3f8",
   "metadata": {},
   "source": [
    "* **Theorem** (Howlett's Lemma)  Let $W$ be a reflection group on $V = \\mathbb{R}^n$ with $W ⊴ G ≤ O(V)$. Then $W$ has a complement $H$ in $G$\n",
    "* In particular, $N_W(W_J) = W_J : N_J$.\n",
    "* In fact, $N_J$ is the **stabilizer** of $J$ in the action of $S^*$ on parabolics."
   ]
  },
  {
   "cell_type": "code",
   "execution_count": null,
   "id": "a413d524",
   "metadata": {},
   "outputs": [],
   "source": [
    "parabolicComplement:= function(W, J)\n",
    "    local   S,  list,  reps,  i,  gens,  K,  s,  a,  L,  j;\n",
    "    S := [1..Data(W).rank];  list := [J];  reps := [()];\n",
    "    gens := rec(ears := [], eyes := []);\n",
    "    i := 0;\n",
    "    while i < Length(list) do\n",
    "        i := i+1;  K := list[i];\n",
    "        for s in Difference(S, K) do\n",
    "            a := longestCosetElement(W, K, tackOn(K, s));\n",
    "            L := OnSets(K, a);  j := Position(list, L);\n",
    "            if j = fail then\n",
    "                Add(list, L);\n",
    "                Add(reps, reps[i] * a);\n",
    "            elif j = i then\n",
    "                AddSet(gens.ears, reps[i] * a * reps[i]^-1);\n",
    "            else\n",
    "                AddSet(gens.eyes, reps[i] * a * reps[j]^-1);\n",
    "            fi;\n",
    "        od;\n",
    "    od;\n",
    "    return gens;\n",
    "end;\n"
   ]
  },
  {
   "cell_type": "code",
   "execution_count": null,
   "id": "bf396892",
   "metadata": {},
   "outputs": [],
   "source": [
    "parabolicComplement(E8, [1,3,4]);"
   ]
  },
  {
   "cell_type": "markdown",
   "id": "0523b189",
   "metadata": {},
   "source": [
    "..."
   ]
  },
  {
   "cell_type": "markdown",
   "id": "2c2e5a6d",
   "metadata": {},
   "source": [
    "##  Conjugacy Class by Length"
   ]
  },
  {
   "cell_type": "markdown",
   "id": "8f511713",
   "metadata": {},
   "source": [
    "## Cyclic Shifts and Minimal Length Representatives"
   ]
  },
  {
   "cell_type": "code",
   "execution_count": null,
   "id": "5883b195",
   "metadata": {},
   "outputs": [],
   "source": [
    "byCyclicShift:= function(w, s)\n",
    "    local y;\n",
    "    y:= w^s;\n",
    "    if coxeterLength(W, y) = coxeterLength(W, w) then\n",
    "        return y;\n",
    "    fi;\n",
    "    return w;\n",
    "end;"
   ]
  },
  {
   "cell_type": "markdown",
   "id": "63e39d35",
   "metadata": {},
   "source": [
    "##  Involutions?"
   ]
  },
  {
   "cell_type": "code",
   "execution_count": null,
   "id": "89f0614a",
   "metadata": {},
   "outputs": [],
   "source": [
    "E7 := coxeterGroup(cartanMat(\"E\", 7));;"
   ]
  },
  {
   "cell_type": "code",
   "execution_count": null,
   "id": "50a60e2f",
   "metadata": {},
   "outputs": [],
   "source": [
    "cc := conjugacyClasses(E7);;\n",
    "Length(cc);\n",
    "Sum(cc, Size);"
   ]
  },
  {
   "cell_type": "code",
   "execution_count": null,
   "id": "adc6b077",
   "metadata": {},
   "outputs": [],
   "source": [
    "onInvolutions := function(x, s)\n",
    "    if x * s = s * x then return OnRight(x, s); fi;\n",
    "    return OnPoints(x, s);\n",
    "end;"
   ]
  },
  {
   "cell_type": "code",
   "execution_count": null,
   "id": "59144f3a",
   "metadata": {},
   "outputs": [],
   "source": [
    "invos := orbit(Data(E7).perms, (), onInvolutions);;\n",
    "Length(invos);"
   ]
  },
  {
   "cell_type": "code",
   "execution_count": null,
   "id": "7150541d",
   "metadata": {},
   "outputs": [],
   "source": [
    "onInvolutionClasses:= function(x, a)\n",
    "    local y;\n",
    "    y:= Representative(x);\n",
    "    if y^a <> y then return x; fi;\n",
    "    return OnRight(y, a)^ActingDomain(x);\n",
    "end;"
   ]
  },
  {
   "cell_type": "code",
   "execution_count": null,
   "id": "b6a57ec3",
   "metadata": {},
   "outputs": [],
   "source": [
    "involutionClasses := function(group)\n",
    "    local gens;\n",
    "    gens:= GeneratorsOfGroup(group);\n",
    "    return orbit(orbits(gens, gens, OnPoints), Identity(group)^group, onInvolutionClasses);\n",
    "end;"
   ]
  },
  {
   "cell_type": "code",
   "execution_count": null,
   "id": "1e0b2be7",
   "metadata": {},
   "outputs": [],
   "source": [
    "invos := involutionClasses(E7);;\n",
    "Length(invos);\n",
    "Sum(invos, Size);"
   ]
  },
  {
   "cell_type": "markdown",
   "id": "ca267592",
   "metadata": {},
   "source": [
    "## Exercises, etc."
   ]
  },
  {
   "cell_type": "markdown",
   "id": "88e737f0",
   "metadata": {},
   "source": [
    "* Prove that $\\Lambda$ is an orbit under `takeAway`.\n",
    "* Prove that the complement $N_J$ is a stabiliser under `onParabolics`.\n",
    "* Find an efficient way to enumerate **double cosets** $X_{JK} = X_J \\cap X_K^{-1}$, $J, K \\subseteq S$."
   ]
  },
  {
   "cell_type": "code",
   "execution_count": null,
   "id": "257cb763",
   "metadata": {},
   "outputs": [],
   "source": []
  }
 ],
 "metadata": {
  "kernelspec": {
   "display_name": "GAP 4",
   "language": "gap",
   "name": "gap-4"
  },
  "language_info": {
   "codemirror_mode": "gap",
   "file_extension": ".g",
   "mimetype": "text/x-gap",
   "name": "GAP 4",
   "nbconvert_exporter": "",
   "pygments_lexer": "gap",
   "version": "4.12.2"
  }
 },
 "nbformat": 4,
 "nbformat_minor": 5
}
