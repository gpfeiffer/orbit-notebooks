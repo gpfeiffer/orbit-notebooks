{
 "cells": [
  {
   "cell_type": "markdown",
   "id": "90599f92",
   "metadata": {},
   "source": [
    "### Real, Complex and Symplectic Reflection Groups - March 2023, RUB\n",
    "\n",
    "## Computational Aspects of Complex Reflection Groups\n",
    "\n",
    "Götz Pfeiffer - University of Galway\n",
    "\n",
    "# 4. Vectors: Enumerating Modules and Hecke Algebras"
   ]
  },
  {
   "cell_type": "markdown",
   "id": "7b96c041",
   "metadata": {},
   "source": [
    "![Benches](images/benches.jpg)"
   ]
  },
  {
   "cell_type": "markdown",
   "id": "16e7de83",
   "metadata": {},
   "source": [
    "## Setup"
   ]
  },
  {
   "cell_type": "markdown",
   "id": "bb2af4b0",
   "metadata": {},
   "source": [
    "First, reload the algorithms from the last day ..."
   ]
  },
  {
   "cell_type": "code",
   "execution_count": null,
   "id": "b274640f",
   "metadata": {},
   "outputs": [],
   "source": [
    "LoadPackage(\"jupyterviz\");\n",
    "opts := rec(vertexwidth := 12, vertexheight := 12, edgecolor := \"#def\");;\n",
    "Read(\"orbits.g\");"
   ]
  },
  {
   "cell_type": "markdown",
   "id": "07a2bc9e",
   "metadata": {},
   "source": [
    "##  Spinning: $K$-Linear Orbit Algorithm"
   ]
  },
  {
   "cell_type": "markdown",
   "id": "f8618cbd",
   "metadata": {},
   "source": [
    "* In the **linear** version, the points of an orbit are linearly independent vectors in $K^n$.\n",
    "* And the acting operators are like matrices in $K^{n\\times n}$."
   ]
  },
  {
   "cell_type": "code",
   "execution_count": null,
   "id": "3a92f7f4",
   "metadata": {},
   "outputs": [],
   "source": [
    "spinning :=  function(aaa, x, under)\n",
    "    local list,  a,  y,  z;\n",
    "    list := [x];\n",
    "    for y in list do\n",
    "        for a in aaa do\n",
    "            z := under(y, a);\n",
    "            if not z in VectorSpace(Rationals, list) then\n",
    "                Add(list, z);\n",
    "            fi;\n",
    "        od;\n",
    "    od;\n",
    "    return list;\n",
    "end;"
   ]
  },
  {
   "cell_type": "markdown",
   "id": "e4c56ab6",
   "metadata": {},
   "source": [
    "* Example"
   ]
  },
  {
   "cell_type": "code",
   "execution_count": null,
   "id": "9379984e",
   "metadata": {},
   "outputs": [],
   "source": [
    "A := [\n",
    "[0,1,0,0,0],\n",
    "[0,0,1,0,0],\n",
    "[0,0,0,1,0],\n",
    "[0,0,0,0,1],\n",
    "-[1,1,1,1,1],\n",
    "];"
   ]
  },
  {
   "cell_type": "code",
   "execution_count": null,
   "id": "61ee2523",
   "metadata": {},
   "outputs": [],
   "source": [
    "spinning([A], [0,0,1,0,0], OnRight);"
   ]
  },
  {
   "cell_type": "code",
   "execution_count": null,
   "id": "5b46c038",
   "metadata": {},
   "outputs": [],
   "source": [
    "spinning([A], [1,1,0,1,1], OnRight);"
   ]
  },
  {
   "cell_type": "code",
   "execution_count": null,
   "id": "2314e4b1",
   "metadata": {},
   "outputs": [],
   "source": [
    "spinning([A], [1,0,1,0,1], OnRight);"
   ]
  },
  {
   "cell_type": "markdown",
   "id": "e0a5280f",
   "metadata": {},
   "source": [
    "* Example $G(3,3,3)$."
   ]
  },
  {
   "cell_type": "code",
   "execution_count": null,
   "id": "95fb0328",
   "metadata": {},
   "outputs": [],
   "source": []
  },
  {
   "cell_type": "markdown",
   "id": "239f1308",
   "metadata": {},
   "source": [
    "### Example: Specht-Module"
   ]
  },
  {
   "cell_type": "markdown",
   "id": "280c5eb8",
   "metadata": {},
   "source": [
    "## Exercises, etc."
   ]
  },
  {
   "cell_type": "markdown",
   "id": "794099bb",
   "metadata": {},
   "source": [
    "* Expand `spinning` into `spinning_with_matrices` ...\n",
    "* Compute representing matrices for the generators acting on the Specht module."
   ]
  },
  {
   "cell_type": "code",
   "execution_count": null,
   "id": "2a768949",
   "metadata": {},
   "outputs": [],
   "source": []
  }
 ],
 "metadata": {
  "kernelspec": {
   "display_name": "GAP 4",
   "language": "gap",
   "name": "gap-4"
  },
  "language_info": {
   "codemirror_mode": "gap",
   "file_extension": ".g",
   "mimetype": "text/x-gap",
   "name": "GAP 4",
   "nbconvert_exporter": "",
   "pygments_lexer": "gap",
   "version": "4.12.2"
  }
 },
 "nbformat": 4,
 "nbformat_minor": 5
}
