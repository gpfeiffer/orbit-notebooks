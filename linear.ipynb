{
 "cells": [
  {
   "cell_type": "markdown",
   "id": "90599f92",
   "metadata": {},
   "source": [
    "### Real, Complex and Symplectic Reflection Groups - March 2023, RUB\n",
    "\n",
    "## Computational Aspects of Complex Reflection Groups\n",
    "\n",
    "Götz Pfeiffer - University of Galway\n",
    "\n",
    "# 4. Vectors: Enumerating Modules and Hecke Algebras"
   ]
  },
  {
   "cell_type": "markdown",
   "id": "7b96c041",
   "metadata": {},
   "source": [
    "![Benches](images/benches.jpg)"
   ]
  },
  {
   "cell_type": "markdown",
   "id": "16e7de83",
   "metadata": {},
   "source": [
    "## Setup"
   ]
  },
  {
   "cell_type": "markdown",
   "id": "bb2af4b0",
   "metadata": {},
   "source": [
    "First, reload the algorithms from the last day ..."
   ]
  },
  {
   "cell_type": "code",
   "execution_count": null,
   "id": "b274640f",
   "metadata": {},
   "outputs": [],
   "source": [
    "LoadPackage(\"jupyterviz\");\n",
    "opts := rec(vertexwidth := 12, vertexheight := 12, edgecolor := \"#def\");;\n",
    "Read(\"orbits.g\");\n",
    "Read(\"coxeter.g\");"
   ]
  },
  {
   "cell_type": "markdown",
   "id": "07a2bc9e",
   "metadata": {},
   "source": [
    "##  Spinning: $K$-Linear Orbit Algorithm"
   ]
  },
  {
   "cell_type": "markdown",
   "id": "f8618cbd",
   "metadata": {},
   "source": [
    "* In the **linear** version, the points of an orbit are linearly independent vectors in $K^n$.\n",
    "* And the acting operators are like matrices in $K^{n\\times n}$."
   ]
  },
  {
   "cell_type": "code",
   "execution_count": null,
   "id": "3a92f7f4",
   "metadata": {},
   "outputs": [],
   "source": [
    "spinning :=  function(aaa, x, under)\n",
    "    local list,  a,  y,  z;\n",
    "    list := [x];\n",
    "    for y in list do\n",
    "        for a in aaa do\n",
    "            z := under(y, a);\n",
    "            if not z in VectorSpace(Rationals, list) then\n",
    "                Add(list, z);\n",
    "            fi;\n",
    "        od;\n",
    "    od;\n",
    "    return list;\n",
    "end;"
   ]
  },
  {
   "cell_type": "markdown",
   "id": "e4c56ab6",
   "metadata": {},
   "source": [
    "### Example"
   ]
  },
  {
   "cell_type": "code",
   "execution_count": null,
   "id": "9379984e",
   "metadata": {},
   "outputs": [],
   "source": [
    "A := [\n",
    "[0,1,0,0,0],\n",
    "[0,0,1,0,0],\n",
    "[0,0,0,1,0],\n",
    "[0,0,0,0,1],\n",
    "-[1,1,1,1,1],\n",
    "];"
   ]
  },
  {
   "cell_type": "code",
   "execution_count": null,
   "id": "61ee2523",
   "metadata": {},
   "outputs": [],
   "source": [
    "spinning([A], [0,0,1,0,0], OnRight);"
   ]
  },
  {
   "cell_type": "code",
   "execution_count": null,
   "id": "5b46c038",
   "metadata": {},
   "outputs": [],
   "source": [
    "spinning([A], [1,1,0,1,1], OnRight);"
   ]
  },
  {
   "cell_type": "code",
   "execution_count": null,
   "id": "2314e4b1",
   "metadata": {},
   "outputs": [],
   "source": [
    "spinning([A], [1,0,1,0,1], OnRight);"
   ]
  },
  {
   "cell_type": "markdown",
   "id": "e0a5280f",
   "metadata": {},
   "source": [
    "* Example $G(3,3,3)$."
   ]
  },
  {
   "cell_type": "code",
   "execution_count": null,
   "id": "95fb0328",
   "metadata": {},
   "outputs": [],
   "source": []
  },
  {
   "cell_type": "markdown",
   "id": "ab28ef0c",
   "metadata": {},
   "source": [
    "##  Spinning with Images"
   ]
  },
  {
   "cell_type": "markdown",
   "id": "851f6c00",
   "metadata": {},
   "source": [
    "* We will need to be able to convert between sparse and dense representations of vectors."
   ]
  },
  {
   "cell_type": "code",
   "execution_count": null,
   "id": "af114fb4",
   "metadata": {},
   "outputs": [],
   "source": [
    "sparseVec:= function(vec)\n",
    "    local   poss;\n",
    "    poss:= PositionsProperty(vec, v -> v <> Zero(v));\n",
    "    return rec(pos := poss,  val:= vec{poss});\n",
    "end;\n",
    "\n",
    "denseVec:= function(l, v)\n",
    "    local   vec;\n",
    "    vec := 0*[1..l];  vec{v.pos} := v.val;\n",
    "    return vec;\n",
    "end;"
   ]
  },
  {
   "cell_type": "code",
   "execution_count": null,
   "id": "ed2b75d5",
   "metadata": {},
   "outputs": [],
   "source": [
    "vec := [0,0,1,1,0];\n",
    "v := sparseVec(vec);"
   ]
  },
  {
   "cell_type": "code",
   "execution_count": null,
   "id": "b1e6a66d",
   "metadata": {},
   "outputs": [],
   "source": [
    "denseVec(Length(vec), v) = vec;"
   ]
  },
  {
   "cell_type": "markdown",
   "id": "64f55f42",
   "metadata": {},
   "source": [
    "* spinning with images (cf. orbit with images)\n",
    "\n",
    "* In the linear version the images are vectors: linear combination of the base points."
   ]
  },
  {
   "cell_type": "code",
   "execution_count": null,
   "id": "8d87b8a5",
   "metadata": {},
   "outputs": [],
   "source": [
    "spinning_with_images :=  function(aaa, x, under)\n",
    "    local   list,  images,  i,  y,  k,  a,  z,  v;\n",
    "    list := [x];  images := List(aaa, x-> []);  i := 0;\n",
    "    while i < Length(list) do\n",
    "        i := i+1;  y := list[i];\n",
    "        for k in [1..Length(aaa)] do\n",
    "            a := aaa[k];  z := under(y, a);\n",
    "            v := SolutionMat(list, z);\n",
    "            if v = fail then\n",
    "                Add(list, z);\n",
    "                v := rec(pos := [Length(list)], val := [1]);\n",
    "            else\n",
    "                v := sparseVec(v);\n",
    "            fi;\n",
    "            images[k][i]:= v;\n",
    "        od;\n",
    "    od;\n",
    "    return rec(list := list, images := images);\n",
    "end;"
   ]
  },
  {
   "cell_type": "markdown",
   "id": "239f1308",
   "metadata": {},
   "source": [
    "### Example: Specht-Module"
   ]
  },
  {
   "cell_type": "markdown",
   "id": "b6feb437",
   "metadata": {},
   "source": [
    "* Everybody knows that Specht modules are made of Standard Young Tableaus ...\n",
    "* Here is a random one, of shape $\\lambda = (2,2,1)$ (for the rest see the exercise on SYTs in part 1)."
   ]
  },
  {
   "cell_type": "code",
   "execution_count": null,
   "id": "2a768949",
   "metadata": {},
   "outputs": [],
   "source": [
    "tab := [\n",
    "  [1,4],\n",
    "  [2,5],\n",
    "  [3],\n",
    "];"
   ]
  },
  {
   "cell_type": "markdown",
   "id": "05d72aa0",
   "metadata": {},
   "source": [
    "* and the corresponding symmetric group"
   ]
  },
  {
   "cell_type": "code",
   "execution_count": null,
   "id": "830d91e9",
   "metadata": {},
   "outputs": [],
   "source": [
    "N := Sum(tab, Length);;  gens := transpositions(N);"
   ]
  },
  {
   "cell_type": "markdown",
   "id": "be1a7db1",
   "metadata": {},
   "source": [
    "* each tableau (standard or not) yields a (row) word, recording for each number the row it is in."
   ]
  },
  {
   "cell_type": "code",
   "execution_count": null,
   "id": "4c0f8f3c",
   "metadata": {},
   "outputs": [],
   "source": [
    "wordTab := function(tab)\n",
    "    local   word,  i;\n",
    "    word := [];\n",
    "    for i in [1..Length(tab)] do\n",
    "        word{tab[i]} := 0*tab[i] + i;\n",
    "    od;\n",
    "    return word;\n",
    "end;"
   ]
  },
  {
   "cell_type": "code",
   "execution_count": null,
   "id": "9b41c019",
   "metadata": {},
   "outputs": [],
   "source": [
    "wordTab(tab);"
   ]
  },
  {
   "cell_type": "markdown",
   "id": "15058a87",
   "metadata": {},
   "source": [
    "* the column stabilizer is the stabilizer of the column word.\n",
    "* the orbit of a tableau under the column stabilizer is a (column) tabloid."
   ]
  },
  {
   "cell_type": "code",
   "execution_count": null,
   "id": "2e6562cb",
   "metadata": {},
   "outputs": [],
   "source": [
    "colWord := wordTab(TransposedMat(tab));\n",
    "stab := takeAway(orbit_with_stabilizer(gens, colWord, Permuted).stab, ());\n",
    "tabs := orbit_with_transversal(stab, tab, OnTuplesTuples);"
   ]
  },
  {
   "cell_type": "markdown",
   "id": "21123c2d",
   "metadata": {},
   "source": [
    "* the symmetric group acts on the row words"
   ]
  },
  {
   "cell_type": "code",
   "execution_count": null,
   "id": "426d750f",
   "metadata": {},
   "outputs": [],
   "source": [
    "orb := orbit_with_images(gens, wordTab(tab), Permuted);\n",
    "words := orb.list;;\n",
    "perms := List(orb.images, PermList);"
   ]
  },
  {
   "cell_type": "markdown",
   "id": "9b738977",
   "metadata": {},
   "source": [
    "* the polytabloid is a signed combination of tabloids, written as a vector in the permutation module."
   ]
  },
  {
   "cell_type": "code",
   "execution_count": null,
   "id": "fa0f2c80",
   "metadata": {},
   "outputs": [],
   "source": [
    "vec := List(words, x-> 0);\n",
    "for i in [1..Length(tabs.list)] do\n",
    "    vec[Position(words, wordTab(tabs.list[i]))] := SignPerm(tabs.reps[i]);\n",
    "od;"
   ]
  },
  {
   "cell_type": "markdown",
   "id": "42d8b12e",
   "metadata": {},
   "source": [
    "* apply spinning to our polytabloid"
   ]
  },
  {
   "cell_type": "code",
   "execution_count": null,
   "id": "6b7e4e0b",
   "metadata": {},
   "outputs": [],
   "source": [
    "vvv:= spinning_with_images(perms, vec, Permuted);"
   ]
  },
  {
   "cell_type": "markdown",
   "id": "a47bebe6",
   "metadata": {},
   "source": [
    "* how to convert a list of sparse vectors into a matrix (cf. `PermList`)"
   ]
  },
  {
   "cell_type": "code",
   "execution_count": null,
   "id": "714c935c",
   "metadata": {},
   "outputs": [],
   "source": [
    "mat_list:= list -> List(list, v -> denseVec(Length(list), v));"
   ]
  },
  {
   "cell_type": "code",
   "execution_count": null,
   "id": "c5cd4b3f",
   "metadata": {},
   "outputs": [],
   "source": [
    "mats := List(vvv.images, mat_list);"
   ]
  },
  {
   "cell_type": "code",
   "execution_count": null,
   "id": "42bc70f2",
   "metadata": {},
   "outputs": [],
   "source": [
    "for m in mats do PrintArray(m);  Print(\"\\n\"); od;"
   ]
  },
  {
   "cell_type": "markdown",
   "id": "912cf413",
   "metadata": {},
   "source": [
    "## Schreier Matrices and the Group Algebra"
   ]
  },
  {
   "cell_type": "markdown",
   "id": "17f37ef3",
   "metadata": {},
   "source": [
    "* Another way to produce matrices from an orbit is to read the resulting permutations as **permutation matrices**.\n",
    "* Or, to use the Schreier generators as entries, rather than just $1$."
   ]
  },
  {
   "cell_type": "code",
   "execution_count": null,
   "id": "a687ce59",
   "metadata": {},
   "outputs": [],
   "source": [
    "gens := transpositions(4);;\n",
    "orb := orbit_with_images(gens, 4, OnPoints);;\n",
    "mats := List(orb.images, x -> PermutationMat(PermList(x), Length(x)));"
   ]
  },
  {
   "cell_type": "code",
   "execution_count": null,
   "id": "7211ac2a",
   "metadata": {},
   "outputs": [],
   "source": [
    "for m in mats do PrintArray(m);  Print(\"\\n\"); od;"
   ]
  },
  {
   "cell_type": "markdown",
   "id": "280c5eb8",
   "metadata": {},
   "source": [
    "## Exercises, etc."
   ]
  },
  {
   "cell_type": "markdown",
   "id": "794099bb",
   "metadata": {},
   "source": [
    "* Expand `spinning` into `spinning_with_matrices` ...\n",
    "* Compute representing matrices for the generators acting on the Specht module."
   ]
  },
  {
   "cell_type": "code",
   "execution_count": null,
   "id": "fdb0d946",
   "metadata": {},
   "outputs": [],
   "source": []
  }
 ],
 "metadata": {
  "kernelspec": {
   "display_name": "GAP 4",
   "language": "gap",
   "name": "gap-4"
  },
  "language_info": {
   "codemirror_mode": "gap",
   "file_extension": ".g",
   "mimetype": "text/x-gap",
   "name": "GAP 4",
   "nbconvert_exporter": "",
   "pygments_lexer": "gap",
   "version": "4.12.2"
  }
 },
 "nbformat": 4,
 "nbformat_minor": 5
}
