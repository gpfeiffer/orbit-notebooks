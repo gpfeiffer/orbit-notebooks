{
 "cells": [
  {
   "cell_type": "markdown",
   "id": "90599f92",
   "metadata": {},
   "source": [
    "### Real, Complex and Symplectic Reflection Groups - March 2023, RUB\n",
    "\n",
    "## Computational Aspects of Complex Reflection Groups\n",
    "\n",
    "Götz Pfeiffer - University of Galway\n",
    "\n",
    "# 2. Orbits: Finite Coxeter Groups in Action"
   ]
  },
  {
   "cell_type": "markdown",
   "id": "6c6bfc13",
   "metadata": {},
   "source": [
    "[![Vitruvian Man](images/vitruvian.jpg)](https://en.wikipedia.org/wiki/Vitruvian_Man)"
   ]
  },
  {
   "cell_type": "markdown",
   "id": "a1f0fe05",
   "metadata": {},
   "source": [
    "## Setup"
   ]
  },
  {
   "cell_type": "markdown",
   "id": "07a2bc9e",
   "metadata": {},
   "source": [
    "We use the graph traversal techniques from the last day to\n",
    "* construct a finite Coxeter group as a permutation group,\n",
    "* compute basic properties of elements and parabolic subgroups,\n",
    "* determine the normalizer complement of a parabolic subgroup,\n",
    "* examine the conjugation action with respect to element length.\n",
    "\n",
    "First, reload the algorithms ..."
   ]
  },
  {
   "cell_type": "code",
   "execution_count": 3,
   "id": "fc22f8e3",
   "metadata": {},
   "outputs": [
    {
     "data": {
      "text/plain": [
       "true"
      ]
     },
     "execution_count": 2,
     "metadata": {
      "text/plain": ""
     },
     "output_type": "execute_result"
    }
   ],
   "source": [
    "Read(\"orbits.g\");\n",
    "LoadPackage(\"jupyterviz\");\n",
    "opts := rec(vertexwidth := 12, vertexheight := 12, edgecolor := \"#def\");;"
   ]
  },
  {
   "cell_type": "markdown",
   "id": "5e4702a5",
   "metadata": {},
   "source": [
    "## Finite Coxeter Groups"
   ]
  },
  {
   "cell_type": "markdown",
   "id": "59ee1b5f",
   "metadata": {},
   "source": [
    "<div class=\"alert alert-danger\">\n",
    "\n",
    "**Definition.**\n",
    "\n",
    "* Let $S$ be a finite set, and let $M = (m_{st})$ be a symmetric matrix with $m_{ss} = 1$\n",
    "and $m_{st} = m_{ts} \\in \\{2,3,4,\\dots,\\infty\\}$ if $s \\neq t$.\n",
    "* A **Coxeter group** with  **Coxeter Matrix** $M$ is the group $W$ given by the presentation\n",
    "    $$\n",
    "    W = \\langle S \\mid (st)^{m_{st}} = 1;\\, s,t \\in S \\rangle\n",
    "    $$\n",
    "</div>"
   ]
  },
  {
   "cell_type": "markdown",
   "id": "08cf3a45",
   "metadata": {},
   "source": [
    "* The presentation of a Coxeter group can be described by a graph with vertex set $S$ and edges labelled $m_{st}$  between $s$ and $t$ if $m_{st} > 2$, where for $m_{st} = 3$ the label is usually omitted.\n",
    "* A Coxeter group is called **simply laced** if $m_{st} \\leq 3$ for all $s, t \\in S$.\n",
    "* Coxeter graphs (for simply laced irreducible finite Coxeter groups) can be made by the following GAP program."
   ]
  },
  {
   "cell_type": "code",
   "execution_count": 4,
   "id": "c32aba5a",
   "metadata": {},
   "outputs": [
    {
     "data": {
      "text/plain": [
       "function( series, rank ) ... end"
      ]
     },
     "execution_count": 4,
     "metadata": {
      "text/plain": ""
     },
     "output_type": "execute_result"
    }
   ],
   "source": [
    "coxeterGraph := function(series, rank)\n",
    "    local edges;\n",
    "    edges := List([2..rank], j -> [j-1, j]);\n",
    "    if series >= \"D\" then  edges[1][2] := 3;  fi;\n",
    "    if series >= \"E\" then  edges[2][2] := 4;  fi;\n",
    "    return edges;\n",
    "end;"
   ]
  },
  {
   "cell_type": "markdown",
   "id": "77c71665",
   "metadata": {},
   "source": [
    "* For example:"
   ]
  },
  {
   "cell_type": "code",
   "execution_count": 5,
   "id": "0e45e267",
   "metadata": {},
   "outputs": [
    {
     "data": {
      "text/plain": [
       "[ [ 1, 2 ], [ 2, 3 ], [ 3, 4 ], [ 4, 5 ], [ 5, 6 ], [ 6, 7 ] ]"
      ]
     },
     "execution_count": 5,
     "metadata": {
      "text/plain": ""
     },
     "output_type": "execute_result"
    }
   ],
   "source": [
    "graph := coxeterGraph(\"A\", 7);"
   ]
  },
  {
   "cell_type": "code",
   "execution_count": 6,
   "id": "2327809c",
   "metadata": {},
   "outputs": [
    {
     "data": {
      "application/javascript": [
       "( function ( element ) {\n",
       "if(!window.hasOwnProperty(\"runGAP\")){window.runGAP=function(code,callback){if(!Jupyter||!Jupyter.notebook||!Jupyter.notebook.kernel)return callback(null,\"JavaScript-based output must be re-evaluated when the notebook\"+\" is reloaded.  (Re-run the cell to clear this problem.)\");var errorMessages=[];var timeout=null;Jupyter.notebook.kernel.execute(code,{iopub:{output:function(message){if(\"data\"in message.content)return callback(message.content.data,null);if(!(\"text\"in message.content))return callback(null,message.content);errorMessages.push(message.content.text);if(timeout!==null)clearTimeout(timeout);timeout=setTimeout(function(){callback(null,errorMessages.join(\"\\n\"))},200)},clear_output:function(message){}},shell:{reply:function(message){}},input:function(message){}},{})}}if(!window.hasOwnProperty(\"librariesLoadedFromGAP\")){window.librariesLoadedFromGAP={}}function myCallback(){if(!window.hasOwnProperty(\"librariesLoadedFromGAP\")){window.librariesLoadedFromGAP={}}function myCallback(){window.createVisualization(element,{\"data\" : {\"elements\" : [{\"data\" : {\"id\" : \"1\"}},{\"data\" : {\"id\" : \"2\"}},{\"data\" : {\"id\" : \"3\"}},{\"data\" : {\"id\" : \"4\"}},{\"data\" : {\"id\" : \"5\"}},{\"data\" : {\"id\" : \"6\"}},{\"data\" : {\"id\" : \"7\"}},{\"data\" : {\"source\" : \"1\",\"target\" : \"2\"}},{\"data\" : {\"source\" : \"2\",\"target\" : \"3\"}},{\"data\" : {\"source\" : \"3\",\"target\" : \"4\"}},{\"data\" : {\"source\" : \"4\",\"target\" : \"5\"}},{\"data\" : {\"source\" : \"5\",\"target\" : \"6\"}},{\"data\" : {\"source\" : \"6\",\"target\" : \"7\"}}],\"layout\" : {\"name\" : \"cose\"},\"style\" : [{\"selector\" : \"node\",\"style\" : {\"content\" : \"data(id)\",\"height\" : 12,\"width\" : 12}},{\"selector\" : \"edge\",\"style\" : {\"line-color\" : \"#def\"}}]},\"height\" : 400,\"tool\" : \"cytoscape\"}\n",
       ",function(element,visualization){\n",
       "});\n",
       "}if(window.librariesLoadedFromGAP.hasOwnProperty(\"viz-tool-cytoscape\"\n",
       ")){myCallback()}else{var filenameString=JSON.stringify(\"viz-tool-cytoscape\"\n",
       ");var GAPcode=\"JUPVIZFileContents( LoadJavaScriptFile( \"+filenameString+\" ) );\";window.runGAP(GAPcode,function(result,error){if(error)throw Error(\"When loading library \"+filenameString+\": \"+error);result=result[\"text/plain\"];window.librariesLoadedFromGAP[\"viz-tool-cytoscape\"\n",
       "]=result;try{var whatItEvaluatesTo=eval(result)}catch(e){throw Error(\"Error evaluating code for library \"+filenameString+\": \"+e)}return myCallback()})}\n",
       "}if(window.librariesLoadedFromGAP.hasOwnProperty(\"main\"\n",
       ")){myCallback()}else{var filenameString=JSON.stringify(\"main\"\n",
       ");var GAPcode=\"JUPVIZFileContents( LoadJavaScriptFile( \"+filenameString+\" ) );\";window.runGAP(GAPcode,function(result,error){if(error)throw Error(\"When loading library \"+filenameString+\": \"+error);result=result[\"text/plain\"];window.librariesLoadedFromGAP[\"main\"\n",
       "]=result;try{var whatItEvaluatesTo=eval(result)}catch(e){throw Error(\"Error evaluating code for library \"+filenameString+\": \"+e)}return myCallback()})}\n",
       ";\n",
       "} )( element.get( 0 ) )"
      ]
     },
     "execution_count": 6,
     "metadata": {
      "application/javascript": ""
     },
     "output_type": "execute_result"
    }
   ],
   "source": [
    "PlotGraph(graph, opts);"
   ]
  },
  {
   "cell_type": "markdown",
   "id": "f8618cbd",
   "metadata": {},
   "source": [
    "* A finite Coxeter group is a (real) **reflection group**, i.e., a group generated by reflections, as follows.\n",
    "* From the Coxeter matrix $M$, or the corresponding graph, we set up a **Cartan matrix** $C$:\n",
    "* $C = (c_{st})$ with $c_{ss} = 2$ and $c_{st} c_{ts} = 4 \\cos^2 \\frac{\\pi}{m_{st}}$, $c_{st} = 0 \\iff c_{ts} = 0$, $s \\neq t$."
   ]
  },
  {
   "cell_type": "code",
   "execution_count": 7,
   "id": "9a17afd4",
   "metadata": {},
   "outputs": [
    {
     "data": {
      "text/plain": [
       "function( series, rank ) ... end"
      ]
     },
     "execution_count": 7,
     "metadata": {
      "text/plain": ""
     },
     "output_type": "execute_result"
    }
   ],
   "source": [
    "cartanMat := function(series, rank)\n",
    "    local cartan,  ij,  i,  j;\n",
    "    cartan := 2*IdentityMat(rank);;\n",
    "    for ij in coxeterGraph(series, rank) do\n",
    "        i := ij[1];  j := ij[2];\n",
    "        cartan[i][j] := -1;\n",
    "        cartan[j][i] := -1;\n",
    "    od;\n",
    "    if series = \"B\" then  cartan[1][2] := -2;  fi;\n",
    "    if series = \"C\" then  cartan[2][1] := -2;  fi;\n",
    "    if series = \"F\" then  cartan[3][4] := -2;  fi;  # sic!\n",
    "    return cartan;\n",
    "end;"
   ]
  },
  {
   "cell_type": "code",
   "execution_count": 9,
   "id": "ca817e08",
   "metadata": {},
   "outputs": [
    {
     "name": "stdout",
     "output_type": "stream",
     "text": [
      "[ [   2,  -1,   0 ],\n",
      "  [  -1,   2,  -1 ],\n",
      "  [   0,  -1,   2 ] ]\n"
     ]
    }
   ],
   "source": [
    "C := cartanMat(\"A\", 3);;\n",
    "PrintArray(C);"
   ]
  },
  {
   "cell_type": "markdown",
   "id": "14b696b8",
   "metadata": {},
   "source": [
    "* From the Cartan matrix $C$ we can compute matrices for the **simple reflections** $s \\in S$: the space $V = \\mathbb{R}^n$ has a basis of **simple roots** $\\{\\alpha_s : s \\in S\\}$ and\n",
    "$$\n",
    "\\alpha_t.\\tilde{s} = \\alpha_t - c_{st} \\alpha_s\n",
    "$$\n",
    "defines a linear action $\\tilde{s} \\in \\mathrm{GL}(V)$ of $s$ as **reflection** in the hyperplane orthogonal to $\\alpha_s$."
   ]
  },
  {
   "cell_type": "code",
   "execution_count": 13,
   "id": "44786b12",
   "metadata": {},
   "outputs": [],
   "source": [
    "S := [1..Length(C)];;  mats := [];;  one := C^0;;\n",
    "for s in S do\n",
    "    mats[s] := C^0;  mats[s]{S}[s] := one[s] - C[s];\n",
    "od;"
   ]
  },
  {
   "cell_type": "code",
   "execution_count": 14,
   "id": "0b42adcf",
   "metadata": {},
   "outputs": [
    {
     "name": "stdout",
     "output_type": "stream",
     "text": [
      "[ [  -1,   0,   0 ],\n",
      "  [   1,   1,   0 ],\n",
      "  [   0,   0,   1 ] ]\n",
      "\n",
      "[ [   1,   1,   0 ],\n",
      "  [   0,  -1,   0 ],\n",
      "  [   0,   1,   1 ] ]\n",
      "\n",
      "[ [   1,   0,   0 ],\n",
      "  [   0,   1,   1 ],\n",
      "  [   0,   0,  -1 ] ]\n",
      "\n"
     ]
    }
   ],
   "source": [
    "for mat in mats do\n",
    "    PrintArray(mat);  Print(\"\\n\");\n",
    "od;"
   ]
  },
  {
   "cell_type": "code",
   "execution_count": 15,
   "id": "8703378a",
   "metadata": {},
   "outputs": [
    {
     "data": {
      "text/plain": [
       "[ [ 1, 0, 0 ], [ 0, 1, 0 ], [ 0, 0, 1 ] ]"
      ]
     },
     "execution_count": 15,
     "metadata": {
      "text/plain": ""
     },
     "output_type": "execute_result"
    }
   ],
   "source": [
    "mats[1]^2;"
   ]
  },
  {
   "cell_type": "markdown",
   "id": "fedbf77b",
   "metadata": {},
   "source": [
    "* Thus, $W = \\langle \\tilde{s} : s \\in S \\rangle \\leq \\mathrm{GL}(V)$ acts as a **reflection group** on $V$.\n",
    "* Note that $\\{\\alpha_s : s \\in S\\}$ is not the standard basis of $V$.\n",
    "* But there are real numbers $d_s$, $s \\in S$ such that\n",
    "$$\n",
    "(\\alpha_s, \\alpha_t) = \\tfrac12 d_s^2 c_{st}\n",
    "$$\n",
    "defines a $W$-invariant bilinear form on $V$ (with $d_s = \\sqrt{(\\alpha_s, \\alpha_s)}$)."
   ]
  },
  {
   "cell_type": "markdown",
   "id": "b5226177",
   "metadata": {},
   "source": [
    "###  Root System"
   ]
  },
  {
   "cell_type": "markdown",
   "id": "4e049cfd",
   "metadata": {},
   "source": [
    "* The **root system** $\\Phi$ of $W$ (or of $C$) is $\\Phi = \\{\\alpha_s.w : s \\in S,\\,w \\in W\\}$, a union of $W$-orbits.\n",
    "* So we can grow this root system as **orbits** of the simple roots $\\alpha_s$ (which, as basis vectors of $\\mathbb{R}^n$,  are simply the rows of the identity matrix $C^0$)."
   ]
  },
  {
   "cell_type": "code",
   "execution_count": 16,
   "id": "62a851b6",
   "metadata": {},
   "outputs": [
    {
     "data": {
      "text/plain": [
       "[ [ 1, 0, 0 ], [ 0, 1, 0 ], [ 0, 0, 1 ], [ -1, 0, 0 ], [ 1, 1, 0 ],   [ 0, -1, 0 ], [ 0, 1, 1 ], [ 0, 0, -1 ], [ -1, -1, 0 ], [ 1, 1, 1 ],   [ 0, -1, -1 ], [ -1, -1, -1 ] ]"
      ]
     },
     "execution_count": 16,
     "metadata": {
      "text/plain": ""
     },
     "output_type": "execute_result"
    }
   ],
   "source": [
    "phi := orbits(mats, C^0, OnRight);"
   ]
  },
  {
   "cell_type": "markdown",
   "id": "05dfa931",
   "metadata": {},
   "source": [
    "* Note how $\\Phi = \\Phi^{+} \\cup \\Phi^{-}$, where $\\Phi^{+} = \\{ \\alpha \\in \\Phi : \\alpha \\geq 0\\}$.\n",
    "* Or, how roots come in pairs of negatives $\\{r, -r\\}$.\n",
    "* Thus it suffices to only enumerate the positive representatives of each pair ..."
   ]
  },
  {
   "cell_type": "code",
   "execution_count": 19,
   "id": "075e331f",
   "metadata": {},
   "outputs": [
    {
     "data": {
      "text/plain": [
       "[ [ 1, 0, 0 ], [ 0, 1, 0 ], [ 0, 0, 1 ], [ 1, 1, 0 ], [ 0, 1, 1 ],   [ 1, 1, 1 ] ]"
      ]
     },
     "execution_count": 19,
     "metadata": {
      "text/plain": ""
     },
     "output_type": "execute_result"
    }
   ],
   "source": [
    "absRoot := root -> SignInt(Sum(root)) * root;;\n",
    "onRoots := function(x, a)\n",
    "    return absRoot(OnRight(x, a));\n",
    "end;;\n",
    "phi := orbits(mats, C^0, onRoots);"
   ]
  },
  {
   "cell_type": "markdown",
   "id": "94cf7b5e",
   "metadata": {},
   "source": [
    "* ... and find $\\Phi$ as concatentation of $\\Phi^{+}$ and $- \\Phi^{+}$."
   ]
  },
  {
   "cell_type": "code",
   "execution_count": 20,
   "id": "50b2e3a4",
   "metadata": {},
   "outputs": [
    {
     "data": {
      "text/plain": [
       "[ [ 1, 0, 0 ], [ 0, 1, 0 ], [ 0, 0, 1 ], [ 1, 1, 0 ], [ 0, 1, 1 ],   [ 1, 1, 1 ], [ -1, 0, 0 ], [ 0, -1, 0 ], [ 0, 0, -1 ], [ -1, -1, 0 ],   [ 0, -1, -1 ], [ -1, -1, -1 ] ]"
      ]
     },
     "execution_count": 20,
     "metadata": {
      "text/plain": ""
     },
     "output_type": "execute_result"
    }
   ],
   "source": [
    "phi := Concatenation(phi, -phi);"
   ]
  },
  {
   "cell_type": "markdown",
   "id": "ac34dafe",
   "metadata": {},
   "source": [
    "* In fact, for future reference, we can compute the edges of the action graph, and words in the generators along with $\\Phi$. (What are suitable words for the initial roots? Let's take `[i]` for $\\alpha_i$.  What are the initial edges?  There are none.)"
   ]
  },
  {
   "cell_type": "code",
   "execution_count": 21,
   "id": "3f130d7c",
   "metadata": {},
   "outputs": [
    {
     "data": {
      "text/plain": [
       "function( aaa, xxx, under ) ... end"
      ]
     },
     "execution_count": 21,
     "metadata": {
      "text/plain": ""
     },
     "output_type": "execute_result"
    }
   ],
   "source": [
    "orbits_with_words_and_edges := function(aaa, xxx, under)\n",
    "    local   list,  edges,  words,  i,  k,  l,  z;\n",
    "    words := List([1..Length(xxx)], i -> [i]);\n",
    "    list := ShallowCopy(xxx);  edges := [];  i := 0;\n",
    "    while i < Length(list) do\n",
    "        i := i+1;\n",
    "        for k in [1..Length(aaa)] do\n",
    "            z := under(list[i], aaa[k]);\n",
    "            l := Position(list, z);\n",
    "            if l = fail then\n",
    "                Add(list, z);\n",
    "                Add(words, onWords(words[i], k));\n",
    "                l := Length(list);\n",
    "            fi;\n",
    "            Add(edges, [i, l]);\n",
    "        od;\n",
    "    od;\n",
    "    return rec(list := list, edges := edges, words := words);\n",
    "end;"
   ]
  },
  {
   "cell_type": "code",
   "execution_count": 23,
   "id": "953b07c6",
   "metadata": {},
   "outputs": [
    {
     "data": {
      "text/plain": [
       "[ [ 1, 0, 0 ], [ 0, 1, 0 ], [ 0, 0, 1 ], [ 1, 1, 0 ], [ 0, 1, 1 ],   [ 1, 1, 1 ] ]"
      ]
     },
     "execution_count": 23,
     "metadata": {
      "text/plain": ""
     },
     "output_type": "execute_result"
    }
   ],
   "source": [
    "roots := orbits_with_words_and_edges(mats, C^0, onRoots);;\n",
    "roots.list;"
   ]
  },
  {
   "cell_type": "code",
   "execution_count": 25,
   "id": "4577c36a",
   "metadata": {},
   "outputs": [
    {
     "data": {
      "text/plain": [
       "[ [ 1, 4 ], [ 2, 4 ], [ 2, 5 ], [ 3, 5 ], [ 4, 2 ], [ 4, 1 ], [ 4, 6 ],   [ 5, 6 ], [ 5, 3 ], [ 5, 2 ], [ 6, 5 ], [ 6, 4 ] ]"
      ]
     },
     "execution_count": 24,
     "metadata": {
      "text/plain": ""
     },
     "output_type": "execute_result"
    },
    {
     "data": {
      "application/javascript": [
       "( function ( element ) {\n",
       "if(!window.hasOwnProperty(\"runGAP\")){window.runGAP=function(code,callback){if(!Jupyter||!Jupyter.notebook||!Jupyter.notebook.kernel)return callback(null,\"JavaScript-based output must be re-evaluated when the notebook\"+\" is reloaded.  (Re-run the cell to clear this problem.)\");var errorMessages=[];var timeout=null;Jupyter.notebook.kernel.execute(code,{iopub:{output:function(message){if(\"data\"in message.content)return callback(message.content.data,null);if(!(\"text\"in message.content))return callback(null,message.content);errorMessages.push(message.content.text);if(timeout!==null)clearTimeout(timeout);timeout=setTimeout(function(){callback(null,errorMessages.join(\"\\n\"))},200)},clear_output:function(message){}},shell:{reply:function(message){}},input:function(message){}},{})}}if(!window.hasOwnProperty(\"librariesLoadedFromGAP\")){window.librariesLoadedFromGAP={}}function myCallback(){if(!window.hasOwnProperty(\"librariesLoadedFromGAP\")){window.librariesLoadedFromGAP={}}function myCallback(){window.createVisualization(element,{\"data\" : {\"elements\" : [{\"data\" : {\"id\" : \"1\"}},{\"data\" : {\"id\" : \"4\"}},{\"data\" : {\"id\" : \"2\"}},{\"data\" : {\"id\" : \"5\"}},{\"data\" : {\"id\" : \"3\"}},{\"data\" : {\"id\" : \"6\"}},{\"data\" : {\"source\" : \"1\",\"target\" : \"4\"}},{\"data\" : {\"source\" : \"2\",\"target\" : \"4\"}},{\"data\" : {\"source\" : \"2\",\"target\" : \"5\"}},{\"data\" : {\"source\" : \"3\",\"target\" : \"5\"}},{\"data\" : {\"source\" : \"4\",\"target\" : \"2\"}},{\"data\" : {\"source\" : \"4\",\"target\" : \"1\"}},{\"data\" : {\"source\" : \"4\",\"target\" : \"6\"}},{\"data\" : {\"source\" : \"5\",\"target\" : \"6\"}},{\"data\" : {\"source\" : \"5\",\"target\" : \"3\"}},{\"data\" : {\"source\" : \"5\",\"target\" : \"2\"}},{\"data\" : {\"source\" : \"6\",\"target\" : \"5\"}},{\"data\" : {\"source\" : \"6\",\"target\" : \"4\"}}],\"layout\" : {\"name\" : \"cose\"},\"style\" : [{\"selector\" : \"node\",\"style\" : {\"content\" : \"data(id)\",\"height\" : 12,\"width\" : 12}},{\"selector\" : \"edge\",\"style\" : {\"line-color\" : \"#def\"}}]},\"height\" : 400,\"tool\" : \"cytoscape\"}\n",
       ",function(element,visualization){\n",
       "});\n",
       "}if(window.librariesLoadedFromGAP.hasOwnProperty(\"viz-tool-cytoscape\"\n",
       ")){myCallback()}else{var filenameString=JSON.stringify(\"viz-tool-cytoscape\"\n",
       ");var GAPcode=\"JUPVIZFileContents( LoadJavaScriptFile( \"+filenameString+\" ) );\";window.runGAP(GAPcode,function(result,error){if(error)throw Error(\"When loading library \"+filenameString+\": \"+error);result=result[\"text/plain\"];window.librariesLoadedFromGAP[\"viz-tool-cytoscape\"\n",
       "]=result;try{var whatItEvaluatesTo=eval(result)}catch(e){throw Error(\"Error evaluating code for library \"+filenameString+\": \"+e)}return myCallback()})}\n",
       "}if(window.librariesLoadedFromGAP.hasOwnProperty(\"main\"\n",
       ")){myCallback()}else{var filenameString=JSON.stringify(\"main\"\n",
       ");var GAPcode=\"JUPVIZFileContents( LoadJavaScriptFile( \"+filenameString+\" ) );\";window.runGAP(GAPcode,function(result,error){if(error)throw Error(\"When loading library \"+filenameString+\": \"+error);result=result[\"text/plain\"];window.librariesLoadedFromGAP[\"main\"\n",
       "]=result;try{var whatItEvaluatesTo=eval(result)}catch(e){throw Error(\"Error evaluating code for library \"+filenameString+\": \"+e)}return myCallback()})}\n",
       ";\n",
       "} )( element.get( 0 ) )"
      ]
     },
     "execution_count": 25,
     "metadata": {
      "application/javascript": ""
     },
     "output_type": "execute_result"
    }
   ],
   "source": [
    "edges := Filtered(roots.edges, x-> x[1] <> x[2]);\n",
    "PlotGraph(edges, opts);"
   ]
  },
  {
   "cell_type": "code",
   "execution_count": 26,
   "id": "4befc3f9",
   "metadata": {},
   "outputs": [
    {
     "data": {
      "text/plain": [
       "[ [ 1 ], [ 2 ], [ 3 ], [ 1, 2 ], [ 2, 3 ], [ 1, 2, 3 ] ]"
      ]
     },
     "execution_count": 26,
     "metadata": {
      "text/plain": ""
     },
     "output_type": "execute_result"
    }
   ],
   "source": [
    "roots.words;"
   ]
  },
  {
   "cell_type": "markdown",
   "id": "d2a42cc9",
   "metadata": {},
   "source": [
    "### Permutations"
   ]
  },
  {
   "cell_type": "markdown",
   "id": "f0c724ea",
   "metadata": {},
   "source": [
    "* Express simple reflections as permutations of the roots. Formula?  (Compare with Schreier generators $(f_y a)/f_{y.a}$!)\n",
    "* The GAP function `Sortex` returns the permutation needed to sort a list: `Permuted(list, Sortex(list))` is the sorted list.\n",
    "* So, if $a$ maps `xxx` to `yyy`, $b$ sorts `yyy` (i.e., maps it to `zzz`) and $c$ sorts `xxx` (i.e., maps it to `zzz`) then $c/b$ maps `xxx` to `yyy`.\n",
    "* The permutation of `xxx` caused is the map that assigns $i \\mapsto j$ if `yyy[i] = xxx[j]`, i.e. $b/c = (c/b)^{-1}$ (Check!)."
   ]
  },
  {
   "cell_type": "code",
   "execution_count": 27,
   "id": "fc854c0a",
   "metadata": {},
   "outputs": [
    {
     "data": {
      "text/plain": [
       "function( a, xxx, under ) ... end"
      ]
     },
     "execution_count": 27,
     "metadata": {
      "text/plain": ""
     },
     "output_type": "execute_result"
    }
   ],
   "source": [
    "permutation := function(a, xxx, under)\n",
    "    return Sortex(List(xxx, x-> under(x, a))) / Sortex(ShallowCopy(xxx));\n",
    "end;"
   ]
  },
  {
   "cell_type": "code",
   "execution_count": 28,
   "id": "15cb02f4",
   "metadata": {},
   "outputs": [
    {
     "data": {
      "text/plain": [
       "(1,7)(2,4)(5,6)(8,10)(11,12)"
      ]
     },
     "execution_count": 28,
     "metadata": {
      "text/plain": ""
     },
     "output_type": "execute_result"
    }
   ],
   "source": [
    "permutation(mats[1], phi, OnRight);"
   ]
  },
  {
   "cell_type": "markdown",
   "id": "ef4501dd",
   "metadata": {},
   "source": [
    "* GAP has a function `Permutation` for this purpose."
   ]
  },
  {
   "cell_type": "code",
   "execution_count": 29,
   "id": "e242cd66",
   "metadata": {},
   "outputs": [
    {
     "data": {
      "text/plain": [
       "(1,7)(2,4)(5,6)(8,10)(11,12)"
      ]
     },
     "execution_count": 29,
     "metadata": {
      "text/plain": ""
     },
     "output_type": "execute_result"
    }
   ],
   "source": [
    "Permutation(mats[1], phi, OnRight);"
   ]
  },
  {
   "cell_type": "code",
   "execution_count": 30,
   "id": "728b52d2",
   "metadata": {},
   "outputs": [
    {
     "data": {
      "text/plain": [
       "[ (1,7)(2,4)(5,6)(8,10)(11,12), (1,4)(2,8)(3,5)(7,10)(9,11),   (2,5)(3,9)(4,6)(8,11)(10,12) ]"
      ]
     },
     "execution_count": 30,
     "metadata": {
      "text/plain": ""
     },
     "output_type": "execute_result"
    }
   ],
   "source": [
    "perms := List(mats, m-> Permutation(m, phi, OnRight));"
   ]
  },
  {
   "cell_type": "markdown",
   "id": "4fe4bd92",
   "metadata": {},
   "source": [
    "###  Coxeter Group"
   ]
  },
  {
   "cell_type": "markdown",
   "id": "9fc7f330",
   "metadata": {},
   "source": [
    "* Let's wrap all of the above into a GAP function that constructs a Coxeter group from its Cartan matrix.\n",
    "* It will be convenient to register an **attribute** `Data` with GAP's permutation groups, as a place to store some Coxeter group data like the root system `phi` and the matrices `mats`. "
   ]
  },
  {
   "cell_type": "code",
   "execution_count": 32,
   "id": "36f76281",
   "metadata": {},
   "outputs": [
    {
     "data": {
      "text/plain": [
       "function( C ) ... end"
      ]
     },
     "execution_count": 32,
     "metadata": {
      "text/plain": ""
     },
     "output_type": "execute_result"
    }
   ],
   "source": [
    "DeclareAttribute(\"Data\", IsPermGroup);\n",
    "\n",
    "coxeterGroup := function(C)\n",
    "    local  one,  mats,  roots,  S,  s,  phi,  data,  G;\n",
    "    one := C^0;  mats := [];  S := [1..Length(C)];\n",
    "    for s in S do\n",
    "        mats[s] := C^0;  mats[s]{S}[s] := one[s] - C[s];\n",
    "    od;\n",
    "    roots := orbits_with_words_and_edges(mats, C^0, onRoots);\n",
    "    data := rec(mats := mats, roots := roots, rank := Length(S));\n",
    "    data.N := Length(roots.list);\n",
    "    data.phi := Concatenation(roots.list, -roots.list);\n",
    "    data.perms := List(mats, m -> Permutation(m, data.phi, OnRight));\n",
    "    G := GroupWithGenerators(data.perms);\n",
    "    SetData(G, data);\n",
    "    return G;\n",
    "end;"
   ]
  },
  {
   "cell_type": "code",
   "execution_count": 33,
   "id": "496a4c32",
   "metadata": {},
   "outputs": [
    {
     "data": {
      "text/plain": [
       "Group([ (1,7)(2,4)(5,6)(8,10)(11,12), (1,4)(2,8)(3,5)(7,10)(9,11), (2,5)(3,9)  (4,6)(8,11)(10,12) ])"
      ]
     },
     "execution_count": 33,
     "metadata": {
      "text/plain": ""
     },
     "output_type": "execute_result"
    }
   ],
   "source": [
    "W:= coxeterGroup(C);"
   ]
  },
  {
   "cell_type": "code",
   "execution_count": 34,
   "id": "6bffa97a",
   "metadata": {},
   "outputs": [
    {
     "data": {
      "text/plain": [
       "rec( N := 6, mats := [ [ [ -1, 0, 0 ], [ 1, 1, 0 ], [ 0, 0, 1 ] ], [ [ 1, 1, 0 ], [ 0, -1, 0 ], [ 0, 1, 1 ] ], [ [ 1, 0, 0 ], [ 0, 1, 1 ], [ 0, 0, -1 ] ] ], perms := [ (1,7)(2,4)(5,6)(8,10)(11,12), (1,4)(2,8)(3,5)(7,10)(9,11), (2,5)(3,9)(4,6)(8,11)(10,12) ], phi := [ [ 1, 0, 0 ], [ 0, 1, 0 ], [ 0, 0, 1 ], [ 1, 1, 0 ], [ 0, 1, 1 ], [ 1, 1, 1 ], [ -1, 0, 0 ], [ 0, -1, 0 ], [ 0, 0, -1 ], [ -1, -1, 0 ], [ 0, -1, -1 ], [ -1, -1, -1 ] ], rank := 3, roots := rec( edges := [ [ 1, 1 ], [ 1, 4 ], [ 1, 1 ], [ 2, 4 ], [ 2, 2 ], [ 2, 5 ], [ 3, 3 ], [ 3, 5 ], [ 3, 3 ], [ 4, 2 ], [ 4, 1 ], [ 4, 6 ], [ 5, 6 ], [ 5, 3 ], [ 5, 2 ], [ 6, 5 ], [ 6, 6 ], [ 6, 4 ] ], list := [ [ 1, 0, 0 ], [ 0, 1, 0 ], [ 0, 0, 1 ], [ 1, 1, 0 ], [ 0, 1, 1 ], [ 1, 1, 1 ] ], words := [ [ 1 ], [ 2 ], [ 3 ], [ 1, 2 ], [ 2, 3 ], [ 1, 2, 3 ] ] ) )"
      ]
     },
     "execution_count": 34,
     "metadata": {},
     "output_type": "execute_result"
    }
   ],
   "source": [
    "Data(W);"
   ]
  },
  {
   "cell_type": "code",
   "execution_count": 35,
   "id": "4ea811e1",
   "metadata": {},
   "outputs": [
    {
     "data": {
      "text/plain": [
       "24"
      ]
     },
     "execution_count": 35,
     "metadata": {
      "text/plain": ""
     },
     "output_type": "execute_result"
    }
   ],
   "source": [
    "sizeOfGroup(W);"
   ]
  },
  {
   "cell_type": "markdown",
   "id": "662292f8",
   "metadata": {},
   "source": [
    "* $E_8$, for example ..."
   ]
  },
  {
   "cell_type": "code",
   "execution_count": 37,
   "id": "d398d5d9",
   "metadata": {},
   "outputs": [
    {
     "data": {
      "text/plain": [
       "696729600"
      ]
     },
     "execution_count": 37,
     "metadata": {
      "text/plain": ""
     },
     "output_type": "execute_result"
    }
   ],
   "source": [
    "E8:= coxeterGroup(cartanMat(\"E\", 8));;\n",
    "sizeOfGroup(E8);"
   ]
  },
  {
   "cell_type": "markdown",
   "id": "3c10c793",
   "metadata": {},
   "source": [
    "* ... and its positive roots"
   ]
  },
  {
   "cell_type": "code",
   "execution_count": 39,
   "id": "92e535b0",
   "metadata": {},
   "outputs": [
    {
     "data": {
      "application/javascript": [
       "( function ( element ) {\n",
       "if(!window.hasOwnProperty(\"runGAP\")){window.runGAP=function(code,callback){if(!Jupyter||!Jupyter.notebook||!Jupyter.notebook.kernel)return callback(null,\"JavaScript-based output must be re-evaluated when the notebook\"+\" is reloaded.  (Re-run the cell to clear this problem.)\");var errorMessages=[];var timeout=null;Jupyter.notebook.kernel.execute(code,{iopub:{output:function(message){if(\"data\"in message.content)return callback(message.content.data,null);if(!(\"text\"in message.content))return callback(null,message.content);errorMessages.push(message.content.text);if(timeout!==null)clearTimeout(timeout);timeout=setTimeout(function(){callback(null,errorMessages.join(\"\\n\"))},200)},clear_output:function(message){}},shell:{reply:function(message){}},input:function(message){}},{})}}if(!window.hasOwnProperty(\"librariesLoadedFromGAP\")){window.librariesLoadedFromGAP={}}function myCallback(){if(!window.hasOwnProperty(\"librariesLoadedFromGAP\")){window.librariesLoadedFromGAP={}}function myCallback(){window.createVisualization(element,{\"data\" : {\"elements\" : [{\"data\" : {\"id\" : \"1\"}},{\"data\" : {\"id\" : \"9\"}},{\"data\" : {\"id\" : \"2\"}},{\"data\" : {\"id\" : \"10\"}},{\"data\" : {\"id\" : \"3\"}},{\"data\" : {\"id\" : \"11\"}},{\"data\" : {\"id\" : \"4\"}},{\"data\" : {\"id\" : \"12\"}},{\"data\" : {\"id\" : \"5\"}},{\"data\" : {\"id\" : \"13\"}},{\"data\" : {\"id\" : \"6\"}},{\"data\" : {\"id\" : \"14\"}},{\"data\" : {\"id\" : \"7\"}},{\"data\" : {\"id\" : \"15\"}},{\"data\" : {\"id\" : \"8\"}},{\"data\" : {\"id\" : \"16\"}},{\"data\" : {\"id\" : \"17\"}},{\"data\" : {\"id\" : \"18\"}},{\"data\" : {\"id\" : \"19\"}},{\"data\" : {\"id\" : \"20\"}},{\"data\" : {\"id\" : \"21\"}},{\"data\" : {\"id\" : \"22\"}},{\"data\" : {\"id\" : \"23\"}},{\"data\" : {\"id\" : \"24\"}},{\"data\" : {\"id\" : \"25\"}},{\"data\" : {\"id\" : \"26\"}},{\"data\" : {\"id\" : \"27\"}},{\"data\" : {\"id\" : \"28\"}},{\"data\" : {\"id\" : \"29\"}},{\"data\" : {\"id\" : \"30\"}},{\"data\" : {\"id\" : \"31\"}},{\"data\" : {\"id\" : \"32\"}},{\"data\" : {\"id\" : \"33\"}},{\"data\" : {\"id\" : \"34\"}},{\"data\" : {\"id\" : \"35\"}},{\"data\" : {\"id\" : \"36\"}},{\"data\" : {\"id\" : \"37\"}},{\"data\" : {\"id\" : \"38\"}},{\"data\" : {\"id\" : \"39\"}},{\"data\" : {\"id\" : \"40\"}},{\"data\" : {\"id\" : \"41\"}},{\"data\" : {\"id\" : \"42\"}},{\"data\" : {\"id\" : \"43\"}},{\"data\" : {\"id\" : \"44\"}},{\"data\" : {\"id\" : \"45\"}},{\"data\" : {\"id\" : \"46\"}},{\"data\" : {\"id\" : \"47\"}},{\"data\" : {\"id\" : \"48\"}},{\"data\" : {\"id\" : \"49\"}},{\"data\" : {\"id\" : \"50\"}},{\"data\" : {\"id\" : \"51\"}},{\"data\" : {\"id\" : \"52\"}},{\"data\" : {\"id\" : \"53\"}},{\"data\" : {\"id\" : \"54\"}},{\"data\" : {\"id\" : \"55\"}},{\"data\" : {\"id\" : \"56\"}},{\"data\" : {\"id\" : \"57\"}},{\"data\" : {\"id\" : \"58\"}},{\"data\" : {\"id\" : \"59\"}},{\"data\" : {\"id\" : \"60\"}},{\"data\" : {\"id\" : \"61\"}},{\"data\" : {\"id\" : \"62\"}},{\"data\" : {\"id\" : \"63\"}},{\"data\" : {\"id\" : \"64\"}},{\"data\" : {\"id\" : \"65\"}},{\"data\" : {\"id\" : \"66\"}},{\"data\" : {\"id\" : \"67\"}},{\"data\" : {\"id\" : \"68\"}},{\"data\" : {\"id\" : \"69\"}},{\"data\" : {\"id\" : \"70\"}},{\"data\" : {\"id\" : \"71\"}},{\"data\" : {\"id\" : \"72\"}},{\"data\" : {\"id\" : \"73\"}},{\"data\" : {\"id\" : \"74\"}},{\"data\" : {\"id\" : \"75\"}},{\"data\" : {\"id\" : \"76\"}},{\"data\" : {\"id\" : \"77\"}},{\"data\" : {\"id\" : \"78\"}},{\"data\" : {\"id\" : \"79\"}},{\"data\" : {\"id\" : \"80\"}},{\"data\" : {\"id\" : \"81\"}},{\"data\" : {\"id\" : \"82\"}},{\"data\" : {\"id\" : \"83\"}},{\"data\" : {\"id\" : \"84\"}},{\"data\" : {\"id\" : \"85\"}},{\"data\" : {\"id\" : \"86\"}},{\"data\" : {\"id\" : \"87\"}},{\"data\" : {\"id\" : \"88\"}},{\"data\" : {\"id\" : \"89\"}},{\"data\" : {\"id\" : \"90\"}},{\"data\" : {\"id\" : \"91\"}},{\"data\" : {\"id\" : \"92\"}},{\"data\" : {\"id\" : \"93\"}},{\"data\" : {\"id\" : \"94\"}},{\"data\" : {\"id\" : \"95\"}},{\"data\" : {\"id\" : \"96\"}},{\"data\" : {\"id\" : \"97\"}},{\"data\" : {\"id\" : \"98\"}},{\"data\" : {\"id\" : \"99\"}},{\"data\" : {\"id\" : \"100\"}},{\"data\" : {\"id\" : \"101\"}},{\"data\" : {\"id\" : \"102\"}},{\"data\" : {\"id\" : \"103\"}},{\"data\" : {\"id\" : \"104\"}},{\"data\" : {\"id\" : \"105\"}},{\"data\" : {\"id\" : \"106\"}},{\"data\" : {\"id\" : \"107\"}},{\"data\" : {\"id\" : \"108\"}},{\"data\" : {\"id\" : \"109\"}},{\"data\" : {\"id\" : \"110\"}},{\"data\" : {\"id\" : \"111\"}},{\"data\" : {\"id\" : \"112\"}},{\"data\" : {\"id\" : \"113\"}},{\"data\" : {\"id\" : \"114\"}},{\"data\" : {\"id\" : \"115\"}},{\"data\" : {\"id\" : \"116\"}},{\"data\" : {\"id\" : \"117\"}},{\"data\" : {\"id\" : \"118\"}},{\"data\" : {\"id\" : \"119\"}},{\"data\" : {\"id\" : \"120\"}},{\"data\" : {\"source\" : \"1\",\"target\" : \"9\"}},{\"data\" : {\"source\" : \"2\",\"target\" : \"10\"}},{\"data\" : {\"source\" : \"3\",\"target\" : \"9\"}},{\"data\" : {\"source\" : \"3\",\"target\" : \"11\"}},{\"data\" : {\"source\" : \"4\",\"target\" : \"10\"}},{\"data\" : {\"source\" : \"4\",\"target\" : \"11\"}},{\"data\" : {\"source\" : \"4\",\"target\" : \"12\"}},{\"data\" : {\"source\" : \"5\",\"target\" : \"12\"}},{\"data\" : {\"source\" : \"5\",\"target\" : \"13\"}},{\"data\" : {\"source\" : \"6\",\"target\" : \"13\"}},{\"data\" : {\"source\" : \"6\",\"target\" : \"14\"}},{\"data\" : {\"source\" : \"7\",\"target\" : \"14\"}},{\"data\" : {\"source\" : \"7\",\"target\" : \"15\"}},{\"data\" : {\"source\" : \"8\",\"target\" : \"15\"}},{\"data\" : {\"source\" : \"9\",\"target\" : \"3\"}},{\"data\" : {\"source\" : \"9\",\"target\" : \"1\"}},{\"data\" : {\"source\" : \"9\",\"target\" : \"16\"}},{\"data\" : {\"source\" : \"10\",\"target\" : \"4\"}},{\"data\" : {\"source\" : \"10\",\"target\" : \"17\"}},{\"data\" : {\"source\" : \"10\",\"target\" : \"2\"}},{\"data\" : {\"source\" : \"10\",\"target\" : \"18\"}},{\"data\" : {\"source\" : \"11\",\"target\" : \"16\"}},{\"data\" : {\"source\" : \"11\",\"target\" : \"17\"}},{\"data\" : {\"source\" : \"11\",\"target\" : \"4\"}},{\"data\" : {\"source\" : \"11\",\"target\" : \"3\"}},{\"data\" : {\"source\" : \"11\",\"target\" : \"19\"}},{\"data\" : {\"source\" : \"12\",\"target\" : \"18\"}},{\"data\" : {\"source\" : \"12\",\"target\" : \"19\"}},{\"data\" : {\"source\" : \"12\",\"target\" : \"5\"}},{\"data\" : {\"source\" : \"12\",\"target\" : \"4\"}},{\"data\" : {\"source\" : \"12\",\"target\" : \"20\"}},{\"data\" : {\"source\" : \"13\",\"target\" : \"20\"}},{\"data\" : {\"source\" : \"13\",\"target\" : \"6\"}},{\"data\" : {\"source\" : \"13\",\"target\" : \"5\"}},{\"data\" : {\"source\" : \"13\",\"target\" : \"21\"}},{\"data\" : {\"source\" : \"14\",\"target\" : \"21\"}},{\"data\" : {\"source\" : \"14\",\"target\" : \"7\"}},{\"data\" : {\"source\" : \"14\",\"target\" : \"6\"}},{\"data\" : {\"source\" : \"14\",\"target\" : \"22\"}},{\"data\" : {\"source\" : \"15\",\"target\" : \"22\"}},{\"data\" : {\"source\" : \"15\",\"target\" : \"8\"}},{\"data\" : {\"source\" : \"15\",\"target\" : \"7\"}},{\"data\" : {\"source\" : \"16\",\"target\" : \"11\"}},{\"data\" : {\"source\" : \"16\",\"target\" : \"23\"}},{\"data\" : {\"source\" : \"16\",\"target\" : \"9\"}},{\"data\" : {\"source\" : \"16\",\"target\" : \"24\"}},{\"data\" : {\"source\" : \"17\",\"target\" : \"23\"}},{\"data\" : {\"source\" : \"17\",\"target\" : \"11\"}},{\"data\" : {\"source\" : \"17\",\"target\" : \"10\"}},{\"data\" : {\"source\" : \"17\",\"target\" : \"25\"}},{\"data\" : {\"source\" : \"18\",\"target\" : \"12\"}},{\"data\" : {\"source\" : \"18\",\"target\" : \"25\"}},{\"data\" : {\"source\" : \"18\",\"target\" : \"10\"}},{\"data\" : {\"source\" : \"18\",\"target\" : \"26\"}},{\"data\" : {\"source\" : \"19\",\"target\" : \"24\"}},{\"data\" : {\"source\" : \"19\",\"target\" : \"25\"}},{\"data\" : {\"source\" : \"19\",\"target\" : \"12\"}},{\"data\" : {\"source\" : \"19\",\"target\" : \"11\"}},{\"data\" : {\"source\" : \"19\",\"target\" : \"27\"}},{\"data\" : {\"source\" : \"20\",\"target\" : \"26\"}},{\"data\" : {\"source\" : \"20\",\"target\" : \"27\"}},{\"data\" : {\"source\" : \"20\",\"target\" : \"13\"}},{\"data\" : {\"source\" : \"20\",\"target\" : \"12\"}},{\"data\" : {\"source\" : \"20\",\"target\" : \"28\"}},{\"data\" : {\"source\" : \"21\",\"target\" : \"28\"}},{\"data\" : {\"source\" : \"21\",\"target\" : \"14\"}},{\"data\" : {\"source\" : \"21\",\"target\" : \"13\"}},{\"data\" : {\"source\" : \"21\",\"target\" : \"29\"}},{\"data\" : {\"source\" : \"22\",\"target\" : \"29\"}},{\"data\" : {\"source\" : \"22\",\"target\" : \"15\"}},{\"data\" : {\"source\" : \"22\",\"target\" : \"14\"}},{\"data\" : {\"source\" : \"23\",\"target\" : \"17\"}},{\"data\" : {\"source\" : \"23\",\"target\" : \"16\"}},{\"data\" : {\"source\" : \"23\",\"target\" : \"30\"}},{\"data\" : {\"source\" : \"24\",\"target\" : \"19\"}},{\"data\" : {\"source\" : \"24\",\"target\" : \"30\"}},{\"data\" : {\"source\" : \"24\",\"target\" : \"16\"}},{\"data\" : {\"source\" : \"24\",\"target\" : \"31\"}},{\"data\" : {\"source\" : \"25\",\"target\" : \"30\"}},{\"data\" : {\"source\" : \"25\",\"target\" : \"19\"}},{\"data\" : {\"source\" : \"25\",\"target\" : \"18\"}},{\"data\" : {\"source\" : \"25\",\"target\" : \"32\"}},{\"data\" : {\"source\" : \"25\",\"target\" : \"17\"}},{\"data\" : {\"source\" : \"25\",\"target\" : \"33\"}},{\"data\" : {\"source\" : \"26\",\"target\" : \"20\"}},{\"data\" : {\"source\" : \"26\",\"target\" : \"33\"}},{\"data\" : {\"source\" : \"26\",\"target\" : \"18\"}},{\"data\" : {\"source\" : \"26\",\"target\" : \"34\"}},{\"data\" : {\"source\" : \"27\",\"target\" : \"31\"}},{\"data\" : {\"source\" : \"27\",\"target\" : \"33\"}},{\"data\" : {\"source\" : \"27\",\"target\" : \"20\"}},{\"data\" : {\"source\" : \"27\",\"target\" : \"19\"}},{\"data\" : {\"source\" : \"27\",\"target\" : \"35\"}},{\"data\" : {\"source\" : \"28\",\"target\" : \"34\"}},{\"data\" : {\"source\" : \"28\",\"target\" : \"35\"}},{\"data\" : {\"source\" : \"28\",\"target\" : \"21\"}},{\"data\" : {\"source\" : \"28\",\"target\" : \"20\"}},{\"data\" : {\"source\" : \"28\",\"target\" : \"36\"}},{\"data\" : {\"source\" : \"29\",\"target\" : \"36\"}},{\"data\" : {\"source\" : \"29\",\"target\" : \"22\"}},{\"data\" : {\"source\" : \"29\",\"target\" : \"21\"}},{\"data\" : {\"source\" : \"30\",\"target\" : \"25\"}},{\"data\" : {\"source\" : \"30\",\"target\" : \"24\"}},{\"data\" : {\"source\" : \"30\",\"target\" : \"37\"}},{\"data\" : {\"source\" : \"30\",\"target\" : \"23\"}},{\"data\" : {\"source\" : \"30\",\"target\" : \"38\"}},{\"data\" : {\"source\" : \"31\",\"target\" : \"27\"}},{\"data\" : {\"source\" : \"31\",\"target\" : \"38\"}},{\"data\" : {\"source\" : \"31\",\"target\" : \"24\"}},{\"data\" : {\"source\" : \"31\",\"target\" : \"39\"}},{\"data\" : {\"source\" : \"32\",\"target\" : \"37\"}},{\"data\" : {\"source\" : \"32\",\"target\" : \"25\"}},{\"data\" : {\"source\" : \"32\",\"target\" : \"40\"}},{\"data\" : {\"source\" : \"33\",\"target\" : \"38\"}},{\"data\" : {\"source\" : \"33\",\"target\" : \"27\"}},{\"data\" : {\"source\" : \"33\",\"target\" : \"26\"}},{\"data\" : {\"source\" : \"33\",\"target\" : \"40\"}},{\"data\" : {\"source\" : \"33\",\"target\" : \"25\"}},{\"data\" : {\"source\" : \"33\",\"target\" : \"41\"}},{\"data\" : {\"source\" : \"34\",\"target\" : \"28\"}},{\"data\" : {\"source\" : \"34\",\"target\" : \"41\"}},{\"data\" : {\"source\" : \"34\",\"target\" : \"26\"}},{\"data\" : {\"source\" : \"34\",\"target\" : \"42\"}},{\"data\" : {\"source\" : \"35\",\"target\" : \"39\"}},{\"data\" : {\"source\" : \"35\",\"target\" : \"41\"}},{\"data\" : {\"source\" : \"35\",\"target\" : \"28\"}},{\"data\" : {\"source\" : \"35\",\"target\" : \"27\"}},{\"data\" : {\"source\" : \"35\",\"target\" : \"43\"}},{\"data\" : {\"source\" : \"36\",\"target\" : \"42\"}},{\"data\" : {\"source\" : \"36\",\"target\" : \"43\"}},{\"data\" : {\"source\" : \"36\",\"target\" : \"29\"}},{\"data\" : {\"source\" : \"36\",\"target\" : \"28\"}},{\"data\" : {\"source\" : \"37\",\"target\" : \"32\"}},{\"data\" : {\"source\" : \"37\",\"target\" : \"44\"}},{\"data\" : {\"source\" : \"37\",\"target\" : \"30\"}},{\"data\" : {\"source\" : \"37\",\"target\" : \"45\"}},{\"data\" : {\"source\" : \"38\",\"target\" : \"33\"}},{\"data\" : {\"source\" : \"38\",\"target\" : \"31\"}},{\"data\" : {\"source\" : \"38\",\"target\" : \"45\"}},{\"data\" : {\"source\" : \"38\",\"target\" : \"30\"}},{\"data\" : {\"source\" : \"38\",\"target\" : \"46\"}},{\"data\" : {\"source\" : \"39\",\"target\" : \"35\"}},{\"data\" : {\"source\" : \"39\",\"target\" : \"46\"}},{\"data\" : {\"source\" : \"39\",\"target\" : \"31\"}},{\"data\" : {\"source\" : \"39\",\"target\" : \"47\"}},{\"data\" : {\"source\" : \"40\",\"target\" : \"45\"}},{\"data\" : {\"source\" : \"40\",\"target\" : \"33\"}},{\"data\" : {\"source\" : \"40\",\"target\" : \"48\"}},{\"data\" : {\"source\" : \"40\",\"target\" : \"32\"}},{\"data\" : {\"source\" : \"40\",\"target\" : \"49\"}},{\"data\" : {\"source\" : \"41\",\"target\" : \"46\"}},{\"data\" : {\"source\" : \"41\",\"target\" : \"35\"}},{\"data\" : {\"source\" : \"41\",\"target\" : \"34\"}},{\"data\" : {\"source\" : \"41\",\"target\" : \"49\"}},{\"data\" : {\"source\" : \"41\",\"target\" : \"33\"}},{\"data\" : {\"source\" : \"41\",\"target\" : \"50\"}},{\"data\" : {\"source\" : \"42\",\"target\" : \"36\"}},{\"data\" : {\"source\" : \"42\",\"target\" : \"50\"}},{\"data\" : {\"source\" : \"42\",\"target\" : \"34\"}},{\"data\" : {\"source\" : \"43\",\"target\" : \"47\"}},{\"data\" : {\"source\" : \"43\",\"target\" : \"50\"}},{\"data\" : {\"source\" : \"43\",\"target\" : \"36\"}},{\"data\" : {\"source\" : \"43\",\"target\" : \"35\"}},{\"data\" : {\"source\" : \"44\",\"target\" : \"37\"}},{\"data\" : {\"source\" : \"44\",\"target\" : \"51\"}},{\"data\" : {\"source\" : \"45\",\"target\" : \"40\"}},{\"data\" : {\"source\" : \"45\",\"target\" : \"51\"}},{\"data\" : {\"source\" : \"45\",\"target\" : \"38\"}},{\"data\" : {\"source\" : \"45\",\"target\" : \"52\"}},{\"data\" : {\"source\" : \"45\",\"target\" : \"37\"}},{\"data\" : {\"source\" : \"45\",\"target\" : \"53\"}},{\"data\" : {\"source\" : \"46\",\"target\" : \"41\"}},{\"data\" : {\"source\" : \"46\",\"target\" : \"39\"}},{\"data\" : {\"source\" : \"46\",\"target\" : \"53\"}},{\"data\" : {\"source\" : \"46\",\"target\" : \"38\"}},{\"data\" : {\"source\" : \"46\",\"target\" : \"54\"}},{\"data\" : {\"source\" : \"47\",\"target\" : \"43\"}},{\"data\" : {\"source\" : \"47\",\"target\" : \"54\"}},{\"data\" : {\"source\" : \"47\",\"target\" : \"39\"}},{\"data\" : {\"source\" : \"48\",\"target\" : \"52\"}},{\"data\" : {\"source\" : \"48\",\"target\" : \"40\"}},{\"data\" : {\"source\" : \"48\",\"target\" : \"55\"}},{\"data\" : {\"source\" : \"49\",\"target\" : \"53\"}},{\"data\" : {\"source\" : \"49\",\"target\" : \"41\"}},{\"data\" : {\"source\" : \"49\",\"target\" : \"55\"}},{\"data\" : {\"source\" : \"49\",\"target\" : \"40\"}},{\"data\" : {\"source\" : \"49\",\"target\" : \"56\"}},{\"data\" : {\"source\" : \"50\",\"target\" : \"54\"}},{\"data\" : {\"source\" : \"50\",\"target\" : \"43\"}},{\"data\" : {\"source\" : \"50\",\"target\" : \"42\"}},{\"data\" : {\"source\" : \"50\",\"target\" : \"56\"}},{\"data\" : {\"source\" : \"50\",\"target\" : \"41\"}},{\"data\" : {\"source\" : \"51\",\"target\" : \"45\"}},{\"data\" : {\"source\" : \"51\",\"target\" : \"57\"}},{\"data\" : {\"source\" : \"51\",\"target\" : \"44\"}},{\"data\" : {\"source\" : \"51\",\"target\" : \"58\"}},{\"data\" : {\"source\" : \"52\",\"target\" : \"48\"}},{\"data\" : {\"source\" : \"52\",\"target\" : \"57\"}},{\"data\" : {\"source\" : \"52\",\"target\" : \"45\"}},{\"data\" : {\"source\" : \"52\",\"target\" : \"59\"}},{\"data\" : {\"source\" : \"53\",\"target\" : \"49\"}},{\"data\" : {\"source\" : \"53\",\"target\" : \"58\"}},{\"data\" : {\"source\" : \"53\",\"target\" : \"46\"}},{\"data\" : {\"source\" : \"53\",\"target\" : \"59\"}},{\"data\" : {\"source\" : \"53\",\"target\" : \"45\"}},{\"data\" : {\"source\" : \"53\",\"target\" : \"60\"}},{\"data\" : {\"source\" : \"54\",\"target\" : \"50\"}},{\"data\" : {\"source\" : \"54\",\"target\" : \"47\"}},{\"data\" : {\"source\" : \"54\",\"target\" : \"60\"}},{\"data\" : {\"source\" : \"54\",\"target\" : \"46\"}},{\"data\" : {\"source\" : \"55\",\"target\" : \"59\"}},{\"data\" : {\"source\" : \"55\",\"target\" : \"49\"}},{\"data\" : {\"source\" : \"55\",\"target\" : \"61\"}},{\"data\" : {\"source\" : \"55\",\"target\" : \"48\"}},{\"data\" : {\"source\" : \"55\",\"target\" : \"62\"}},{\"data\" : {\"source\" : \"56\",\"target\" : \"60\"}},{\"data\" : {\"source\" : \"56\",\"target\" : \"50\"}},{\"data\" : {\"source\" : \"56\",\"target\" : \"62\"}},{\"data\" : {\"source\" : \"56\",\"target\" : \"49\"}},{\"data\" : {\"source\" : \"57\",\"target\" : \"52\"}},{\"data\" : {\"source\" : \"57\",\"target\" : \"63\"}},{\"data\" : {\"source\" : \"57\",\"target\" : \"51\"}},{\"data\" : {\"source\" : \"57\",\"target\" : \"64\"}},{\"data\" : {\"source\" : \"58\",\"target\" : \"53\"}},{\"data\" : {\"source\" : \"58\",\"target\" : \"64\"}},{\"data\" : {\"source\" : \"58\",\"target\" : \"51\"}},{\"data\" : {\"source\" : \"58\",\"target\" : \"65\"}},{\"data\" : {\"source\" : \"59\",\"target\" : \"55\"}},{\"data\" : {\"source\" : \"59\",\"target\" : \"64\"}},{\"data\" : {\"source\" : \"59\",\"target\" : \"53\"}},{\"data\" : {\"source\" : \"59\",\"target\" : \"66\"}},{\"data\" : {\"source\" : \"59\",\"target\" : \"52\"}},{\"data\" : {\"source\" : \"59\",\"target\" : \"67\"}},{\"data\" : {\"source\" : \"60\",\"target\" : \"56\"}},{\"data\" : {\"source\" : \"60\",\"target\" : \"65\"}},{\"data\" : {\"source\" : \"60\",\"target\" : \"54\"}},{\"data\" : {\"source\" : \"60\",\"target\" : \"67\"}},{\"data\" : {\"source\" : \"60\",\"target\" : \"53\"}},{\"data\" : {\"source\" : \"61\",\"target\" : \"66\"}},{\"data\" : {\"source\" : \"61\",\"target\" : \"55\"}},{\"data\" : {\"source\" : \"61\",\"target\" : \"68\"}},{\"data\" : {\"source\" : \"62\",\"target\" : \"67\"}},{\"data\" : {\"source\" : \"62\",\"target\" : \"56\"}},{\"data\" : {\"source\" : \"62\",\"target\" : \"68\"}},{\"data\" : {\"source\" : \"62\",\"target\" : \"55\"}},{\"data\" : {\"source\" : \"63\",\"target\" : \"69\"}},{\"data\" : {\"source\" : \"63\",\"target\" : \"57\"}},{\"data\" : {\"source\" : \"63\",\"target\" : \"70\"}},{\"data\" : {\"source\" : \"64\",\"target\" : \"59\"}},{\"data\" : {\"source\" : \"64\",\"target\" : \"70\"}},{\"data\" : {\"source\" : \"64\",\"target\" : \"58\"}},{\"data\" : {\"source\" : \"64\",\"target\" : \"71\"}},{\"data\" : {\"source\" : \"64\",\"target\" : \"57\"}},{\"data\" : {\"source\" : \"64\",\"target\" : \"72\"}},{\"data\" : {\"source\" : \"65\",\"target\" : \"60\"}},{\"data\" : {\"source\" : \"65\",\"target\" : \"72\"}},{\"data\" : {\"source\" : \"65\",\"target\" : \"58\"}},{\"data\" : {\"source\" : \"66\",\"target\" : \"61\"}},{\"data\" : {\"source\" : \"66\",\"target\" : \"71\"}},{\"data\" : {\"source\" : \"66\",\"target\" : \"59\"}},{\"data\" : {\"source\" : \"66\",\"target\" : \"73\"}},{\"data\" : {\"source\" : \"67\",\"target\" : \"62\"}},{\"data\" : {\"source\" : \"67\",\"target\" : \"72\"}},{\"data\" : {\"source\" : \"67\",\"target\" : \"60\"}},{\"data\" : {\"source\" : \"67\",\"target\" : \"73\"}},{\"data\" : {\"source\" : \"67\",\"target\" : \"59\"}},{\"data\" : {\"source\" : \"68\",\"target\" : \"73\"}},{\"data\" : {\"source\" : \"68\",\"target\" : \"62\"}},{\"data\" : {\"source\" : \"68\",\"target\" : \"74\"}},{\"data\" : {\"source\" : \"68\",\"target\" : \"61\"}},{\"data\" : {\"source\" : \"69\",\"target\" : \"63\"}},{\"data\" : {\"source\" : \"69\",\"target\" : \"75\"}},{\"data\" : {\"source\" : \"70\",\"target\" : \"75\"}},{\"data\" : {\"source\" : \"70\",\"target\" : \"64\"}},{\"data\" : {\"source\" : \"70\",\"target\" : \"76\"}},{\"data\" : {\"source\" : \"70\",\"target\" : \"63\"}},{\"data\" : {\"source\" : \"70\",\"target\" : \"77\"}},{\"data\" : {\"source\" : \"71\",\"target\" : \"66\"}},{\"data\" : {\"source\" : \"71\",\"target\" : \"76\"}},{\"data\" : {\"source\" : \"71\",\"target\" : \"64\"}},{\"data\" : {\"source\" : \"71\",\"target\" : \"78\"}},{\"data\" : {\"source\" : \"72\",\"target\" : \"67\"}},{\"data\" : {\"source\" : \"72\",\"target\" : \"77\"}},{\"data\" : {\"source\" : \"72\",\"target\" : \"65\"}},{\"data\" : {\"source\" : \"72\",\"target\" : \"78\"}},{\"data\" : {\"source\" : \"72\",\"target\" : \"64\"}},{\"data\" : {\"source\" : \"73\",\"target\" : \"68\"}},{\"data\" : {\"source\" : \"73\",\"target\" : \"78\"}},{\"data\" : {\"source\" : \"73\",\"target\" : \"67\"}},{\"data\" : {\"source\" : \"73\",\"target\" : \"79\"}},{\"data\" : {\"source\" : \"73\",\"target\" : \"66\"}},{\"data\" : {\"source\" : \"74\",\"target\" : \"79\"}},{\"data\" : {\"source\" : \"74\",\"target\" : \"68\"}},{\"data\" : {\"source\" : \"75\",\"target\" : \"70\"}},{\"data\" : {\"source\" : \"75\",\"target\" : \"80\"}},{\"data\" : {\"source\" : \"75\",\"target\" : \"69\"}},{\"data\" : {\"source\" : \"75\",\"target\" : \"81\"}},{\"data\" : {\"source\" : \"76\",\"target\" : \"80\"}},{\"data\" : {\"source\" : \"76\",\"target\" : \"71\"}},{\"data\" : {\"source\" : \"76\",\"target\" : \"82\"}},{\"data\" : {\"source\" : \"76\",\"target\" : \"70\"}},{\"data\" : {\"source\" : \"76\",\"target\" : \"83\"}},{\"data\" : {\"source\" : \"77\",\"target\" : \"81\"}},{\"data\" : {\"source\" : \"77\",\"target\" : \"72\"}},{\"data\" : {\"source\" : \"77\",\"target\" : \"83\"}},{\"data\" : {\"source\" : \"77\",\"target\" : \"70\"}},{\"data\" : {\"source\" : \"78\",\"target\" : \"73\"}},{\"data\" : {\"source\" : \"78\",\"target\" : \"83\"}},{\"data\" : {\"source\" : \"78\",\"target\" : \"72\"}},{\"data\" : {\"source\" : \"78\",\"target\" : \"84\"}},{\"data\" : {\"source\" : \"78\",\"target\" : \"71\"}},{\"data\" : {\"source\" : \"79\",\"target\" : \"74\"}},{\"data\" : {\"source\" : \"79\",\"target\" : \"84\"}},{\"data\" : {\"source\" : \"79\",\"target\" : \"73\"}},{\"data\" : {\"source\" : \"80\",\"target\" : \"76\"}},{\"data\" : {\"source\" : \"80\",\"target\" : \"85\"}},{\"data\" : {\"source\" : \"80\",\"target\" : \"75\"}},{\"data\" : {\"source\" : \"80\",\"target\" : \"86\"}},{\"data\" : {\"source\" : \"81\",\"target\" : \"77\"}},{\"data\" : {\"source\" : \"81\",\"target\" : \"86\"}},{\"data\" : {\"source\" : \"81\",\"target\" : \"75\"}},{\"data\" : {\"source\" : \"82\",\"target\" : \"85\"}},{\"data\" : {\"source\" : \"82\",\"target\" : \"76\"}},{\"data\" : {\"source\" : \"82\",\"target\" : \"87\"}},{\"data\" : {\"source\" : \"83\",\"target\" : \"86\"}},{\"data\" : {\"source\" : \"83\",\"target\" : \"78\"}},{\"data\" : {\"source\" : \"83\",\"target\" : \"87\"}},{\"data\" : {\"source\" : \"83\",\"target\" : \"77\"}},{\"data\" : {\"source\" : \"83\",\"target\" : \"88\"}},{\"data\" : {\"source\" : \"83\",\"target\" : \"76\"}},{\"data\" : {\"source\" : \"84\",\"target\" : \"79\"}},{\"data\" : {\"source\" : \"84\",\"target\" : \"88\"}},{\"data\" : {\"source\" : \"84\",\"target\" : \"78\"}},{\"data\" : {\"source\" : \"85\",\"target\" : \"82\"}},{\"data\" : {\"source\" : \"85\",\"target\" : \"89\"}},{\"data\" : {\"source\" : \"85\",\"target\" : \"80\"}},{\"data\" : {\"source\" : \"85\",\"target\" : \"90\"}},{\"data\" : {\"source\" : \"86\",\"target\" : \"83\"}},{\"data\" : {\"source\" : \"86\",\"target\" : \"90\"}},{\"data\" : {\"source\" : \"86\",\"target\" : \"81\"}},{\"data\" : {\"source\" : \"86\",\"target\" : \"91\"}},{\"data\" : {\"source\" : \"86\",\"target\" : \"80\"}},{\"data\" : {\"source\" : \"87\",\"target\" : \"90\"}},{\"data\" : {\"source\" : \"87\",\"target\" : \"83\"}},{\"data\" : {\"source\" : \"87\",\"target\" : \"92\"}},{\"data\" : {\"source\" : \"87\",\"target\" : \"82\"}},{\"data\" : {\"source\" : \"88\",\"target\" : \"91\"}},{\"data\" : {\"source\" : \"88\",\"target\" : \"84\"}},{\"data\" : {\"source\" : \"88\",\"target\" : \"92\"}},{\"data\" : {\"source\" : \"88\",\"target\" : \"83\"}},{\"data\" : {\"source\" : \"89\",\"target\" : \"93\"}},{\"data\" : {\"source\" : \"89\",\"target\" : \"85\"}},{\"data\" : {\"source\" : \"89\",\"target\" : \"94\"}},{\"data\" : {\"source\" : \"90\",\"target\" : \"87\"}},{\"data\" : {\"source\" : \"90\",\"target\" : \"94\"}},{\"data\" : {\"source\" : \"90\",\"target\" : \"86\"}},{\"data\" : {\"source\" : \"90\",\"target\" : \"95\"}},{\"data\" : {\"source\" : \"90\",\"target\" : \"85\"}},{\"data\" : {\"source\" : \"91\",\"target\" : \"88\"}},{\"data\" : {\"source\" : \"91\",\"target\" : \"95\"}},{\"data\" : {\"source\" : \"91\",\"target\" : \"86\"}},{\"data\" : {\"source\" : \"92\",\"target\" : \"95\"}},{\"data\" : {\"source\" : \"92\",\"target\" : \"88\"}},{\"data\" : {\"source\" : \"92\",\"target\" : \"96\"}},{\"data\" : {\"source\" : \"92\",\"target\" : \"87\"}},{\"data\" : {\"source\" : \"93\",\"target\" : \"97\"}},{\"data\" : {\"source\" : \"93\",\"target\" : \"89\"}},{\"data\" : {\"source\" : \"93\",\"target\" : \"98\"}},{\"data\" : {\"source\" : \"94\",\"target\" : \"98\"}},{\"data\" : {\"source\" : \"94\",\"target\" : \"90\"}},{\"data\" : {\"source\" : \"94\",\"target\" : \"99\"}},{\"data\" : {\"source\" : \"94\",\"target\" : \"89\"}},{\"data\" : {\"source\" : \"95\",\"target\" : \"92\"}},{\"data\" : {\"source\" : \"95\",\"target\" : \"99\"}},{\"data\" : {\"source\" : \"95\",\"target\" : \"91\"}},{\"data\" : {\"source\" : \"95\",\"target\" : \"100\"}},{\"data\" : {\"source\" : \"95\",\"target\" : \"90\"}},{\"data\" : {\"source\" : \"96\",\"target\" : \"100\"}},{\"data\" : {\"source\" : \"96\",\"target\" : \"92\"}},{\"data\" : {\"source\" : \"97\",\"target\" : \"93\"}},{\"data\" : {\"source\" : \"97\",\"target\" : \"101\"}},{\"data\" : {\"source\" : \"98\",\"target\" : \"101\"}},{\"data\" : {\"source\" : \"98\",\"target\" : \"94\"}},{\"data\" : {\"source\" : \"98\",\"target\" : \"102\"}},{\"data\" : {\"source\" : \"98\",\"target\" : \"93\"}},{\"data\" : {\"source\" : \"99\",\"target\" : \"102\"}},{\"data\" : {\"source\" : \"99\",\"target\" : \"95\"}},{\"data\" : {\"source\" : \"99\",\"target\" : \"103\"}},{\"data\" : {\"source\" : \"99\",\"target\" : \"94\"}},{\"data\" : {\"source\" : \"100\",\"target\" : \"96\"}},{\"data\" : {\"source\" : \"100\",\"target\" : \"103\"}},{\"data\" : {\"source\" : \"100\",\"target\" : \"95\"}},{\"data\" : {\"source\" : \"101\",\"target\" : \"98\"}},{\"data\" : {\"source\" : \"101\",\"target\" : \"104\"}},{\"data\" : {\"source\" : \"101\",\"target\" : \"97\"}},{\"data\" : {\"source\" : \"102\",\"target\" : \"104\"}},{\"data\" : {\"source\" : \"102\",\"target\" : \"99\"}},{\"data\" : {\"source\" : \"102\",\"target\" : \"105\"}},{\"data\" : {\"source\" : \"102\",\"target\" : \"98\"}},{\"data\" : {\"source\" : \"103\",\"target\" : \"105\"}},{\"data\" : {\"source\" : \"103\",\"target\" : \"100\"}},{\"data\" : {\"source\" : \"103\",\"target\" : \"106\"}},{\"data\" : {\"source\" : \"103\",\"target\" : \"99\"}},{\"data\" : {\"source\" : \"104\",\"target\" : \"102\"}},{\"data\" : {\"source\" : \"104\",\"target\" : \"107\"}},{\"data\" : {\"source\" : \"104\",\"target\" : \"101\"}},{\"data\" : {\"source\" : \"105\",\"target\" : \"107\"}},{\"data\" : {\"source\" : \"105\",\"target\" : \"103\"}},{\"data\" : {\"source\" : \"105\",\"target\" : \"108\"}},{\"data\" : {\"source\" : \"105\",\"target\" : \"102\"}},{\"data\" : {\"source\" : \"106\",\"target\" : \"108\"}},{\"data\" : {\"source\" : \"106\",\"target\" : \"103\"}},{\"data\" : {\"source\" : \"107\",\"target\" : \"105\"}},{\"data\" : {\"source\" : \"107\",\"target\" : \"109\"}},{\"data\" : {\"source\" : \"107\",\"target\" : \"104\"}},{\"data\" : {\"source\" : \"108\",\"target\" : \"109\"}},{\"data\" : {\"source\" : \"108\",\"target\" : \"106\"}},{\"data\" : {\"source\" : \"108\",\"target\" : \"110\"}},{\"data\" : {\"source\" : \"108\",\"target\" : \"105\"}},{\"data\" : {\"source\" : \"109\",\"target\" : \"108\"}},{\"data\" : {\"source\" : \"109\",\"target\" : \"111\"}},{\"data\" : {\"source\" : \"109\",\"target\" : \"107\"}},{\"data\" : {\"source\" : \"110\",\"target\" : \"111\"}},{\"data\" : {\"source\" : \"110\",\"target\" : \"112\"}},{\"data\" : {\"source\" : \"110\",\"target\" : \"108\"}},{\"data\" : {\"source\" : \"111\",\"target\" : \"110\"}},{\"data\" : {\"source\" : \"111\",\"target\" : \"113\"}},{\"data\" : {\"source\" : \"111\",\"target\" : \"114\"}},{\"data\" : {\"source\" : \"111\",\"target\" : \"109\"}},{\"data\" : {\"source\" : \"112\",\"target\" : \"113\"}},{\"data\" : {\"source\" : \"112\",\"target\" : \"110\"}},{\"data\" : {\"source\" : \"113\",\"target\" : \"112\"}},{\"data\" : {\"source\" : \"113\",\"target\" : \"111\"}},{\"data\" : {\"source\" : \"113\",\"target\" : \"115\"}},{\"data\" : {\"source\" : \"114\",\"target\" : \"115\"}},{\"data\" : {\"source\" : \"114\",\"target\" : \"111\"}},{\"data\" : {\"source\" : \"115\",\"target\" : \"114\"}},{\"data\" : {\"source\" : \"115\",\"target\" : \"113\"}},{\"data\" : {\"source\" : \"115\",\"target\" : \"116\"}},{\"data\" : {\"source\" : \"116\",\"target\" : \"115\"}},{\"data\" : {\"source\" : \"116\",\"target\" : \"117\"}},{\"data\" : {\"source\" : \"117\",\"target\" : \"116\"}},{\"data\" : {\"source\" : \"117\",\"target\" : \"118\"}},{\"data\" : {\"source\" : \"118\",\"target\" : \"117\"}},{\"data\" : {\"source\" : \"118\",\"target\" : \"119\"}},{\"data\" : {\"source\" : \"119\",\"target\" : \"118\"}},{\"data\" : {\"source\" : \"119\",\"target\" : \"120\"}},{\"data\" : {\"source\" : \"120\",\"target\" : \"119\"}}],\"layout\" : {\"name\" : \"cose\"},\"style\" : [{\"selector\" : \"node\",\"style\" : {\"content\" : \"data(id)\"}}]},\"height\" : 400,\"tool\" : \"cytoscape\"}\n",
       ",function(element,visualization){\n",
       "});\n",
       "}if(window.librariesLoadedFromGAP.hasOwnProperty(\"viz-tool-cytoscape\"\n",
       ")){myCallback()}else{var filenameString=JSON.stringify(\"viz-tool-cytoscape\"\n",
       ");var GAPcode=\"JUPVIZFileContents( LoadJavaScriptFile( \"+filenameString+\" ) );\";window.runGAP(GAPcode,function(result,error){if(error)throw Error(\"When loading library \"+filenameString+\": \"+error);result=result[\"text/plain\"];window.librariesLoadedFromGAP[\"viz-tool-cytoscape\"\n",
       "]=result;try{var whatItEvaluatesTo=eval(result)}catch(e){throw Error(\"Error evaluating code for library \"+filenameString+\": \"+e)}return myCallback()})}\n",
       "}if(window.librariesLoadedFromGAP.hasOwnProperty(\"main\"\n",
       ")){myCallback()}else{var filenameString=JSON.stringify(\"main\"\n",
       ");var GAPcode=\"JUPVIZFileContents( LoadJavaScriptFile( \"+filenameString+\" ) );\";window.runGAP(GAPcode,function(result,error){if(error)throw Error(\"When loading library \"+filenameString+\": \"+error);result=result[\"text/plain\"];window.librariesLoadedFromGAP[\"main\"\n",
       "]=result;try{var whatItEvaluatesTo=eval(result)}catch(e){throw Error(\"Error evaluating code for library \"+filenameString+\": \"+e)}return myCallback()})}\n",
       ";\n",
       "} )( element.get( 0 ) )"
      ]
     },
     "execution_count": 39,
     "metadata": {
      "application/javascript": ""
     },
     "output_type": "execute_result"
    }
   ],
   "source": [
    "edges := Filtered(Data(E8).roots.edges, x-> x[1] <> x[2]);;\n",
    "PlotGraph(edges);"
   ]
  },
  {
   "cell_type": "markdown",
   "id": "6ede1cf7",
   "metadata": {},
   "source": [
    "### Reflections"
   ]
  },
  {
   "cell_type": "markdown",
   "id": "44610012",
   "metadata": {},
   "source": [
    "* From the word $w = a_0 a_1 \\dots a_m$ corresponding to the root $\\alpha \\in \\Phi^+$, we can compute the reflection\n",
    "$$\n",
    "s_{\\alpha} = s_{a_0}^{s_{a_{1}} \\dotsm s_{a_{m}}}\n",
    "$$"
   ]
  },
  {
   "cell_type": "code",
   "execution_count": 40,
   "id": "5fe211b5",
   "metadata": {},
   "outputs": [
    {
     "data": {
      "text/plain": [
       "function( W ) ... end"
      ]
     },
     "execution_count": 40,
     "metadata": {
      "text/plain": ""
     },
     "output_type": "execute_result"
    }
   ],
   "source": [
    "reflections := function(W)\n",
    "    local reflection_from_word;\n",
    "    reflection_from_word := function(w)\n",
    "        return W.(w[1])^Product(Data(W).perms{w{[2..Length(w)]}});\n",
    "    end;\n",
    "    return List(Data(W).roots.words, reflection_from_word);\n",
    "end;"
   ]
  },
  {
   "cell_type": "markdown",
   "id": "088358fd",
   "metadata": {},
   "source": [
    "* Example:"
   ]
  },
  {
   "cell_type": "code",
   "execution_count": 42,
   "id": "9e1ef180",
   "metadata": {},
   "outputs": [
    {
     "data": {
      "text/plain": [
       "[ (1,7)(2,4)(5,6)(8,10)(11,12), (1,4)(2,8)(3,5)(7,10)(9,11),   (2,5)(3,9)(4,6)(8,11)(10,12), (1,8)(2,7)(3,6)(4,10)(9,12),   (1,6)(2,9)(3,8)(5,11)(7,12), (1,11)(3,10)(4,9)(5,7)(6,12) ]"
      ]
     },
     "execution_count": 42,
     "metadata": {
      "text/plain": ""
     },
     "output_type": "execute_result"
    }
   ],
   "source": [
    "A3 := coxeterGroup(cartanMat(\"A\", 3));;\n",
    "rr := reflections(A3);"
   ]
  },
  {
   "cell_type": "code",
   "execution_count": 43,
   "id": "cfb356b2",
   "metadata": {},
   "outputs": [
    {
     "data": {
      "text/plain": [
       "6"
      ]
     },
     "execution_count": 43,
     "metadata": {
      "text/plain": ""
     },
     "output_type": "execute_result"
    }
   ],
   "source": [
    "Length(rr);"
   ]
  },
  {
   "cell_type": "markdown",
   "id": "14dd34f8",
   "metadata": {},
   "source": [
    "##  Basic Properties"
   ]
  },
  {
   "cell_type": "markdown",
   "id": "7ac5d9fe",
   "metadata": {},
   "source": [
    "* Some Basis properties of elements of $W$ are now immediate."
   ]
  },
  {
   "cell_type": "markdown",
   "id": "42ee1862",
   "metadata": {},
   "source": [
    "### Length"
   ]
  },
  {
   "cell_type": "markdown",
   "id": "d8dcbbbd",
   "metadata": {},
   "source": [
    "* The **length** of  an element $w \\in W$ is $\\ell(w) = \\#\\{\\alpha \\in \\Phi^{+} : \\alpha.w \\in \\Phi^{-}\\}$"
   ]
  },
  {
   "cell_type": "code",
   "execution_count": 44,
   "id": "b0616e96",
   "metadata": {},
   "outputs": [
    {
     "data": {
      "text/plain": [
       "function( W, w ) ... end"
      ]
     },
     "execution_count": 44,
     "metadata": {
      "text/plain": ""
     },
     "output_type": "execute_result"
    }
   ],
   "source": [
    "coxeterLength := function(W, w)\n",
    "    return Number([1..Data(W).N], i-> i^w > Data(W).N);\n",
    "end;"
   ]
  },
  {
   "cell_type": "code",
   "execution_count": 45,
   "id": "eaf0a698",
   "metadata": {},
   "outputs": [
    {
     "data": {
      "text/plain": [
       "[ 1, 1, 1, 1, 1, 1, 1, 1 ]"
      ]
     },
     "execution_count": 45,
     "metadata": {
      "text/plain": ""
     },
     "output_type": "execute_result"
    }
   ],
   "source": [
    "List(Data(E8).perms, w-> coxeterLength(E8, w));"
   ]
  },
  {
   "cell_type": "markdown",
   "id": "a2812b85",
   "metadata": {},
   "source": [
    "### Products"
   ]
  },
  {
   "cell_type": "markdown",
   "id": "d29b84ca",
   "metadata": {},
   "source": [
    "* Conversion `word -> perm`: as a product of simple reflections"
   ]
  },
  {
   "cell_type": "code",
   "execution_count": 48,
   "id": "b53c3656",
   "metadata": {},
   "outputs": [
    {
     "data": {
      "text/plain": [
       "(1,121)(2,122)(3,9)(4,10)(5,13,21,29)(6,7,8,142)(11,23)(12,26,28,42)(14,15,134,135)(16,17)(18,20,34,36)(19,38,35,54)(22,126,127,128)(24,33,39,50)(25,31,41,47)(27,46,43,30)(32,45,49,60)(37,40,53,56)(44,51,58,65)(48,66,74,67)(52,61,79,62)(55,73)(57,71,84,72)(59,68)(63,80,88,81)(64,78)(69,76,91,77)(70,86)(75,83)(82,100,92,90)(85,96,95,87)(89,103,99,94)(93,107,102,101)(97,105,104,98)(108,109)(110,113)(111,112)(114,115)(117,118,119,120)(123,129)(124,130)(125,133,141,149)(131,143)(132,146,148,162)(136,137)(138,140,154,156)(139,158,155,174)(144,153,159,170)(145,151,161,167)(147,166,163,150)(152,165,169,180)(157,160,173,176)(164,171,178,185)(168,186,194,187)(172,181,199,182)(175,193)(177,191,204,192)(179,188)(183,200,208,201)(184,198)(189,196,211,197)( [...] )"
      ]
     },
     "execution_count": 47,
     "metadata": {
      "text/plain": ""
     },
     "output_type": "execute_result"
    },
    {
     "data": {
      "text/plain": [
       "5"
      ]
     },
     "execution_count": 48,
     "metadata": {
      "text/plain": ""
     },
     "output_type": "execute_result"
    }
   ],
   "source": [
    "word := [5,2,3,8,7,5,3,1,6];;\n",
    "perm := Product(Data(E8).perms{word});\n",
    "coxeterLength(E8, perm);"
   ]
  },
  {
   "cell_type": "code",
   "execution_count": 49,
   "id": "fde92441",
   "metadata": {},
   "outputs": [
    {
     "data": {
      "text/plain": [
       "function( W, word ) ... end"
      ]
     },
     "execution_count": 49,
     "metadata": {
      "text/plain": ""
     },
     "output_type": "execute_result"
    }
   ],
   "source": [
    "permCoxeterWord := function(W, word)\n",
    "    if word = [] then return (); fi;\n",
    "    return Product(Data(W).perms{word});\n",
    "end;"
   ]
  },
  {
   "cell_type": "code",
   "execution_count": 50,
   "id": "53dd877e",
   "metadata": {},
   "outputs": [
    {
     "data": {
      "text/plain": [
       "(1,121)(2,122)(3,9)(4,10)(5,13,21,29)(6,7,8,142)(11,23)(12,26,28,42)(14,15,134,135)(16,17)(18,20,34,36)(19,38,35,54)(22,126,127,128)(24,33,39,50)(25,31,41,47)(27,46,43,30)(32,45,49,60)(37,40,53,56)(44,51,58,65)(48,66,74,67)(52,61,79,62)(55,73)(57,71,84,72)(59,68)(63,80,88,81)(64,78)(69,76,91,77)(70,86)(75,83)(82,100,92,90)(85,96,95,87)(89,103,99,94)(93,107,102,101)(97,105,104,98)(108,109)(110,113)(111,112)(114,115)(117,118,119,120)(123,129)(124,130)(125,133,141,149)(131,143)(132,146,148,162)(136,137)(138,140,154,156)(139,158,155,174)(144,153,159,170)(145,151,161,167)(147,166,163,150)(152,165,169,180)(157,160,173,176)(164,171,178,185)(168,186,194,187)(172,181,199,182)(175,193)(177,191,204,192)(179,188)(183,200,208,201)(184,198)(189,196,211,197)( [...] )"
      ]
     },
     "execution_count": 50,
     "metadata": {
      "text/plain": ""
     },
     "output_type": "execute_result"
    }
   ],
   "source": [
    "permCoxeterWord(E8, word);"
   ]
  },
  {
   "cell_type": "markdown",
   "id": "8c4e4f4c",
   "metadata": {},
   "source": [
    "### Descents"
   ]
  },
  {
   "cell_type": "markdown",
   "id": "786384f6",
   "metadata": {},
   "source": [
    "* $s \\in S$ is a **left descent** of $w \\in W$ if $\\ell(sw) < \\ell(w)$, i.e., if $\\alpha_s.w \\in \\Phi^{-}$."
   ]
  },
  {
   "cell_type": "code",
   "execution_count": 51,
   "id": "433238de",
   "metadata": {},
   "outputs": [
    {
     "data": {
      "text/plain": [
       "function( W, w, s ) ... end"
      ]
     },
     "execution_count": 51,
     "metadata": {
      "text/plain": ""
     },
     "output_type": "execute_result"
    }
   ],
   "source": [
    "isLeftDescent := function(W, w, s)\n",
    "    return s^w > Data(W).N;\n",
    "end;"
   ]
  },
  {
   "cell_type": "code",
   "execution_count": 53,
   "id": "a0df6b52",
   "metadata": {},
   "outputs": [
    {
     "data": {
      "text/plain": [
       "false"
      ]
     },
     "execution_count": 52,
     "metadata": {
      "text/plain": ""
     },
     "output_type": "execute_result"
    },
    {
     "data": {
      "text/plain": [
       "true"
      ]
     },
     "execution_count": 53,
     "metadata": {
      "text/plain": ""
     },
     "output_type": "execute_result"
    }
   ],
   "source": [
    "isLeftDescent(E8, perm, 5);\n",
    "isLeftDescent(E8, perm, 2);"
   ]
  },
  {
   "cell_type": "markdown",
   "id": "e358d878",
   "metadata": {},
   "source": [
    "### Reduced Expressions"
   ]
  },
  {
   "cell_type": "markdown",
   "id": "33982286",
   "metadata": {},
   "source": [
    "* Conversion `perm -> word`:  $w$ as a word in $S$ is a sequence of left descents."
   ]
  },
  {
   "cell_type": "code",
   "execution_count": 54,
   "id": "159ea128",
   "metadata": {},
   "outputs": [
    {
     "data": {
      "text/plain": [
       "function( W, w ) ... end"
      ]
     },
     "execution_count": 54,
     "metadata": {
      "text/plain": ""
     },
     "output_type": "execute_result"
    }
   ],
   "source": [
    "coxeterWord := function(W, w)\n",
    "    local word, a;\n",
    "    word := [];\n",
    "    while w <> () do\n",
    "        a := First([1..Data(W).rank], s-> isLeftDescent(W, w, s));\n",
    "        Add(word, a);  w := Data(W).perms[a] * w;\n",
    "    od;\n",
    "    return word;\n",
    "end;"
   ]
  },
  {
   "cell_type": "code",
   "execution_count": 55,
   "id": "cd36394f",
   "metadata": {},
   "outputs": [
    {
     "data": {
      "text/plain": [
       "[ 1, 2, 8, 7, 6 ]"
      ]
     },
     "execution_count": 55,
     "metadata": {
      "text/plain": ""
     },
     "output_type": "execute_result"
    }
   ],
   "source": [
    "reduced := coxeterWord(E8, perm);"
   ]
  },
  {
   "cell_type": "code",
   "execution_count": 56,
   "id": "5ebf11a2",
   "metadata": {},
   "outputs": [
    {
     "data": {
      "text/plain": [
       "true"
      ]
     },
     "execution_count": 56,
     "metadata": {
      "text/plain": ""
     },
     "output_type": "execute_result"
    }
   ],
   "source": [
    "permCoxeterWord(E8, reduced) = perm;"
   ]
  },
  {
   "cell_type": "markdown",
   "id": "203e0073",
   "metadata": {},
   "source": [
    "* To find a reduced expression of any word in $S$, convert `word -> perm` and then `perm -> word`."
   ]
  },
  {
   "cell_type": "code",
   "execution_count": 57,
   "id": "2a3748c0",
   "metadata": {},
   "outputs": [
    {
     "data": {
      "text/plain": [
       "function( W, word ) ... end"
      ]
     },
     "execution_count": 57,
     "metadata": {
      "text/plain": ""
     },
     "output_type": "execute_result"
    }
   ],
   "source": [
    "reducedWord := function(W, word)\n",
    "    return coxeterWord(W, permCoxeterWord(W, word));\n",
    "end;"
   ]
  },
  {
   "cell_type": "code",
   "execution_count": 59,
   "id": "0adbe859",
   "metadata": {},
   "outputs": [
    {
     "data": {
      "text/plain": [
       "[ 5, 2, 3, 8, 7, 5, 3, 1, 6 ]"
      ]
     },
     "execution_count": 58,
     "metadata": {
      "text/plain": ""
     },
     "output_type": "execute_result"
    },
    {
     "data": {
      "text/plain": [
       "[ 1, 2, 8, 7, 6 ]"
      ]
     },
     "execution_count": 59,
     "metadata": {
      "text/plain": ""
     },
     "output_type": "execute_result"
    }
   ],
   "source": [
    "word;\n",
    "reducedWord(E8, word);"
   ]
  },
  {
   "cell_type": "markdown",
   "id": "cebc0d34",
   "metadata": {},
   "source": [
    "### Longest Elements"
   ]
  },
  {
   "cell_type": "markdown",
   "id": "e4ece1ac",
   "metadata": {},
   "source": [
    "* **Longest elements**.  A finite Coxeter group $W$ has a longest element $w_0$.\n",
    "* In fact, for each $J \\subseteq S$ there is one, $w_J$.\n",
    "* It can be computed as a product of non-descents. "
   ]
  },
  {
   "cell_type": "code",
   "execution_count": 60,
   "id": "3fe17fed",
   "metadata": {},
   "outputs": [
    {
     "data": {
      "text/plain": [
       "function( W, J ) ... end"
      ]
     },
     "execution_count": 60,
     "metadata": {
      "text/plain": ""
     },
     "output_type": "execute_result"
    }
   ],
   "source": [
    "longestElement := function(W, J)\n",
    "    local  wJ,  s;\n",
    "    wJ := ();\n",
    "    while true do\n",
    "        s := First(J, s-> not isLeftDescent(W, wJ, s));\n",
    "        if s = fail then  return wJ;  fi;\n",
    "        wJ := W.(s) * wJ;\n",
    "    od;\n",
    "end;"
   ]
  },
  {
   "cell_type": "code",
   "execution_count": 63,
   "id": "b6fcc6ac",
   "metadata": {},
   "outputs": [
    {
     "data": {
      "text/plain": [
       "[ 4, 5, 6 ]"
      ]
     },
     "execution_count": 61,
     "metadata": {
      "text/plain": ""
     },
     "output_type": "execute_result"
    },
    {
     "data": {
      "text/plain": [
       "(2,26)(3,27)(4,126)(5,125)(6,124)(7,28)(9,31)(10,18)(11,19)(12,133)(13,132)(14,21)(15,36)(16,24)(17,48)(20,140)(22,29)(23,52)(25,40)(30,45)(41,61)(44,63)(46,66)(49,55)(50,68)(51,57)(53,59)(54,73)(56,62)(58,82)(60,67)(64,76)(65,87)(72,83)(75,89)(80,85)(81,94)(84,96)(86,90)(88,92)(91,106)(95,103)(102,110)(104,111)(105,108)(107,109)(115,118)(116,117)(122,146)(123,147)(127,148)(129,151)(130,138)(131,139)(134,141)(135,156)(136,144)(137,168)(142,149)(143,172)(145,160)(150,165)(161,181)(164,183)(166,186)(169,175)(170,188)(171,177)(173,179)(174,193)(176,182)(178,202)(180,187)(184,196)(185,207)(192,203)(195,209)(200,205)(201,214)(204,216)(206,210)(208,212)(211,226)(215,223)(222,230)(224,231)(225,228)(227,229)(235,238)(236,237)"
      ]
     },
     "execution_count": 62,
     "metadata": {
      "text/plain": ""
     },
     "output_type": "execute_result"
    },
    {
     "data": {
      "text/plain": [
       "[ 4, 5, 4, 6, 5, 4 ]"
      ]
     },
     "execution_count": 63,
     "metadata": {
      "text/plain": ""
     },
     "output_type": "execute_result"
    }
   ],
   "source": [
    "J:= [4,5,6];\n",
    "wJ:= longestElement(E8, J);\n",
    "coxeterWord(E8, wJ);"
   ]
  },
  {
   "cell_type": "markdown",
   "id": "767b783b",
   "metadata": {},
   "source": [
    "* $w_J$ acts as a graph automorphism on $W_J$."
   ]
  },
  {
   "cell_type": "code",
   "execution_count": 65,
   "id": "7c6bedad",
   "metadata": {},
   "outputs": [
    {
     "data": {
      "text/plain": [
       "(1,126)(2,122)(3,125)(4,124)(5,123)(6,121)(7,97)(9,133)(10,130)(11,132)(12,131)(13,129)(14,93)(15,101)(16,140)(17,138)(18,137)(19,139)(20,136)(21,89)(22,98)(23,146)(24,147)(25,145)(26,143)(27,144)(28,85)(29,94)(30,153)(31,151)(32,152)(33,150)(34,82)(35,80)(36,90)(37,160)(38,158)(39,75)(40,157)(41,76)(42,87)(43,86)(44,168)(45,165)(46,70)(47,81)(48,164)(49,71)(50,83)(51,172)(52,171)(53,64)(54,77)(55,66)(56,78)(57,177)(60,72)(62,73)(63,183)(69,189)(74,118)(79,117)(84,116)(88,115)(91,114)(92,113)(95,111)(96,112)(99,109)(100,110)(102,107)(103,108)(127,217)(134,213)(135,221)(141,209)(142,218)(148,205)(149,214)(154,202)(155,200)(156,210)(159,195)(161,196)(162,207)(163,206)(166,190)(167,201)(169,191)(170,203)(173,184)(174,197)(175,186)(176,198)(180,192)(182,193)(194,238)(199,237)(204,236)(208,235)( [...] )"
      ]
     },
     "execution_count": 64,
     "metadata": {
      "text/plain": ""
     },
     "output_type": "execute_result"
    },
    {
     "data": {
      "text/plain": [
       "(1,6)(3,5)"
      ]
     },
     "execution_count": 65,
     "metadata": {
      "text/plain": ""
     },
     "output_type": "execute_result"
    }
   ],
   "source": [
    "w6:= longestElement(E8, [1..6]);\n",
    "Permutation(w6, Data(E8).perms{[1..6]}, OnPoints);"
   ]
  },
  {
   "cell_type": "markdown",
   "id": "39bbe1ce",
   "metadata": {},
   "source": [
    "###  Prefixes"
   ]
  },
  {
   "cell_type": "markdown",
   "id": "05c56704",
   "metadata": {},
   "source": [
    "* Prefixes (aka weak Bruhat Order): $u \\in W$ is a **prefix** of $w \\in W$ if $\\ell(u) + \\ell(u^{-1} w) = \\ell(w)$, i.e., if $w = uv$ with $\\ell(w) = \\ell(u) = \\ell(v)$.\n",
    "The set of all prefixes of $w$ is the **orbit (!)** of $w$ under the action $(w, s) \\mapsto ws$ if $\\ell(ws) < \\ell(w)$, and $w$ else. (Who is acting? On what?)"
   ]
  },
  {
   "cell_type": "code",
   "execution_count": 66,
   "id": "5d8b9313",
   "metadata": {},
   "outputs": [
    {
     "data": {
      "text/plain": [
       "function( W, w ) ... end"
      ]
     },
     "execution_count": 66,
     "metadata": {
      "text/plain": ""
     },
     "output_type": "execute_result"
    }
   ],
   "source": [
    "prefixes := function(W, w)\n",
    "    local onRightDescents;\n",
    "\n",
    "    onRightDescents := function(w, s)\n",
    "        if isLeftDescent(W, w^-1, s) then\n",
    "            return w * W.(s);\n",
    "        else\n",
    "            return w;\n",
    "        fi;\n",
    "    end;\n",
    "\n",
    "    return orbit([1..Data(W).rank], w, onRightDescents);\n",
    "end;"
   ]
  },
  {
   "cell_type": "code",
   "execution_count": 69,
   "id": "d881bee0",
   "metadata": {},
   "outputs": [
    {
     "data": {
      "text/plain": [
       "[ [ 4, 5, 4 ], [ 4, 5 ], [ 5, 4 ], [ 4 ], [ 5 ], [  ] ]"
      ]
     },
     "execution_count": 69,
     "metadata": {
      "text/plain": ""
     },
     "output_type": "execute_result"
    }
   ],
   "source": [
    "w := longestElement(E8, [4,5]);;\n",
    "pre := prefixes(E8, w);;\n",
    "List(pre, x -> coxeterWord(E8, x));"
   ]
  },
  {
   "cell_type": "markdown",
   "id": "398e27ed",
   "metadata": {},
   "source": [
    "### Parabolic Subgroups and Distinguished Coset Representatives"
   ]
  },
  {
   "cell_type": "markdown",
   "id": "81421693",
   "metadata": {},
   "source": [
    "* For a subset $J \\subseteq S$, the subgroup $W_J = \\langle J \\rangle$ is called a **standard parabolic subgroup** of $W$.\n",
    "* Each coset $W_J w$, $w \\in W$, contains a **unique element of minimal length**.\n",
    "* The subgroup $W_J$ thus has a **distinguished transversal** $X_J = \\{ x \\in W : \\ell(ux) = \\ell(u) + \\ell(x) \\text{ for all } u \\in W_J \\}$.\n",
    "* In fact, $X_J$ is the set of prefixes of the **longest coset representative** $d_J = w_J^{-1} w_S = w_J w_S$."
   ]
  },
  {
   "cell_type": "code",
   "execution_count": 70,
   "id": "9c5c94ad",
   "metadata": {},
   "outputs": [
    {
     "data": {
      "text/plain": [
       "function( W, J, L ) ... end"
      ]
     },
     "execution_count": 70,
     "metadata": {
      "text/plain": ""
     },
     "output_type": "execute_result"
    }
   ],
   "source": [
    "longestCosetElement := function(W, J, L)\n",
    "    return longestElement(W, J) * longestElement(W, L);\n",
    "end;"
   ]
  },
  {
   "cell_type": "markdown",
   "id": "2622fc54",
   "metadata": {},
   "source": [
    "* For example, the longest coset representative of $E_6 \\subset E_7$ (in $E_8$)."
   ]
  },
  {
   "cell_type": "code",
   "execution_count": 72,
   "id": "c1c5e72f",
   "metadata": {},
   "outputs": [
    {
     "data": {
      "text/plain": [
       "[ 7, 6, 5, 4, 2, 3, 1, 4, 3, 5, 4, 2, 6, 5, 4, 3, 1, 7, 6, 5, 4, 2, 3, 4, 5,   6, 7 ]"
      ]
     },
     "execution_count": 72,
     "metadata": {
      "text/plain": ""
     },
     "output_type": "execute_result"
    }
   ],
   "source": [
    "dJL := longestCosetElement(E8, [1..6], [1..7]);;\n",
    "word := coxeterWord(E8, dJL);"
   ]
  },
  {
   "cell_type": "markdown",
   "id": "0d7c1a74",
   "metadata": {},
   "source": [
    "* And here is a function that computes the distinguished transversal of a parabolic subgroup $W_J$ of $W$:"
   ]
  },
  {
   "cell_type": "code",
   "execution_count": 73,
   "id": "2e43ca6d",
   "metadata": {},
   "outputs": [
    {
     "data": {
      "text/plain": [
       "function( W, J ) ... end"
      ]
     },
     "execution_count": 73,
     "metadata": {
      "text/plain": ""
     },
     "output_type": "execute_result"
    }
   ],
   "source": [
    "parabolicTransversal := function(W, J)\n",
    "    return prefixes(W, longestCosetElement(J, [1..Data(W).rank]));\n",
    "end;"
   ]
  },
  {
   "cell_type": "markdown",
   "id": "0911063b",
   "metadata": {},
   "source": [
    "* Naturally, $X_J$ is a graph."
   ]
  },
  {
   "cell_type": "code",
   "execution_count": 74,
   "id": "e846e818",
   "metadata": {},
   "outputs": [
    {
     "data": {
      "text/plain": [
       "function( W, w ) ... end"
      ]
     },
     "execution_count": 74,
     "metadata": {
      "text/plain": ""
     },
     "output_type": "execute_result"
    }
   ],
   "source": [
    "prefixes_with_edges := function(W, w)\n",
    "    local onRightDescents;\n",
    "\n",
    "    onRightDescents := function(w, s)\n",
    "        if isLeftDescent(W, w^-1, s) then\n",
    "            return w * W.(s);\n",
    "        else\n",
    "            return w;\n",
    "        fi;\n",
    "    end;\n",
    "\n",
    "    return orbit_with_edges([1..Data(W).rank], w, onRightDescents);\n",
    "end;"
   ]
  },
  {
   "cell_type": "code",
   "execution_count": 77,
   "id": "a3302a40",
   "metadata": {},
   "outputs": [
    {
     "data": {
      "application/javascript": [
       "( function ( element ) {\n",
       "if(!window.hasOwnProperty(\"runGAP\")){window.runGAP=function(code,callback){if(!Jupyter||!Jupyter.notebook||!Jupyter.notebook.kernel)return callback(null,\"JavaScript-based output must be re-evaluated when the notebook\"+\" is reloaded.  (Re-run the cell to clear this problem.)\");var errorMessages=[];var timeout=null;Jupyter.notebook.kernel.execute(code,{iopub:{output:function(message){if(\"data\"in message.content)return callback(message.content.data,null);if(!(\"text\"in message.content))return callback(null,message.content);errorMessages.push(message.content.text);if(timeout!==null)clearTimeout(timeout);timeout=setTimeout(function(){callback(null,errorMessages.join(\"\\n\"))},200)},clear_output:function(message){}},shell:{reply:function(message){}},input:function(message){}},{})}}if(!window.hasOwnProperty(\"librariesLoadedFromGAP\")){window.librariesLoadedFromGAP={}}function myCallback(){if(!window.hasOwnProperty(\"librariesLoadedFromGAP\")){window.librariesLoadedFromGAP={}}function myCallback(){window.createVisualization(element,{\"data\" : {\"elements\" : [{\"data\" : {\"id\" : \"1\"}},{\"data\" : {\"id\" : \"2\"}},{\"data\" : {\"id\" : \"3\"}},{\"data\" : {\"id\" : \"4\"}},{\"data\" : {\"id\" : \"5\"}},{\"data\" : {\"id\" : \"6\"}},{\"data\" : {\"id\" : \"7\"}},{\"data\" : {\"id\" : \"8\"}},{\"data\" : {\"id\" : \"9\"}},{\"data\" : {\"id\" : \"10\"}},{\"data\" : {\"id\" : \"11\"}},{\"data\" : {\"id\" : \"12\"}},{\"data\" : {\"id\" : \"13\"}},{\"data\" : {\"id\" : \"14\"}},{\"data\" : {\"id\" : \"15\"}},{\"data\" : {\"id\" : \"16\"}},{\"data\" : {\"id\" : \"17\"}},{\"data\" : {\"id\" : \"18\"}},{\"data\" : {\"id\" : \"19\"}},{\"data\" : {\"id\" : \"20\"}},{\"data\" : {\"id\" : \"21\"}},{\"data\" : {\"id\" : \"22\"}},{\"data\" : {\"id\" : \"23\"}},{\"data\" : {\"id\" : \"24\"}},{\"data\" : {\"id\" : \"25\"}},{\"data\" : {\"id\" : \"26\"}},{\"data\" : {\"id\" : \"27\"}},{\"data\" : {\"id\" : \"28\"}},{\"data\" : {\"id\" : \"29\"}},{\"data\" : {\"id\" : \"30\"}},{\"data\" : {\"id\" : \"31\"}},{\"data\" : {\"id\" : \"32\"}},{\"data\" : {\"id\" : \"33\"}},{\"data\" : {\"id\" : \"34\"}},{\"data\" : {\"id\" : \"35\"}},{\"data\" : {\"id\" : \"36\"}},{\"data\" : {\"id\" : \"37\"}},{\"data\" : {\"id\" : \"38\"}},{\"data\" : {\"id\" : \"39\"}},{\"data\" : {\"id\" : \"40\"}},{\"data\" : {\"id\" : \"41\"}},{\"data\" : {\"id\" : \"42\"}},{\"data\" : {\"id\" : \"43\"}},{\"data\" : {\"id\" : \"44\"}},{\"data\" : {\"id\" : \"45\"}},{\"data\" : {\"id\" : \"46\"}},{\"data\" : {\"id\" : \"47\"}},{\"data\" : {\"id\" : \"48\"}},{\"data\" : {\"id\" : \"49\"}},{\"data\" : {\"id\" : \"50\"}},{\"data\" : {\"id\" : \"51\"}},{\"data\" : {\"id\" : \"52\"}},{\"data\" : {\"id\" : \"53\"}},{\"data\" : {\"id\" : \"54\"}},{\"data\" : {\"id\" : \"55\"}},{\"data\" : {\"id\" : \"56\"}},{\"data\" : {\"source\" : \"1\",\"target\" : \"2\"}},{\"data\" : {\"source\" : \"2\",\"target\" : \"3\"}},{\"data\" : {\"source\" : \"3\",\"target\" : \"4\"}},{\"data\" : {\"source\" : \"4\",\"target\" : \"5\"}},{\"data\" : {\"source\" : \"5\",\"target\" : \"6\"}},{\"data\" : {\"source\" : \"5\",\"target\" : \"7\"}},{\"data\" : {\"source\" : \"6\",\"target\" : \"8\"}},{\"data\" : {\"source\" : \"7\",\"target\" : \"9\"}},{\"data\" : {\"source\" : \"7\",\"target\" : \"8\"}},{\"data\" : {\"source\" : \"8\",\"target\" : \"10\"}},{\"data\" : {\"source\" : \"8\",\"target\" : \"11\"}},{\"data\" : {\"source\" : \"9\",\"target\" : \"10\"}},{\"data\" : {\"source\" : \"10\",\"target\" : \"12\"}},{\"data\" : {\"source\" : \"11\",\"target\" : \"12\"}},{\"data\" : {\"source\" : \"11\",\"target\" : \"13\"}},{\"data\" : {\"source\" : \"12\",\"target\" : \"14\"}},{\"data\" : {\"source\" : \"12\",\"target\" : \"15\"}},{\"data\" : {\"source\" : \"13\",\"target\" : \"15\"}},{\"data\" : {\"source\" : \"13\",\"target\" : \"16\"}},{\"data\" : {\"source\" : \"14\",\"target\" : \"17\"}},{\"data\" : {\"source\" : \"15\",\"target\" : \"17\"}},{\"data\" : {\"source\" : \"15\",\"target\" : \"18\"}},{\"data\" : {\"source\" : \"16\",\"target\" : \"18\"}},{\"data\" : {\"source\" : \"16\",\"target\" : \"19\"}},{\"data\" : {\"source\" : \"17\",\"target\" : \"20\"}},{\"data\" : {\"source\" : \"17\",\"target\" : \"21\"}},{\"data\" : {\"source\" : \"18\",\"target\" : \"21\"}},{\"data\" : {\"source\" : \"18\",\"target\" : \"22\"}},{\"data\" : {\"source\" : \"19\",\"target\" : \"22\"}},{\"data\" : {\"source\" : \"20\",\"target\" : \"23\"}},{\"data\" : {\"source\" : \"20\",\"target\" : \"24\"}},{\"data\" : {\"source\" : \"21\",\"target\" : \"24\"}},{\"data\" : {\"source\" : \"21\",\"target\" : \"25\"}},{\"data\" : {\"source\" : \"22\",\"target\" : \"25\"}},{\"data\" : {\"source\" : \"23\",\"target\" : \"26\"}},{\"data\" : {\"source\" : \"24\",\"target\" : \"26\"}},{\"data\" : {\"source\" : \"24\",\"target\" : \"27\"}},{\"data\" : {\"source\" : \"24\",\"target\" : \"28\"}},{\"data\" : {\"source\" : \"25\",\"target\" : \"28\"}},{\"data\" : {\"source\" : \"26\",\"target\" : \"29\"}},{\"data\" : {\"source\" : \"26\",\"target\" : \"30\"}},{\"data\" : {\"source\" : \"27\",\"target\" : \"29\"}},{\"data\" : {\"source\" : \"27\",\"target\" : \"31\"}},{\"data\" : {\"source\" : \"28\",\"target\" : \"30\"}},{\"data\" : {\"source\" : \"28\",\"target\" : \"31\"}},{\"data\" : {\"source\" : \"29\",\"target\" : \"32\"}},{\"data\" : {\"source\" : \"29\",\"target\" : \"33\"}},{\"data\" : {\"source\" : \"30\",\"target\" : \"33\"}},{\"data\" : {\"source\" : \"31\",\"target\" : \"33\"}},{\"data\" : {\"source\" : \"31\",\"target\" : \"34\"}},{\"data\" : {\"source\" : \"32\",\"target\" : \"35\"}},{\"data\" : {\"source\" : \"32\",\"target\" : \"36\"}},{\"data\" : {\"source\" : \"33\",\"target\" : \"36\"}},{\"data\" : {\"source\" : \"33\",\"target\" : \"37\"}},{\"data\" : {\"source\" : \"34\",\"target\" : \"37\"}},{\"data\" : {\"source\" : \"35\",\"target\" : \"38\"}},{\"data\" : {\"source\" : \"35\",\"target\" : \"39\"}},{\"data\" : {\"source\" : \"36\",\"target\" : \"39\"}},{\"data\" : {\"source\" : \"36\",\"target\" : \"40\"}},{\"data\" : {\"source\" : \"37\",\"target\" : \"40\"}},{\"data\" : {\"source\" : \"38\",\"target\" : \"41\"}},{\"data\" : {\"source\" : \"39\",\"target\" : \"41\"}},{\"data\" : {\"source\" : \"39\",\"target\" : \"42\"}},{\"data\" : {\"source\" : \"40\",\"target\" : \"42\"}},{\"data\" : {\"source\" : \"40\",\"target\" : \"43\"}},{\"data\" : {\"source\" : \"41\",\"target\" : \"44\"}},{\"data\" : {\"source\" : \"42\",\"target\" : \"44\"}},{\"data\" : {\"source\" : \"42\",\"target\" : \"45\"}},{\"data\" : {\"source\" : \"43\",\"target\" : \"45\"}},{\"data\" : {\"source\" : \"44\",\"target\" : \"46\"}},{\"data\" : {\"source\" : \"45\",\"target\" : \"46\"}},{\"data\" : {\"source\" : \"45\",\"target\" : \"47\"}},{\"data\" : {\"source\" : \"46\",\"target\" : \"48\"}},{\"data\" : {\"source\" : \"47\",\"target\" : \"48\"}},{\"data\" : {\"source\" : \"47\",\"target\" : \"49\"}},{\"data\" : {\"source\" : \"48\",\"target\" : \"50\"}},{\"data\" : {\"source\" : \"48\",\"target\" : \"51\"}},{\"data\" : {\"source\" : \"49\",\"target\" : \"50\"}},{\"data\" : {\"source\" : \"50\",\"target\" : \"52\"}},{\"data\" : {\"source\" : \"51\",\"target\" : \"52\"}},{\"data\" : {\"source\" : \"52\",\"target\" : \"53\"}},{\"data\" : {\"source\" : \"53\",\"target\" : \"54\"}},{\"data\" : {\"source\" : \"54\",\"target\" : \"55\"}},{\"data\" : {\"source\" : \"55\",\"target\" : \"56\"}}],\"layout\" : {\"name\" : \"cose\"},\"style\" : [{\"selector\" : \"node\",\"style\" : {\"content\" : \"data(id)\",\"height\" : 12,\"width\" : 12}},{\"selector\" : \"edge\",\"style\" : {\"line-color\" : \"#def\"}}]},\"height\" : 400,\"tool\" : \"cytoscape\"}\n",
       ",function(element,visualization){\n",
       "});\n",
       "}if(window.librariesLoadedFromGAP.hasOwnProperty(\"viz-tool-cytoscape\"\n",
       ")){myCallback()}else{var filenameString=JSON.stringify(\"viz-tool-cytoscape\"\n",
       ");var GAPcode=\"JUPVIZFileContents( LoadJavaScriptFile( \"+filenameString+\" ) );\";window.runGAP(GAPcode,function(result,error){if(error)throw Error(\"When loading library \"+filenameString+\": \"+error);result=result[\"text/plain\"];window.librariesLoadedFromGAP[\"viz-tool-cytoscape\"\n",
       "]=result;try{var whatItEvaluatesTo=eval(result)}catch(e){throw Error(\"Error evaluating code for library \"+filenameString+\": \"+e)}return myCallback()})}\n",
       "}if(window.librariesLoadedFromGAP.hasOwnProperty(\"main\"\n",
       ")){myCallback()}else{var filenameString=JSON.stringify(\"main\"\n",
       ");var GAPcode=\"JUPVIZFileContents( LoadJavaScriptFile( \"+filenameString+\" ) );\";window.runGAP(GAPcode,function(result,error){if(error)throw Error(\"When loading library \"+filenameString+\": \"+error);result=result[\"text/plain\"];window.librariesLoadedFromGAP[\"main\"\n",
       "]=result;try{var whatItEvaluatesTo=eval(result)}catch(e){throw Error(\"Error evaluating code for library \"+filenameString+\": \"+e)}return myCallback()})}\n",
       ";\n",
       "} )( element.get( 0 ) )"
      ]
     },
     "execution_count": 77,
     "metadata": {
      "application/javascript": ""
     },
     "output_type": "execute_result"
    }
   ],
   "source": [
    "XJ := prefixes_with_edges(E8, dJL);;\n",
    "edges := Filtered(XJ.edges, x-> x[1] <> x[2]);;\n",
    "PlotGraph(edges, opts);"
   ]
  },
  {
   "cell_type": "markdown",
   "id": "0176e7f1",
   "metadata": {},
   "source": [
    "##  Shapes: Classes of Parabolic Subgroups"
   ]
  },
  {
   "cell_type": "markdown",
   "id": "5b643c4e",
   "metadata": {},
   "source": [
    "* $W$ acts on its subgroups by conjugations, in particular on its parabolic subgroups.\n",
    "* The set of standard parabolic subgroups $W_J$, $J \\subseteq S$ is thus partitioned into **shapes**: classes of conjugate parabolics."
   ]
  },
  {
   "cell_type": "markdown",
   "id": "a64657b4",
   "metadata": {},
   "source": [
    "###  Longest Words Action"
   ]
  },
  {
   "cell_type": "markdown",
   "id": "34d70a50",
   "metadata": {},
   "source": [
    "* Obviously, if $L = J \\cup \\{s\\}$ for some $s \\in S \\setminus J$ then conjugation by $d_J^L$ maps $W_J$ to\n",
    "$W_K$ for some $K \\subseteq L$.  In fact, $K = J^{d_J^L}$.\n",
    "* Define an action of (the free monoid) $S^*$ on the power set $2^S$ as\n",
    "$$\n",
    "(J, s) \\mapsto J.s := J^{d_J^L}, \\quad L = J \\cup \\{s\\}.\n",
    "$$\n",
    "* There is an **Orbit-Stabilizer Theorem** for this action."
   ]
  },
  {
   "cell_type": "markdown",
   "id": "d17e7c84",
   "metadata": {},
   "source": [
    "<div class=\"alert alert-danger\">\n",
    "\n",
    "**Theorem** (Howlett, ...) Let $(W, S)$ be a finite Coxeter group, and let $S^*$ act on $2^S$ as above. Then:\n",
    "* The shape $[J]$ of $J \\subseteq S$ is the $S^*$-orbit of $J$ under the above action.\n",
    "* $N_W(W_J) = W_J \\rtimes N_J$, where $N_J = \\{x \\in X_J : J^x = J\\}$ is the stablizer in $W$ of $J$ under this action.\n",
    "    \n",
    "</div>"
   ]
  },
  {
   "cell_type": "markdown",
   "id": "5cc33a33",
   "metadata": {},
   "source": [
    "* Let's see this in action, shapes first.\n",
    "* Actually, the tack-on action $(J, s) \\mapsto J \\cup \\{s\\}$ first."
   ]
  },
  {
   "cell_type": "code",
   "execution_count": 78,
   "id": "da2538ce",
   "metadata": {},
   "outputs": [
    {
     "data": {
      "text/plain": [
       "function( x, s ) ... end"
      ]
     },
     "execution_count": 78,
     "metadata": {
      "text/plain": ""
     },
     "output_type": "execute_result"
    }
   ],
   "source": [
    "tackOn := function(x, s)\n",
    "    return Union(x, [s]);\n",
    "end;"
   ]
  },
  {
   "cell_type": "code",
   "execution_count": 79,
   "id": "a6c5a5e0",
   "metadata": {},
   "outputs": [
    {
     "data": {
      "text/plain": [
       "[ 1, 3, 4, 5 ]"
      ]
     },
     "execution_count": 79,
     "metadata": {
      "text/plain": ""
     },
     "output_type": "execute_result"
    }
   ],
   "source": [
    "tackOn([1,3,5], 4);"
   ]
  },
  {
   "cell_type": "markdown",
   "id": "8617f375",
   "metadata": {},
   "source": [
    "* Using the longest words action on parabolics, we can make the shape of $J \\subseteq$ as an $S^*$-orbit.\n",
    "* Here, the action function `onParabolics` is local to the function `shape`, since it needs access to the ambient group $W$."
   ]
  },
  {
   "cell_type": "code",
   "execution_count": 80,
   "id": "13ecbbd6",
   "metadata": {},
   "outputs": [
    {
     "data": {
      "text/plain": [
       "function( W, J ) ... end"
      ]
     },
     "execution_count": 80,
     "metadata": {
      "text/plain": ""
     },
     "output_type": "execute_result"
    }
   ],
   "source": [
    "shape := function(W, J)\n",
    "    local onParabolics;\n",
    "    onParabolics := function(K, s)\n",
    "        return OnSets(K, longestCosetElement(W, K, tackOn(K, s)));\n",
    "    end;\n",
    "    return orbit([1..Data(W).rank], J, onParabolics);\n",
    "end;"
   ]
  },
  {
   "cell_type": "code",
   "execution_count": 81,
   "id": "5c54487a",
   "metadata": {},
   "outputs": [
    {
     "data": {
      "text/plain": [
       "[ [ 1, 3 ], [ 3, 4 ], [ 2, 4 ], [ 4, 5 ], [ 5, 6 ], [ 6, 7 ], [ 7, 8 ] ]"
      ]
     },
     "execution_count": 81,
     "metadata": {
      "text/plain": ""
     },
     "output_type": "execute_result"
    }
   ],
   "source": [
    "shape(E8, [1,3]);"
   ]
  },
  {
   "cell_type": "markdown",
   "id": "326a3bb6",
   "metadata": {},
   "source": [
    " * Denote by $\\Lambda$ the set of all shapes of $W$.\n",
    " * Recall (from the exercise in part 1) how the power set $2^S$ is the orbit of $S^*$ under the `takeAway` action.\n",
    " * Now, $\\Lambda$ is the $S^*$-orbit of the shape $\\{S\\}$ under that same action."
   ]
  },
  {
   "cell_type": "code",
   "execution_count": 82,
   "id": "5f3fa6c2",
   "metadata": {},
   "outputs": [
    {
     "data": {
      "text/plain": [
       "function( x, s ) ... end"
      ]
     },
     "execution_count": 82,
     "metadata": {
      "text/plain": ""
     },
     "output_type": "execute_result"
    }
   ],
   "source": [
    "takeAway := function(x, s)\n",
    "    return Difference(x, [s]);\n",
    "end;"
   ]
  },
  {
   "cell_type": "code",
   "execution_count": 83,
   "id": "34b672f0",
   "metadata": {},
   "outputs": [
    {
     "data": {
      "text/plain": [
       "function( W ) ... end"
      ]
     },
     "execution_count": 83,
     "metadata": {
      "text/plain": ""
     },
     "output_type": "execute_result"
    }
   ],
   "source": [
    "shapes := function(W)\n",
    "    local onShapes, S;\n",
    "    onShapes := function(x, s)\n",
    "        return Set(shape(W, takeAway(x[1], s)));\n",
    "    end;\n",
    "    S := [1..Data(W).rank];\n",
    "    return orbit(S, shape(W, S), onShapes);\n",
    "end;"
   ]
  },
  {
   "cell_type": "markdown",
   "id": "8cfcd755",
   "metadata": {},
   "source": [
    "* $E_8$, for example:"
   ]
  },
  {
   "cell_type": "code",
   "execution_count": 87,
   "id": "1890e6e4",
   "metadata": {},
   "outputs": [
    {
     "data": {
      "text/plain": [
       "[ [ 1 .. 8 ], [ 2, 3, 4, 5, 6, 7, 8 ], [ 1, 3, 4, 5, 6, 7, 8 ],   [ 1, 2, 4, 5, 6, 7, 8 ], [ 1, 2, 3, 5, 6, 7, 8 ], [ 1, 2, 3, 4, 6, 7, 8 ],   [ 1, 2, 3, 4, 5, 7, 8 ], [ 1, 2, 3, 4, 5, 6, 8 ], [ 1, 2, 3, 4, 5, 6, 7 ],   [ 1, 3, 4, 5, 6, 7 ], [ 1, 2, 3, 4, 6, 8 ], [ 1, 3, 4, 6, 7, 8 ],   [ 2, 3, 4, 5, 7, 8 ], [ 1, 2, 3, 4, 5, 7 ], [ 2, 3, 4, 5, 6, 7 ],   [ 1, 2, 4, 5, 6, 7 ], [ 1, 2, 3, 4, 6, 7 ], [ 1, 2, 3, 5, 6, 7 ],   [ 1, 2, 3, 5, 6, 8 ], [ 1, 2, 3, 4, 5, 6 ], [ 1, 3, 4, 5, 6 ],   [ 1, 2, 3, 4, 6 ], [ 1, 3, 4, 6, 7 ], [ 1, 2, 4, 5, 7 ], [ 1, 2, 3, 5, 7 ],   [ 2, 3, 4, 5, 7 ], [ 1, 2, 3, 4, 5 ], [ 1, 2, 3, 5, 6 ], [ 1, 2, 3, 4 ],   [ 1, 2, 4, 5 ], [ 1, 3, 5, 6 ], [ 1, 2, 3, 5 ], [ 1, 2, 5, 7 ],   [ 2, 3, 4, 5 ], [ 1, 3, 4 ], [ 1, 2, 3 ], [ 1, 2, 5 ], [ 1, 3 ], [ 1, 2 ],   [ 1 ], [  ] ]"
      ]
     },
     "execution_count": 85,
     "metadata": {
      "text/plain": ""
     },
     "output_type": "execute_result"
    },
    {
     "data": {
      "text/plain": [
       "41"
      ]
     },
     "execution_count": 86,
     "metadata": {
      "text/plain": ""
     },
     "output_type": "execute_result"
    },
    {
     "data": {
      "text/plain": [
       "256"
      ]
     },
     "execution_count": 87,
     "metadata": {
      "text/plain": ""
     },
     "output_type": "execute_result"
    }
   ],
   "source": [
    "sss := shapes(E8);;\n",
    "List(sss, x -> x[1]);\n",
    "Length(sss);\n",
    "Sum(sss, Length);"
   ]
  },
  {
   "cell_type": "markdown",
   "id": "6f3d4a36",
   "metadata": {},
   "source": [
    "###  Shape Graph"
   ]
  },
  {
   "cell_type": "markdown",
   "id": "01a76c83",
   "metadata": {},
   "source": [
    "* Naturally, a shape has a graph."
   ]
  },
  {
   "cell_type": "code",
   "execution_count": 88,
   "id": "f2cc68b9",
   "metadata": {},
   "outputs": [
    {
     "data": {
      "text/plain": [
       "function( W, J ) ... end"
      ]
     },
     "execution_count": 88,
     "metadata": {
      "text/plain": ""
     },
     "output_type": "execute_result"
    }
   ],
   "source": [
    "shape_with_edges := function(W, J)\n",
    "    local onParabolics;\n",
    "    onParabolics := function(K, s)\n",
    "        return OnSets(K, longestCosetElement(W, K, tackOn(K, s)));\n",
    "    end;\n",
    "    return orbit_with_edges([1..Data(W).rank], J, onParabolics);\n",
    "end;"
   ]
  },
  {
   "cell_type": "code",
   "execution_count": 91,
   "id": "ba6712d7",
   "metadata": {},
   "outputs": [
    {
     "data": {
      "application/javascript": [
       "( function ( element ) {\n",
       "if(!window.hasOwnProperty(\"runGAP\")){window.runGAP=function(code,callback){if(!Jupyter||!Jupyter.notebook||!Jupyter.notebook.kernel)return callback(null,\"JavaScript-based output must be re-evaluated when the notebook\"+\" is reloaded.  (Re-run the cell to clear this problem.)\");var errorMessages=[];var timeout=null;Jupyter.notebook.kernel.execute(code,{iopub:{output:function(message){if(\"data\"in message.content)return callback(message.content.data,null);if(!(\"text\"in message.content))return callback(null,message.content);errorMessages.push(message.content.text);if(timeout!==null)clearTimeout(timeout);timeout=setTimeout(function(){callback(null,errorMessages.join(\"\\n\"))},200)},clear_output:function(message){}},shell:{reply:function(message){}},input:function(message){}},{})}}if(!window.hasOwnProperty(\"librariesLoadedFromGAP\")){window.librariesLoadedFromGAP={}}function myCallback(){if(!window.hasOwnProperty(\"librariesLoadedFromGAP\")){window.librariesLoadedFromGAP={}}function myCallback(){window.createVisualization(element,{\"data\" : {\"elements\" : [{\"data\" : {\"id\" : \"1\"}},{\"data\" : {\"id\" : \"2\"}},{\"data\" : {\"id\" : \"3\"}},{\"data\" : {\"id\" : \"4\"}},{\"data\" : {\"id\" : \"5\"}},{\"data\" : {\"id\" : \"6\"}},{\"data\" : {\"id\" : \"7\"}},{\"data\" : {\"source\" : \"1\",\"target\" : \"2\"}},{\"data\" : {\"source\" : \"2\",\"target\" : \"1\"}},{\"data\" : {\"source\" : \"2\",\"target\" : \"3\"}},{\"data\" : {\"source\" : \"2\",\"target\" : \"4\"}},{\"data\" : {\"source\" : \"3\",\"target\" : \"2\"}},{\"data\" : {\"source\" : \"3\",\"target\" : \"4\"}},{\"data\" : {\"source\" : \"4\",\"target\" : \"3\"}},{\"data\" : {\"source\" : \"4\",\"target\" : \"2\"}},{\"data\" : {\"source\" : \"4\",\"target\" : \"5\"}},{\"data\" : {\"source\" : \"5\",\"target\" : \"4\"}},{\"data\" : {\"source\" : \"5\",\"target\" : \"6\"}},{\"data\" : {\"source\" : \"6\",\"target\" : \"5\"}},{\"data\" : {\"source\" : \"6\",\"target\" : \"7\"}},{\"data\" : {\"source\" : \"7\",\"target\" : \"6\"}}],\"layout\" : {\"name\" : \"cose\"},\"style\" : [{\"selector\" : \"node\",\"style\" : {\"content\" : \"data(id)\"}}]},\"height\" : 400,\"tool\" : \"cytoscape\"}\n",
       ",function(element,visualization){\n",
       "});\n",
       "}if(window.librariesLoadedFromGAP.hasOwnProperty(\"viz-tool-cytoscape\"\n",
       ")){myCallback()}else{var filenameString=JSON.stringify(\"viz-tool-cytoscape\"\n",
       ");var GAPcode=\"JUPVIZFileContents( LoadJavaScriptFile( \"+filenameString+\" ) );\";window.runGAP(GAPcode,function(result,error){if(error)throw Error(\"When loading library \"+filenameString+\": \"+error);result=result[\"text/plain\"];window.librariesLoadedFromGAP[\"viz-tool-cytoscape\"\n",
       "]=result;try{var whatItEvaluatesTo=eval(result)}catch(e){throw Error(\"Error evaluating code for library \"+filenameString+\": \"+e)}return myCallback()})}\n",
       "}if(window.librariesLoadedFromGAP.hasOwnProperty(\"main\"\n",
       ")){myCallback()}else{var filenameString=JSON.stringify(\"main\"\n",
       ");var GAPcode=\"JUPVIZFileContents( LoadJavaScriptFile( \"+filenameString+\" ) );\";window.runGAP(GAPcode,function(result,error){if(error)throw Error(\"When loading library \"+filenameString+\": \"+error);result=result[\"text/plain\"];window.librariesLoadedFromGAP[\"main\"\n",
       "]=result;try{var whatItEvaluatesTo=eval(result)}catch(e){throw Error(\"Error evaluating code for library \"+filenameString+\": \"+e)}return myCallback()})}\n",
       ";\n",
       "} )( element.get( 0 ) )"
      ]
     },
     "execution_count": 91,
     "metadata": {
      "application/javascript": ""
     },
     "output_type": "execute_result"
    }
   ],
   "source": [
    "sh := shape_with_edges(E8, [1,3]);;\n",
    "edges := Filtered(sh.edges, x-> x[1] <> x[2]);;\n",
    "PlotGraph(edges);"
   ]
  },
  {
   "cell_type": "markdown",
   "id": "f6f639fe",
   "metadata": {},
   "source": [
    "* In order to compute a **transversal** for the shape, we need to modify the algorithm.\n",
    "* We need to adjust for the fact that a generator $s \\in S \\subseteq \\mathbb{N}$ merely represents a conjugating element $d_K^L \\in W$, which depends on the context.\n",
    "* We might then as well also take into account, that for the current parabolic $K$ only $s \\notin K$ needs to be considered as generator."
   ]
  },
  {
   "cell_type": "code",
   "execution_count": 92,
   "id": "7ab6b094",
   "metadata": {},
   "outputs": [
    {
     "data": {
      "text/plain": [
       "function( W, J ) ... end"
      ]
     },
     "execution_count": 92,
     "metadata": {
      "text/plain": ""
     },
     "output_type": "execute_result"
    }
   ],
   "source": [
    "shape_with_transversal := function(W, J)\n",
    "    local   S,  list,  reps,  i,  K,  s,  a,  L;\n",
    "    S := [1..Data(W).rank];  list := [J];  reps := [()];  i := 0;\n",
    "    while i < Length(list) do\n",
    "        i := i+1;  K := list[i];\n",
    "        for s in Difference(S, K) do\n",
    "            a := longestCosetElement(W, K, tackOn(K, s));\n",
    "            L := OnSets(K, a);\n",
    "            if not L in list then\n",
    "                Add(list, L);\n",
    "                Add(reps, reps[i] * a);\n",
    "            fi;\n",
    "        od;\n",
    "    od;\n",
    "    return rec(list := list, reps := reps);\n",
    "end;"
   ]
  },
  {
   "cell_type": "code",
   "execution_count": 93,
   "id": "8de2040f",
   "metadata": {},
   "outputs": [
    {
     "data": {
      "text/plain": [
       "[ [  ], [ 4, 3, 1 ], [ 4, 2, 3, 1, 4, 3 ], [ 4, 3, 1, 5, 4, 3 ],   [ 4, 3, 1, 5, 4, 3, 6, 5, 4 ], [ 4, 3, 1, 5, 4, 3, 6, 5, 4, 7, 6, 5 ],   [ 4, 3, 1, 5, 4, 3, 6, 5, 4, 7, 6, 5, 8, 7, 6 ] ]"
      ]
     },
     "execution_count": 93,
     "metadata": {
      "text/plain": ""
     },
     "output_type": "execute_result"
    }
   ],
   "source": [
    "List(shape_with_transversal(E8, [1,3]).reps, x -> coxeterWord(E8, x));"
   ]
  },
  {
   "cell_type": "markdown",
   "id": "44ccf36e",
   "metadata": {},
   "source": [
    "##  Normalizers of Parabolic Subgroups"
   ]
  },
  {
   "cell_type": "markdown",
   "id": "6130f3f8",
   "metadata": {},
   "source": [
    "* Recall that $N_W(W_J) = W_J \\rtimes N_J$, and let us compute the complement $N_J$ as the **stabilizer** of $J$ in the action of $S^*$ on $2^S$\n",
    "* For this, we compute a transversal as before, and additionally Schreier generators, one for each non-tree edge in the action graph.\n",
    "* We distinguish two kinds of Schreier generators: **ears**, if the edge is a loop arising from $K.s = K$, and **eyes**, if the edge closes a proper cycle with $K.s \\neq K$.\n",
    "* Howlett has shown that the **ears** naturally generate a Coxeter group.  And that nontrivial **eyes** are rare."
   ]
  },
  {
   "cell_type": "code",
   "execution_count": 94,
   "id": "a413d524",
   "metadata": {},
   "outputs": [
    {
     "data": {
      "text/plain": [
       "function( W, J ) ... end"
      ]
     },
     "execution_count": 94,
     "metadata": {
      "text/plain": ""
     },
     "output_type": "execute_result"
    }
   ],
   "source": [
    "parabolicComplement := function(W, J)\n",
    "    local   S,  list,  reps,  i,  gens,  K,  s,  a,  L,  j;\n",
    "    S := [1..Data(W).rank];  list := [J];  reps := [()];\n",
    "    gens := rec(ears := [], eyes := []);\n",
    "    i := 0;\n",
    "    while i < Length(list) do\n",
    "        i := i+1;  K := list[i];\n",
    "        for s in Difference(S, K) do\n",
    "            a := longestCosetElement(W, K, tackOn(K, s));\n",
    "            L := OnSets(K, a);  j := Position(list, L);\n",
    "            if j = fail then\n",
    "                Add(list, L);\n",
    "                Add(reps, reps[i] * a);\n",
    "            elif j = i then\n",
    "                AddSet(gens.ears, reps[i] * a * reps[i]^-1);\n",
    "            else\n",
    "                AddSet(gens.eyes, reps[i] * a * reps[j]^-1);\n",
    "            fi;\n",
    "        od;\n",
    "    od;\n",
    "    return gens;\n",
    "end;"
   ]
  },
  {
   "cell_type": "code",
   "execution_count": 95,
   "id": "bf396892",
   "metadata": {},
   "outputs": [
    {
     "data": {
      "text/plain": [
       "rec( ears := [ (7,15)(8,128)(14,22)(21,29)(28,36)(34,42)(35,43)(39,47)(41,50)(46,54)(49,56)(53,60)(55,62)(58,65)(59,67)(61,68)(64,72)(66,73)(70,77)(71,78)(75,81)(76,83)(80,86)(82,87)(85,90)(89,94)(93,98)(97,101)(119,120)(127,135)(134,142)(141,149)(148,156)(154,162)(155,163)(159,167)(161,170)(166,174)(169,176)(173,180)(175,182)(178,185)(179,187)(181,188)(184,192)(186,193)(190,197)(191,198)(195,201)(196,203)(200,206)(202,207)(205,210)(209,214)(213,218)(217,221)(239,240), (6,14)(7,127)(8,15)(13,21)(20,28)(26,34)(27,35)(31,39)(33,41)(38,46)(40,49)(45,53)(48,55)(51,58)(52,59)(57,64)(63,70)(68,74)(69,75)(73,79)(78,84)(83,88)(86,91)(87,92)(90,95)(94,99)(98,102)(101,104)(118,119)(126,134)(128,135)(133,141)(140,148)(146,154)(147,155)(151,159)(153,161)(158,166)(160,169)(165,173)(168,175)(171,178)(172,179)(177,184)(183,190)(188,194)(189,195)(193,199)(198,204)(203,208)(206,211)(207,212)(210,215)(214,219)(218,222)(221,224)(238,239), (5,13)(6,126)(7,14)(12,20)(15,22)(18,26)(19,27)(24,31)(25,33)(30,38)(32,40)(37,45)(44,51)(55,61)(59,66)(62,68)(64,71)(67,73)(70,76)(72,78)(75,80)(77,83)(81,86)(92,96)(95,100)(99,103)(102,105)(104,107)(117,118)(125,133)(127,134)(132,140)(135,142)(138,146)(139,147)(144,151)(145,153)(150,158)(152,160)(157,165)(164,171)(175,181)(179,186)(182,188)(184,191)(187,193)(190,196)(192,198)(195,200)(197,203)(201,206)(212,216)(215,220)(219,223)(222,225)(224,227)(237,238), (4,12)(5,125)(6,13)(10,18)(11,19)(14,21)(16,24)(17,25)(22,29)(23,30)(40,48)(45,52)(49,55)(51,57)(53,59)(56,62)(58,64)(60,67)(65,72)(76,82)(80,85)(83,87)(86,90)(88,92)(91,95)(103,106)(105,108)(107,109)(116,117)(124,132)(126,133)(130,138)(131,139)(134,141)(136,144)(137,145)(142,149)(143,150)(160,168)(165,172)(169,175)(171,177)(173,179)(176,182)(178,184)(180,187)(185,192)(196,202)(200,205)(203,207)(206,210)(208,212)(211,215)(223,226)(225,228)(227,229)(236,237), (2,69)(4,177)(7,70)(11,172)(12,171)(14,76)(15,77)(16,168)(19,165)(20,164)(21,82)(22,83)(24,160)(27,157)(29,87)(31,152)(32,151)(34,89)(37,147)(40,144)(41,93)(42,94)(44,140)(45,139)(46,97)(48,136)(50,98)(51,132)(52,131)(54,101)(57,124)(63,183)(74,110)(79,111)(84,114)(91,116)(95,117)(100,118)(122,189)(127,190)(134,196)(135,197)(141,202)(142,203)(149,207)(154,209)(161,213)(162,214)(166,217)(170,218)(174,221)(194,230)(199,231)(204,234)(211,236)(215,237)(220,238), (2,122)(4,10)(11,17)(12,18)(16,23)(19,25)(20,26)(24,30)(27,33)(28,34)(31,38)(35,41)(36,42)(39,46)(43,50)(47,54)(63,69)(70,75)(76,80)(77,81)(82,85)(83,86)(87,90)(88,91)(92,95)(96,100)(110,112)(111,113)(114,115)(124,130)(131,137)(132,138)(136,143)(139,145)(140,146)(144,150)(147,153)(148,154)(151,158)(155,161)(156,162)(159,166)(163,170)(167,174)(183,189)(190,195)(196,200)(197,201)(202,205)(203,206)(207,210)(208,211)(212,215)(216,220)(230,232)(231,233)(234,235) ], eyes := [ (), (1,3)(2,5)(4,150)(6,63)(10,143)(11,145)(12,144)(13,69)(14,70)(16,138)(17,137)(18,136)(19,139)(20,40)(21,75)(22,77)(23,130)(24,132)(25,131)(26,48)(27,45)(28,49)(29,81)(30,124)(31,51)(32,164)(33,52)(34,55)(35,53)(36,56)(37,157)(38,57)(39,58)(41,59)(42,62)(43,60)(44,152)(46,64)(47,65)(50,67)(54,72)(61,89)(66,93)(68,94)(71,97)(73,98)(74,99)(78,101)(79,102)(80,82)(84,104)(86,87)(91,92)(96,116)(100,117)(103,110)(105,111)(106,112)(107,114)(108,113)(109,115)(121,123)(122,125)(126,183)(133,189)(134,190)(140,160)(141,195)(142,197)(146,168)(147,165)(148,169)(149,201)(151,171)(153,172)(154,175)(155,173)(156,176)(158,177)(159,178)(161,179)(162,182)(163,180)(166,184)(167,185)(170,187)(174,192)(181,209)(186,213)(188,214)(191,217)(193,218)(194,219)(198,221)(199,222)(200,202)(204,224)(206,207)(211,212)(216,236)(220,237)(223,230)(225,231)(226,232)(227,234)(228,233)(229,235) ] )"
      ]
     },
     "execution_count": 95,
     "metadata": {},
     "output_type": "execute_result"
    }
   ],
   "source": [
    "parabolicComplement(E8, [1,3]);"
   ]
  },
  {
   "cell_type": "markdown",
   "id": "2c2e5a6d",
   "metadata": {},
   "source": [
    "##  Conjugacy Class by Length"
   ]
  },
  {
   "cell_type": "markdown",
   "id": "8f511713",
   "metadata": {},
   "source": [
    "### Minimal Length Representatives"
   ]
  },
  {
   "cell_type": "markdown",
   "id": "5bd9fe1e",
   "metadata": {},
   "source": [
    "* For a conjugacy class $C$ of $W$ denote by $C_{\\mathrm{min}}$ the set of elements of **minimal length** in $C$.\n",
    "* For $w \\in W$ and $s \\in S$ denote $w \\longrightarrow w^s$ if $\\ell(w^s) \\leq \\ell(w)$ and extend notation to the reflexive and transitive closure.\n",
    "* A conjugacy class $C$ is called **cuspidal** if $C \\cap W_J = \\emptyset$ for all $J \\subsetneq S$.\n",
    "* For $w \\in W$, denote by $J(w)$ the set of simple reflections $s \\in S$ occuring in a reduced expression for $w$.\n",
    "* The following property of $C_{\\mathrm{min}}$ forms the basis of the definition of a square **character table** for the Iwahori-Hecke algebra of $W$ ..."
   ]
  },
  {
   "cell_type": "markdown",
   "id": "a855ecee",
   "metadata": {},
   "source": [
    "<div class=\"alert alert-danger\">\n",
    "\n",
    "**Theorem** (Geck-Pfeiffer)**.**  Let $(W, S)$ be a finite Coxeter group.\n",
    "* $C \\longrightarrow C_{\\mathrm{min}}$ for each conjugacy class $C$ of $W$: for each $w \\in C$ there is a $v \\in C_{\\mathrm{min}}$ such that $w \\longrightarrow v$.\n",
    "* The set $\\{J(w) : w \\in C_{\\mathrm{min}}\\}$ forms a shape of $W$.\n",
    "* The conjugacy classes of $W$ are parametrized by pairs $([J], D)$ where $[J]$ is shape and $D$ is a cuspidal class of $W_J$.\n",
    "</div>"
   ]
  },
  {
   "cell_type": "markdown",
   "id": "8c67fc00",
   "metadata": {},
   "source": [
    "* To find the minimal length conjugates of $x \\in W$, we modify the orbit algorithm so that it **forgets the current orbit** whenever a shorter conjugate is found."
   ]
  },
  {
   "cell_type": "code",
   "execution_count": 96,
   "id": "976753b7",
   "metadata": {},
   "outputs": [
    {
     "data": {
      "text/plain": [
       "function( W, x ) ... end"
      ]
     },
     "execution_count": 96,
     "metadata": {
      "text/plain": ""
     },
     "output_type": "execute_result"
    }
   ],
   "source": [
    "minConjugates := function(W, x)\n",
    "    local   list,  lx,  i,  S,  y,  s,  z,  lz;\n",
    "    list := [x];  lx := coxeterLength(W, x);\n",
    "    i := 0;  S := [1..Data(W).rank];\n",
    "    while i < Length(list) do\n",
    "        i := i+1;  y := list[i];\n",
    "        for s in S do\n",
    "            z := y^W.(s);  lz := coxeterLength(W, z);\n",
    "            if lz = lx then\n",
    "                if not z in list then  Add(list, z);  fi;\n",
    "            elif lz < lx then\n",
    "                list := [z];  lx := lz;  i := 0;  break;\n",
    "            fi;\n",
    "        od;\n",
    "    od;\n",
    "    return list;\n",
    "end;"
   ]
  },
  {
   "cell_type": "markdown",
   "id": "d632ffa3",
   "metadata": {},
   "source": [
    "* test it on a random element"
   ]
  },
  {
   "cell_type": "code",
   "execution_count": 99,
   "id": "fe386c39",
   "metadata": {},
   "outputs": [
    {
     "data": {
      "text/plain": [
       "<permutation group with 7 generators>"
      ]
     },
     "execution_count": 97,
     "metadata": {
      "text/plain": ""
     },
     "output_type": "execute_result"
    },
    {
     "data": {
      "text/plain": [
       "[ 3, 4, 3, 5, 4, 2, 6, 5, 4, 2, 3, 1, 4, 7, 6, 5, 4, 2, 3, 1, 4, 3, 5, 6 ]"
      ]
     },
     "execution_count": 99,
     "metadata": {
      "text/plain": ""
     },
     "output_type": "execute_result"
    }
   ],
   "source": [
    "W := coxeterGroup(cartanMat(\"E\", 7));\n",
    "w := randomGroupElement(W);;\n",
    "coxeterWord(W, w);"
   ]
  },
  {
   "cell_type": "code",
   "execution_count": 101,
   "id": "d7b72cf5",
   "metadata": {},
   "outputs": [
    {
     "data": {
      "text/plain": [
       "[ 6, 6, 6, 6, 6, 6, 6, 6, 6, 6, 6, 6, 6, 6, 6, 6, 6, 6, 6, 6, 6, 6, 6, 6, 6,   6, 6, 6, 6, 6, 6, 6 ]"
      ]
     },
     "execution_count": 101,
     "metadata": {
      "text/plain": ""
     },
     "output_type": "execute_result"
    }
   ],
   "source": [
    "min := minConjugates(W, w);;\n",
    "List(min, x -> coxeterLength(W, x));"
   ]
  },
  {
   "cell_type": "markdown",
   "id": "19bcd08f",
   "metadata": {},
   "source": [
    "### Conjugacy Classes"
   ]
  },
  {
   "cell_type": "markdown",
   "id": "2d5302ba",
   "metadata": {},
   "source": [
    "* We can use this and the fact that the **supports** of $x \\in C_{\\mathrm{min}}$ form a shape $\\Lambda$ to compute a **canonical representative** of minimal length for each conjugacy class $C$ of $W$, starting from any element $w \\in C$, as follows."
   ]
  },
  {
   "cell_type": "code",
   "execution_count": 102,
   "id": "c8fef9b3",
   "metadata": {},
   "outputs": [
    {
     "data": {
      "text/plain": [
       "function( W, w ) ... end"
      ]
     },
     "execution_count": 102,
     "metadata": {
      "text/plain": ""
     },
     "output_type": "execute_result"
    }
   ],
   "source": [
    "coxeterMinRep := function(W, w)\n",
    "    local   v,  K,  sh,  j;\n",
    "    v := minConjugates(W, w)[1];\n",
    "    K := Set(coxeterWord(W, v));\n",
    "    sh := shape_with_transversal(W, K);\n",
    "    j := PositionMinimum(sh.list);\n",
    "    return Minimum(minConjugates(W, v^sh.reps[j]));\n",
    "end;"
   ]
  },
  {
   "cell_type": "code",
   "execution_count": 103,
   "id": "5bd6f96d",
   "metadata": {},
   "outputs": [
    {
     "data": {
      "text/plain": [
       "[ 7, 6, 5, 4, 2, 3 ]"
      ]
     },
     "execution_count": 103,
     "metadata": {
      "text/plain": ""
     },
     "output_type": "execute_result"
    }
   ],
   "source": [
    "coxeterWord(W, coxeterMinRep(W, w));"
   ]
  },
  {
   "cell_type": "markdown",
   "id": "fa486ed8",
   "metadata": {},
   "source": [
    "*  Acting on the canonical representatives with a generating set that is closed under conjugation, we enumerate **all the conjugacy classes** of $W$."
   ]
  },
  {
   "cell_type": "code",
   "execution_count": 104,
   "id": "c1879ffb",
   "metadata": {},
   "outputs": [
    {
     "data": {
      "text/plain": [
       "function( W ) ... end"
      ]
     },
     "execution_count": 104,
     "metadata": {
      "text/plain": ""
     },
     "output_type": "execute_result"
    }
   ],
   "source": [
    "coxeterConjugacyClasses := function(W)\n",
    "    local   onMinReps;\n",
    "    onMinReps := function(x, a)\n",
    "        return coxeterMinRep(W, x * a);\n",
    "    end;\n",
    "    return orbit(reflections(W), (), onMinReps);\n",
    "end;"
   ]
  },
  {
   "cell_type": "code",
   "execution_count": 106,
   "id": "dd086def",
   "metadata": {},
   "outputs": [
    {
     "data": {
      "text/plain": [
       "[ 0, 1, 2, 2, 3, 3, 3, 3, 4, 4, 4, 4, 4, 4, 4, 12, 6, 5, 5, 7, 5, 5, 5, 5,   13, 5, 5, 5, 7, 13, 6, 6, 8, 6, 8, 6, 8, 14, 6, 6, 12, 10, 6, 24, 14, 14,   16, 30, 7, 9, 11, 15, 17, 13, 25, 23, 21, 33, 31, 63 ]"
      ]
     },
     "execution_count": 106,
     "metadata": {
      "text/plain": ""
     },
     "output_type": "execute_result"
    }
   ],
   "source": [
    "cc := coxeterConjugacyClasses(W);;\n",
    "List(cc, x -> coxeterLength(W, x));"
   ]
  },
  {
   "cell_type": "markdown",
   "id": "48a82c0c",
   "metadata": {},
   "source": [
    "* Finding the conjugacy classes of $E_8$ takes about 30 minutes ..."
   ]
  },
  {
   "cell_type": "markdown",
   "id": "ca267592",
   "metadata": {},
   "source": [
    "## Exercises, etc."
   ]
  },
  {
   "cell_type": "markdown",
   "id": "7265ba22",
   "metadata": {},
   "source": [
    "* Check that the function `permutation`, when it is used to map matrices to their effect on the root system, is a homomorphism."
   ]
  },
  {
   "cell_type": "markdown",
   "id": "88e737f0",
   "metadata": {},
   "source": [
    "* ($*$) Find an efficient way to enumerate **double cosets** $X_{JK} = X_J \\cap X_K^{-1}$, $J, K \\subseteq S$."
   ]
  },
  {
   "cell_type": "markdown",
   "id": "112f372f",
   "metadata": {},
   "source": [
    "* Prove that the shapes set $\\Lambda$ is an orbit under `takeAway`."
   ]
  },
  {
   "cell_type": "markdown",
   "id": "05326c3e",
   "metadata": {},
   "source": [
    "* ($*$) Rewrite `shape_with_edges` as `shape_with_images`, collecting the labelled, directed edge information as image lists.  What are the resulting permutations?"
   ]
  },
  {
   "cell_type": "markdown",
   "id": "5ba11054",
   "metadata": {},
   "source": [
    "* Prove that the complement $N_J$ is a stabiliser under `onParabolics`."
   ]
  },
  {
   "cell_type": "markdown",
   "id": "bda05a49",
   "metadata": {},
   "source": [
    "* Find an example of a parabolic subgroup $W_J$ whose normalizer complement $N_J$ contains a set of eyes that generates a subgroup of size more than $2$.  Is that group elementary abelian?"
   ]
  },
  {
   "cell_type": "markdown",
   "id": "536c000f",
   "metadata": {},
   "source": [
    "* **Cyclic Shift Classes.** We say that $w, v \\in W$ are **conjugate by cyclic shift** and write $w \\leftrightarrow v$ if both $w \\longrightarrow v$ and $v \\longrightarrow w$.  Show that this relation is the equivalence relation generated by: $ws \\leftrightarrow sw$ if $\\ell(ws) = \\ell(sw)$, for $w \\in W$, $s \\in S$.  Write a version of the orbit algorithm that computes the cyclic shift class of a given $w \\in W$, i.e., the set $\\{v \\in W : w \\leftrightarrow v\\}$, together with the edges $vs \\leftrightarrow sv$."
   ]
  },
  {
   "cell_type": "code",
   "execution_count": 109,
   "id": "96bf1caa",
   "metadata": {},
   "outputs": [
    {
     "data": {
      "text/plain": [
       "<permutation group with 6 generators>"
      ]
     },
     "execution_count": 109,
     "metadata": {
      "text/plain": ""
     },
     "output_type": "execute_result"
    }
   ],
   "source": [
    "Read(\"coxeter.g\");\n",
    "Read(\"shifts.g\");\n",
    "E6 := coxeterGroup(cartanMat(\"E\", 6));"
   ]
  },
  {
   "cell_type": "code",
   "execution_count": 113,
   "id": "d1e86767",
   "metadata": {},
   "outputs": [
    {
     "data": {
      "application/javascript": [
       "( function ( element ) {\n",
       "if(!window.hasOwnProperty(\"runGAP\")){window.runGAP=function(code,callback){if(!Jupyter||!Jupyter.notebook||!Jupyter.notebook.kernel)return callback(null,\"JavaScript-based output must be re-evaluated when the notebook\"+\" is reloaded.  (Re-run the cell to clear this problem.)\");var errorMessages=[];var timeout=null;Jupyter.notebook.kernel.execute(code,{iopub:{output:function(message){if(\"data\"in message.content)return callback(message.content.data,null);if(!(\"text\"in message.content))return callback(null,message.content);errorMessages.push(message.content.text);if(timeout!==null)clearTimeout(timeout);timeout=setTimeout(function(){callback(null,errorMessages.join(\"\\n\"))},200)},clear_output:function(message){}},shell:{reply:function(message){}},input:function(message){}},{})}}if(!window.hasOwnProperty(\"librariesLoadedFromGAP\")){window.librariesLoadedFromGAP={}}function myCallback(){if(!window.hasOwnProperty(\"librariesLoadedFromGAP\")){window.librariesLoadedFromGAP={}}function myCallback(){window.createVisualization(element,{\"data\" : {\"elements\" : [{\"data\" : {\"id\" : \"1\"}},{\"data\" : {\"id\" : \"2\"}},{\"data\" : {\"id\" : \"3\"}},{\"data\" : {\"id\" : \"4\"}},{\"data\" : {\"id\" : \"5\"}},{\"data\" : {\"id\" : \"6\"}},{\"data\" : {\"id\" : \"7\"}},{\"data\" : {\"id\" : \"8\"}},{\"data\" : {\"id\" : \"9\"}},{\"data\" : {\"id\" : \"10\"}},{\"data\" : {\"id\" : \"11\"}},{\"data\" : {\"id\" : \"12\"}},{\"data\" : {\"id\" : \"13\"}},{\"data\" : {\"id\" : \"14\"}},{\"data\" : {\"id\" : \"15\"}},{\"data\" : {\"id\" : \"16\"}},{\"data\" : {\"id\" : \"17\"}},{\"data\" : {\"id\" : \"18\"}},{\"data\" : {\"id\" : \"19\"}},{\"data\" : {\"id\" : \"20\"}},{\"data\" : {\"id\" : \"21\"}},{\"data\" : {\"id\" : \"22\"}},{\"data\" : {\"id\" : \"23\"}},{\"data\" : {\"id\" : \"24\"}},{\"data\" : {\"id\" : \"25\"}},{\"data\" : {\"id\" : \"26\"}},{\"data\" : {\"id\" : \"27\"}},{\"data\" : {\"id\" : \"28\"}},{\"data\" : {\"id\" : \"29\"}},{\"data\" : {\"id\" : \"30\"}},{\"data\" : {\"id\" : \"31\"}},{\"data\" : {\"id\" : \"32\"}},{\"data\" : {\"id\" : \"33\"}},{\"data\" : {\"id\" : \"34\"}},{\"data\" : {\"id\" : \"35\"}},{\"data\" : {\"id\" : \"36\"}},{\"data\" : {\"id\" : \"37\"}},{\"data\" : {\"id\" : \"38\"}},{\"data\" : {\"id\" : \"39\"}},{\"data\" : {\"id\" : \"40\"}},{\"data\" : {\"id\" : \"41\"}},{\"data\" : {\"id\" : \"42\"}},{\"data\" : {\"id\" : \"43\"}},{\"data\" : {\"id\" : \"44\"}},{\"data\" : {\"id\" : \"45\"}},{\"data\" : {\"id\" : \"46\"}},{\"data\" : {\"id\" : \"47\"}},{\"data\" : {\"id\" : \"48\"}},{\"data\" : {\"id\" : \"49\"}},{\"data\" : {\"id\" : \"50\"}},{\"data\" : {\"id\" : \"51\"}},{\"data\" : {\"id\" : \"52\"}},{\"data\" : {\"id\" : \"53\"}},{\"data\" : {\"id\" : \"54\"}},{\"data\" : {\"source\" : \"1\",\"target\" : \"2\"}},{\"data\" : {\"source\" : \"1\",\"target\" : \"3\"}},{\"data\" : {\"source\" : \"1\",\"target\" : \"4\"}},{\"data\" : {\"source\" : \"1\",\"target\" : \"5\"}},{\"data\" : {\"source\" : \"2\",\"target\" : \"1\"}},{\"data\" : {\"source\" : \"2\",\"target\" : \"6\"}},{\"data\" : {\"source\" : \"2\",\"target\" : \"7\"}},{\"data\" : {\"source\" : \"3\",\"target\" : \"1\"}},{\"data\" : {\"source\" : \"3\",\"target\" : \"8\"}},{\"data\" : {\"source\" : \"3\",\"target\" : \"9\"}},{\"data\" : {\"source\" : \"4\",\"target\" : \"1\"}},{\"data\" : {\"source\" : \"4\",\"target\" : \"6\"}},{\"data\" : {\"source\" : \"4\",\"target\" : \"10\"}},{\"data\" : {\"source\" : \"4\",\"target\" : \"11\"}},{\"data\" : {\"source\" : \"5\",\"target\" : \"1\"}},{\"data\" : {\"source\" : \"5\",\"target\" : \"7\"}},{\"data\" : {\"source\" : \"5\",\"target\" : \"9\"}},{\"data\" : {\"source\" : \"5\",\"target\" : \"11\"}},{\"data\" : {\"source\" : \"5\",\"target\" : \"12\"}},{\"data\" : {\"source\" : \"6\",\"target\" : \"2\"}},{\"data\" : {\"source\" : \"6\",\"target\" : \"4\"}},{\"data\" : {\"source\" : \"6\",\"target\" : \"13\"}},{\"data\" : {\"source\" : \"6\",\"target\" : \"14\"}},{\"data\" : {\"source\" : \"7\",\"target\" : \"2\"}},{\"data\" : {\"source\" : \"7\",\"target\" : \"5\"}},{\"data\" : {\"source\" : \"7\",\"target\" : \"14\"}},{\"data\" : {\"source\" : \"7\",\"target\" : \"15\"}},{\"data\" : {\"source\" : \"8\",\"target\" : \"3\"}},{\"data\" : {\"source\" : \"8\",\"target\" : \"16\"}},{\"data\" : {\"source\" : \"8\",\"target\" : \"17\"}},{\"data\" : {\"source\" : \"8\",\"target\" : \"18\"}},{\"data\" : {\"source\" : \"9\",\"target\" : \"3\"}},{\"data\" : {\"source\" : \"9\",\"target\" : \"5\"}},{\"data\" : {\"source\" : \"9\",\"target\" : \"18\"}},{\"data\" : {\"source\" : \"9\",\"target\" : \"19\"}},{\"data\" : {\"source\" : \"10\",\"target\" : \"4\"}},{\"data\" : {\"source\" : \"10\",\"target\" : \"16\"}},{\"data\" : {\"source\" : \"10\",\"target\" : \"20\"}},{\"data\" : {\"source\" : \"10\",\"target\" : \"21\"}},{\"data\" : {\"source\" : \"11\",\"target\" : \"4\"}},{\"data\" : {\"source\" : \"11\",\"target\" : \"5\"}},{\"data\" : {\"source\" : \"11\",\"target\" : \"14\"}},{\"data\" : {\"source\" : \"11\",\"target\" : \"21\"}},{\"data\" : {\"source\" : \"12\",\"target\" : \"5\"}},{\"data\" : {\"source\" : \"12\",\"target\" : \"15\"}},{\"data\" : {\"source\" : \"12\",\"target\" : \"19\"}},{\"data\" : {\"source\" : \"12\",\"target\" : \"22\"}},{\"data\" : {\"source\" : \"13\",\"target\" : \"6\"}},{\"data\" : {\"source\" : \"13\",\"target\" : \"23\"}},{\"data\" : {\"source\" : \"13\",\"target\" : \"24\"}},{\"data\" : {\"source\" : \"14\",\"target\" : \"6\"}},{\"data\" : {\"source\" : \"14\",\"target\" : \"7\"}},{\"data\" : {\"source\" : \"14\",\"target\" : \"11\"}},{\"data\" : {\"source\" : \"14\",\"target\" : \"24\"}},{\"data\" : {\"source\" : \"15\",\"target\" : \"7\"}},{\"data\" : {\"source\" : \"15\",\"target\" : \"12\"}},{\"data\" : {\"source\" : \"15\",\"target\" : \"25\"}},{\"data\" : {\"source\" : \"16\",\"target\" : \"8\"}},{\"data\" : {\"source\" : \"16\",\"target\" : \"10\"}},{\"data\" : {\"source\" : \"16\",\"target\" : \"26\"}},{\"data\" : {\"source\" : \"16\",\"target\" : \"27\"}},{\"data\" : {\"source\" : \"16\",\"target\" : \"28\"}},{\"data\" : {\"source\" : \"17\",\"target\" : \"8\"}},{\"data\" : {\"source\" : \"17\",\"target\" : \"27\"}},{\"data\" : {\"source\" : \"17\",\"target\" : \"29\"}},{\"data\" : {\"source\" : \"18\",\"target\" : \"8\"}},{\"data\" : {\"source\" : \"18\",\"target\" : \"9\"}},{\"data\" : {\"source\" : \"18\",\"target\" : \"28\"}},{\"data\" : {\"source\" : \"19\",\"target\" : \"9\"}},{\"data\" : {\"source\" : \"19\",\"target\" : \"12\"}},{\"data\" : {\"source\" : \"19\",\"target\" : \"30\"}},{\"data\" : {\"source\" : \"20\",\"target\" : \"10\"}},{\"data\" : {\"source\" : \"20\",\"target\" : \"23\"}},{\"data\" : {\"source\" : \"20\",\"target\" : \"26\"}},{\"data\" : {\"source\" : \"20\",\"target\" : \"31\"}},{\"data\" : {\"source\" : \"21\",\"target\" : \"10\"}},{\"data\" : {\"source\" : \"21\",\"target\" : \"11\"}},{\"data\" : {\"source\" : \"21\",\"target\" : \"28\"}},{\"data\" : {\"source\" : \"21\",\"target\" : \"31\"}},{\"data\" : {\"source\" : \"22\",\"target\" : \"12\"}},{\"data\" : {\"source\" : \"22\",\"target\" : \"25\"}},{\"data\" : {\"source\" : \"22\",\"target\" : \"30\"}},{\"data\" : {\"source\" : \"22\",\"target\" : \"32\"}},{\"data\" : {\"source\" : \"23\",\"target\" : \"13\"}},{\"data\" : {\"source\" : \"23\",\"target\" : \"20\"}},{\"data\" : {\"source\" : \"23\",\"target\" : \"33\"}},{\"data\" : {\"source\" : \"24\",\"target\" : \"13\"}},{\"data\" : {\"source\" : \"24\",\"target\" : \"14\"}},{\"data\" : {\"source\" : \"24\",\"target\" : \"33\"}},{\"data\" : {\"source\" : \"25\",\"target\" : \"15\"}},{\"data\" : {\"source\" : \"25\",\"target\" : \"22\"}},{\"data\" : {\"source\" : \"25\",\"target\" : \"34\"}},{\"data\" : {\"source\" : \"26\",\"target\" : \"16\"}},{\"data\" : {\"source\" : \"26\",\"target\" : \"20\"}},{\"data\" : {\"source\" : \"26\",\"target\" : \"35\"}},{\"data\" : {\"source\" : \"26\",\"target\" : \"36\"}},{\"data\" : {\"source\" : \"27\",\"target\" : \"16\"}},{\"data\" : {\"source\" : \"27\",\"target\" : \"17\"}},{\"data\" : {\"source\" : \"27\",\"target\" : \"35\"}},{\"data\" : {\"source\" : \"27\",\"target\" : \"37\"}},{\"data\" : {\"source\" : \"28\",\"target\" : \"16\"}},{\"data\" : {\"source\" : \"28\",\"target\" : \"18\"}},{\"data\" : {\"source\" : \"28\",\"target\" : \"21\"}},{\"data\" : {\"source\" : \"28\",\"target\" : \"36\"}},{\"data\" : {\"source\" : \"29\",\"target\" : \"17\"}},{\"data\" : {\"source\" : \"29\",\"target\" : \"37\"}},{\"data\" : {\"source\" : \"29\",\"target\" : \"38\"}},{\"data\" : {\"source\" : \"30\",\"target\" : \"19\"}},{\"data\" : {\"source\" : \"30\",\"target\" : \"22\"}},{\"data\" : {\"source\" : \"30\",\"target\" : \"39\"}},{\"data\" : {\"source\" : \"31\",\"target\" : \"20\"}},{\"data\" : {\"source\" : \"31\",\"target\" : \"21\"}},{\"data\" : {\"source\" : \"31\",\"target\" : \"33\"}},{\"data\" : {\"source\" : \"31\",\"target\" : \"36\"}},{\"data\" : {\"source\" : \"32\",\"target\" : \"22\"}},{\"data\" : {\"source\" : \"32\",\"target\" : \"34\"}},{\"data\" : {\"source\" : \"32\",\"target\" : \"40\"}},{\"data\" : {\"source\" : \"33\",\"target\" : \"23\"}},{\"data\" : {\"source\" : \"33\",\"target\" : \"24\"}},{\"data\" : {\"source\" : \"33\",\"target\" : \"31\"}},{\"data\" : {\"source\" : \"34\",\"target\" : \"25\"}},{\"data\" : {\"source\" : \"34\",\"target\" : \"32\"}},{\"data\" : {\"source\" : \"34\",\"target\" : \"41\"}},{\"data\" : {\"source\" : \"35\",\"target\" : \"26\"}},{\"data\" : {\"source\" : \"35\",\"target\" : \"27\"}},{\"data\" : {\"source\" : \"35\",\"target\" : \"42\"}},{\"data\" : {\"source\" : \"36\",\"target\" : \"26\"}},{\"data\" : {\"source\" : \"36\",\"target\" : \"28\"}},{\"data\" : {\"source\" : \"36\",\"target\" : \"31\"}},{\"data\" : {\"source\" : \"37\",\"target\" : \"27\"}},{\"data\" : {\"source\" : \"37\",\"target\" : \"29\"}},{\"data\" : {\"source\" : \"37\",\"target\" : \"42\"}},{\"data\" : {\"source\" : \"37\",\"target\" : \"43\"}},{\"data\" : {\"source\" : \"38\",\"target\" : \"29\"}},{\"data\" : {\"source\" : \"38\",\"target\" : \"44\"}},{\"data\" : {\"source\" : \"39\",\"target\" : \"30\"}},{\"data\" : {\"source\" : \"39\",\"target\" : \"45\"}},{\"data\" : {\"source\" : \"40\",\"target\" : \"32\"}},{\"data\" : {\"source\" : \"40\",\"target\" : \"45\"}},{\"data\" : {\"source\" : \"40\",\"target\" : \"46\"}},{\"data\" : {\"source\" : \"41\",\"target\" : \"34\"}},{\"data\" : {\"source\" : \"41\",\"target\" : \"47\"}},{\"data\" : {\"source\" : \"42\",\"target\" : \"35\"}},{\"data\" : {\"source\" : \"42\",\"target\" : \"37\"}},{\"data\" : {\"source\" : \"42\",\"target\" : \"48\"}},{\"data\" : {\"source\" : \"43\",\"target\" : \"37\"}},{\"data\" : {\"source\" : \"43\",\"target\" : \"48\"}},{\"data\" : {\"source\" : \"43\",\"target\" : \"49\"}},{\"data\" : {\"source\" : \"44\",\"target\" : \"38\"}},{\"data\" : {\"source\" : \"44\",\"target\" : \"49\"}},{\"data\" : {\"source\" : \"44\",\"target\" : \"50\"}},{\"data\" : {\"source\" : \"45\",\"target\" : \"39\"}},{\"data\" : {\"source\" : \"45\",\"target\" : \"40\"}},{\"data\" : {\"source\" : \"45\",\"target\" : \"51\"}},{\"data\" : {\"source\" : \"46\",\"target\" : \"40\"}},{\"data\" : {\"source\" : \"46\",\"target\" : \"47\"}},{\"data\" : {\"source\" : \"46\",\"target\" : \"51\"}},{\"data\" : {\"source\" : \"47\",\"target\" : \"41\"}},{\"data\" : {\"source\" : \"47\",\"target\" : \"46\"}},{\"data\" : {\"source\" : \"48\",\"target\" : \"42\"}},{\"data\" : {\"source\" : \"48\",\"target\" : \"43\"}},{\"data\" : {\"source\" : \"48\",\"target\" : \"52\"}},{\"data\" : {\"source\" : \"49\",\"target\" : \"43\"}},{\"data\" : {\"source\" : \"49\",\"target\" : \"44\"}},{\"data\" : {\"source\" : \"49\",\"target\" : \"53\"}},{\"data\" : {\"source\" : \"50\",\"target\" : \"44\"}},{\"data\" : {\"source\" : \"50\",\"target\" : \"53\"}},{\"data\" : {\"source\" : \"51\",\"target\" : \"45\"}},{\"data\" : {\"source\" : \"51\",\"target\" : \"46\"}},{\"data\" : {\"source\" : \"52\",\"target\" : \"48\"}},{\"data\" : {\"source\" : \"52\",\"target\" : \"54\"}},{\"data\" : {\"source\" : \"53\",\"target\" : \"49\"}},{\"data\" : {\"source\" : \"53\",\"target\" : \"50\"}},{\"data\" : {\"source\" : \"53\",\"target\" : \"54\"}},{\"data\" : {\"source\" : \"54\",\"target\" : \"52\"}},{\"data\" : {\"source\" : \"54\",\"target\" : \"53\"}}],\"layout\" : {\"name\" : \"cose\"},\"style\" : [{\"selector\" : \"node\",\"style\" : {\"content\" : \"data(id)\"}}]},\"height\" : 400,\"tool\" : \"cytoscape\"}\n",
       ",function(element,visualization){\n",
       "});\n",
       "}if(window.librariesLoadedFromGAP.hasOwnProperty(\"viz-tool-cytoscape\"\n",
       ")){myCallback()}else{var filenameString=JSON.stringify(\"viz-tool-cytoscape\"\n",
       ");var GAPcode=\"JUPVIZFileContents( LoadJavaScriptFile( \"+filenameString+\" ) );\";window.runGAP(GAPcode,function(result,error){if(error)throw Error(\"When loading library \"+filenameString+\": \"+error);result=result[\"text/plain\"];window.librariesLoadedFromGAP[\"viz-tool-cytoscape\"\n",
       "]=result;try{var whatItEvaluatesTo=eval(result)}catch(e){throw Error(\"Error evaluating code for library \"+filenameString+\": \"+e)}return myCallback()})}\n",
       "}if(window.librariesLoadedFromGAP.hasOwnProperty(\"main\"\n",
       ")){myCallback()}else{var filenameString=JSON.stringify(\"main\"\n",
       ");var GAPcode=\"JUPVIZFileContents( LoadJavaScriptFile( \"+filenameString+\" ) );\";window.runGAP(GAPcode,function(result,error){if(error)throw Error(\"When loading library \"+filenameString+\": \"+error);result=result[\"text/plain\"];window.librariesLoadedFromGAP[\"main\"\n",
       "]=result;try{var whatItEvaluatesTo=eval(result)}catch(e){throw Error(\"Error evaluating code for library \"+filenameString+\": \"+e)}return myCallback()})}\n",
       ";\n",
       "} )( element.get( 0 ) )"
      ]
     },
     "execution_count": 113,
     "metadata": {
      "application/javascript": ""
     },
     "output_type": "execute_result"
    }
   ],
   "source": [
    "w := randomGroupElement(E6);;\n",
    "cyc := cyclic_shifts_with_edges(E6, w);;\n",
    "edges := Filtered(Set(cyc.edges), x -> x[1] <> x[2]);;\n",
    "PlotGraph(edges);"
   ]
  },
  {
   "cell_type": "markdown",
   "id": "f4ca961a",
   "metadata": {},
   "source": [
    "* ($*$) Provide a version of the orbit algorithm that, for a given element $w \\in W$ computes the partition of its conjugacy class in $W$ into cyclic shift classes, together with with graph induced by the relation $\\longleftarrow$ on the quotient set."
   ]
  },
  {
   "cell_type": "markdown",
   "id": "2b3506b6",
   "metadata": {},
   "source": [
    "* ($*$) Define an equivalence relation $\\approx$ on $W$ as appropriate closure of: $uv \\approx vu$ if $\\ell(uv) = \\ell(u) + \\ell(v) = \\ell(v) + \\ell(u) = \\ell(vu)$, $u,v \\in W$.  Show that a $\\approx$-class is a union of cyclic shift classes.  Find an example of a $\\approx$-class that is not a (single) cyclic shift class."
   ]
  },
  {
   "cell_type": "markdown",
   "id": "05272043",
   "metadata": {},
   "source": [
    "* **Involutions.**  An element $w \\in W$ is an **involution** if $w^2 = 1$.  Show that if $w \\in W$ is an involution then its cyclic shift class is just $\\{w\\}$, i.e., that for $s \\in S$, either $\\ell(sws) <> \\ell(w)$ or $sws = w$."
   ]
  },
  {
   "cell_type": "markdown",
   "id": "f8db3311",
   "metadata": {},
   "source": [
    "* Let $I(W) = \\{w \\in W : w^2 = 1\\}$ be the set of all involutions in $W$. Show that the monoid $S^*$ acts on $I(W)$ via\n",
    "$$\n",
    "w.s = \\begin{cases}\n",
    "ws & \\text{if } \\ell(sws) = \\ell(w),\\\\\n",
    "sws & \\text{else.}\n",
    "\\end{cases}\n",
    "$$\n",
    "Show that $I(W)$ is the orbit of the indentity element $1$ of $W$ under this action.  Use a suitable version of the orbit algorithm to compute $I(W)$ as orbit of $1$."
   ]
  },
  {
   "cell_type": "code",
   "execution_count": 118,
   "id": "7815eae2",
   "metadata": {},
   "outputs": [
    {
     "data": {
      "text/plain": [
       "[ (), (1,7)(2,4)(5,6)(8,10)(11,12), (1,4)(2,8)(3,5)(7,10)(9,11),   (2,5)(3,9)(4,6)(8,11)(10,12), (1,8)(2,7)(3,6)(4,10)(9,12),   (1,7)(2,6)(3,9)(4,5)(8,12)(10,11), (1,6)(2,9)(3,8)(5,11)(7,12),   (1,11)(3,10)(4,9)(5,7)(6,12), (1,3)(2,12)(4,10)(5,11)(6,8)(7,9),   (1,9)(2,8)(3,7)(4,11)(5,10)(6,12) ]"
      ]
     },
     "execution_count": 117,
     "metadata": {
      "text/plain": ""
     },
     "output_type": "execute_result"
    },
    {
     "data": {
      "text/plain": [
       "[ [  ], [ 1 ], [ 2 ], [ 3 ], [ 1, 2, 1 ], [ 1, 3 ], [ 2, 3, 2 ],   [ 1, 2, 3, 2, 1 ], [ 2, 1, 3, 2 ], [ 1, 2, 1, 3, 2, 1 ] ]"
      ]
     },
     "execution_count": 118,
     "metadata": {
      "text/plain": ""
     },
     "output_type": "execute_result"
    }
   ],
   "source": [
    "Read(\"coxeter.g\");\n",
    "Read(\"involution.g\");\n",
    "A3 := coxeterGroup(cartanMat(\"A\", 3));;\n",
    "invo := involutions(A3);\n",
    "List(invo, x -> coxeterWord(A3, x));"
   ]
  },
  {
   "cell_type": "markdown",
   "id": "4a8668f4",
   "metadata": {},
   "source": [
    "* Formulate an action (of $S^*$) on the conjugacy classes of involutions of $W$ that can be used to determine all conjugacy classes of involutions of $W$ as orbit of the conjugacy class of the trivial element.  Verify in examples that the conjugacy classes of involutions correspond to the shapes of those parabolic subgroups $W_K$ whose longest element $w_K$ is central in $W_K$."
   ]
  },
  {
   "cell_type": "code",
   "execution_count": 122,
   "id": "4b6847a1",
   "metadata": {},
   "outputs": [
    {
     "data": {
      "text/plain": [
       "[ ()^G, (1,7)(2,4)(5,6)(8,10)(11,12)^G, (1,7)(2,6)(3,9)(4,5)(8,12)(10,11)^G ]"
      ]
     },
     "execution_count": 122,
     "metadata": {
      "text/plain": ""
     },
     "output_type": "execute_result"
    }
   ],
   "source": [
    "Read(\"coxeter.g\");\n",
    "Read(\"involution.g\");\n",
    "W := coxeterGroup(cartanMat(\"A\", 3));;\n",
    "involutionClasses(W);"
   ]
  },
  {
   "cell_type": "code",
   "execution_count": 123,
   "id": "c6b05c17",
   "metadata": {},
   "outputs": [
    {
     "data": {
      "text/plain": [
       "[ [ [ 1, 3 ] ], [ [ 1 ], [ 2 ], [ 3 ] ], [ [  ] ] ]"
      ]
     },
     "execution_count": 123,
     "metadata": {
      "text/plain": ""
     },
     "output_type": "execute_result"
    }
   ],
   "source": [
    "Filtered(shapes(W), sh -> longestElement(W, sh[1]) in Centre(Subgroup(W, GeneratorsOfGroup(W){sh[1]})));"
   ]
  },
  {
   "cell_type": "code",
   "execution_count": null,
   "id": "225417a0",
   "metadata": {},
   "outputs": [],
   "source": []
  }
 ],
 "metadata": {
  "kernelspec": {
   "display_name": "GAP 4",
   "language": "gap",
   "name": "gap-4"
  },
  "language_info": {
   "codemirror_mode": "gap",
   "file_extension": ".g",
   "mimetype": "text/x-gap",
   "name": "GAP 4",
   "nbconvert_exporter": "",
   "pygments_lexer": "gap",
   "version": "4.12.2"
  }
 },
 "nbformat": 4,
 "nbformat_minor": 5
}
