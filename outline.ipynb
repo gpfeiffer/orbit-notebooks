{
 "cells": [
  {
   "cell_type": "markdown",
   "id": "90599f92",
   "metadata": {},
   "source": [
    "### Real, Complex and Symplectic Reflection Groups - March 2023, RUB\n",
    "\n",
    "## Computational Aspects of Complex Reflection Groups\n",
    "\n",
    "Götz Pfeiffer - University of Galway\n",
    "\n",
    "# Outline"
   ]
  },
  {
   "cell_type": "markdown",
   "id": "7b96c041",
   "metadata": {},
   "source": [
    "<img alt=\"t-shirt\" src=\"images/shirtbfs.png\" align=\"center\" width=\"33%\" style=\"float:right\">\n",
    "\n",
    "## 1. Computing with [Groups](orbits.ipynb)\n",
    "\n",
    "* Orbit Algorithms: A Shorter History of CGT\n",
    "\n",
    "## 2. Computing with [Coxeter Groups](coxeter.ipynb)\n",
    "\n",
    "* Orbits: Finite Coxeter Groups in Action\n",
    "\n",
    "## 3. Computing with [Complex Reflection Groups](enumerate.ipynb)\n",
    "\n",
    "* Cosets: Enumerating Complex Reflection Groups\n",
    "\n",
    "##  4. Computing with [Hecke Algebras](linear.ipynb)\n",
    "\n",
    "* Linear Orbits: Enumerating Modules and Hecke Algebras"
   ]
  },
  {
   "cell_type": "code",
   "execution_count": null,
   "id": "2a768949",
   "metadata": {},
   "outputs": [],
   "source": []
  },
  {
   "cell_type": "code",
   "execution_count": null,
   "id": "3c6a5beb",
   "metadata": {},
   "outputs": [],
   "source": []
  }
 ],
 "metadata": {
  "kernelspec": {
   "display_name": "GAP 4",
   "language": "gap",
   "name": "gap-4"
  },
  "language_info": {
   "codemirror_mode": "gap",
   "file_extension": ".g",
   "mimetype": "text/x-gap",
   "name": "GAP 4",
   "nbconvert_exporter": "",
   "pygments_lexer": "gap",
   "version": "4.12.2"
  }
 },
 "nbformat": 4,
 "nbformat_minor": 5
}
