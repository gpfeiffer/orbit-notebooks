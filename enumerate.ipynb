{
 "cells": [
  {
   "cell_type": "markdown",
   "id": "90599f92",
   "metadata": {},
   "source": [
    "### Real, Complex and Symplectic Reflection Groups - March 2023, RUB\n",
    "\n",
    "## Computational Aspects of Complex Reflection Groups\n",
    "\n",
    "Götz Pfeiffer - University of Galway\n",
    "\n",
    "# 3. Enumerating Complex Reflection Groups"
   ]
  },
  {
   "cell_type": "markdown",
   "id": "cd04986f",
   "metadata": {},
   "source": [
    "## Setup"
   ]
  },
  {
   "cell_type": "markdown",
   "id": "07a2bc9e",
   "metadata": {},
   "source": [
    "First, reload the algorithms from the last day ..."
   ]
  },
  {
   "cell_type": "code",
   "execution_count": null,
   "id": "fc22f8e3",
   "metadata": {},
   "outputs": [],
   "source": [
    "LoadPackage(\"jupyterviz\");\n",
    "opts:= rec(vertexwidth:= 12, vertexheight:= 12, edgecolor:= \"#def\");;\n",
    "Read(\"orbits.g\");\n",
    "Read(\"variants.g\");\n",
    "Read(\"examples.g\");"
   ]
  },
  {
   "cell_type": "markdown",
   "id": "616a9be3",
   "metadata": {},
   "source": [
    "## Complex Reflection Groups ..."
   ]
  },
  {
   "cell_type": "markdown",
   "id": "308b10f8",
   "metadata": {},
   "source": [
    "... don't have\n",
    "* well-behaved length\n",
    "* well-defined generators\n",
    "* root systems\n",
    "* ...\n",
    "\n",
    "But they do have\n",
    "* parabolic subgroups\n",
    "* ...\n",
    "* a nice (Coxeter-like) presentation"
   ]
  },
  {
   "cell_type": "markdown",
   "id": "d14cf224",
   "metadata": {},
   "source": [
    "## Data Nodes"
   ]
  },
  {
   "cell_type": "markdown",
   "id": "ed845dfa",
   "metadata": {},
   "source": [
    "* Recall the modified orbit algorithms.\n",
    "* Here is all in one:  words, transversal and edges."
   ]
  },
  {
   "cell_type": "code",
   "execution_count": null,
   "id": "e5a03f20",
   "metadata": {},
   "outputs": [],
   "source": [
    "orbit_and_more := function(aaa, x, under)\n",
    "    local   list,  words,  perms,  edges,  i,  k,  z,  l;\n",
    "    list:= [x];  words:= [[]];  perms:= [aaa[1]^0];  edges:= [];\n",
    "    i:= 0;\n",
    "    while i < Length(list) do\n",
    "        i:= i+1;\n",
    "        for k in [1..Length(aaa)] do\n",
    "            z:= under(list[i], aaa[k]);\n",
    "            l:= Position(list, z);\n",
    "            if l = fail then\n",
    "                Add(list, z);\n",
    "                Add(words, onWords(words[i], k));\n",
    "                Add(perms, perms[i] * aaa[k]);\n",
    "                Add(edges, [i, Length(list)]);\n",
    "            else\n",
    "                Add(edges, [i, l]);\n",
    "            fi;\n",
    "        od;\n",
    "    od;\n",
    "    return rec(list:= list, words:= words, perms:= perms, edges:= edges);\n",
    "end;"
   ]
  },
  {
   "cell_type": "markdown",
   "id": "432e29e2",
   "metadata": {},
   "source": [
    "* for example"
   ]
  },
  {
   "cell_type": "code",
   "execution_count": null,
   "id": "c5f3bda1",
   "metadata": {},
   "outputs": [],
   "source": [
    "orb:= orbit_and_more(transpositions(5), [1,2], OnSets);;\n",
    "orb.list;\n",
    "orb.perms;\n",
    "orb.words;\n",
    "edges:= Filtered(Set(orb.edges), x-> x[1] <> x[2]);;\n",
    "PlotGraph(edges, opts);"
   ]
  },
  {
   "cell_type": "markdown",
   "id": "2b9ee5ee",
   "metadata": {},
   "source": [
    "* managing all these property lists in parallel is a bit unwieldy, and perhaps confusing in the long run ...\n",
    "* let's transpose the setup and store properties as data with each node."
   ]
  },
  {
   "cell_type": "markdown",
   "id": "560a699b",
   "metadata": {},
   "source": [
    "##  Data Nodes"
   ]
  },
  {
   "cell_type": "markdown",
   "id": "67b2bc06",
   "metadata": {},
   "source": [
    "### Data Type"
   ]
  },
  {
   "cell_type": "code",
   "execution_count": null,
   "id": "4845c3d6",
   "metadata": {},
   "outputs": [],
   "source": [
    "ItemFamily := NewFamily(\"ItemFamily\", IsObject);\n",
    "\n",
    "DeclareRepresentation(\"IsItem\",\n",
    "    IsComponentObjectRep and IsAttributeStoringRep,\n",
    "    [\"key\", \"idx\", \"data\", \"next\"]\n",
    ");\n",
    "\n",
    "ItemType := NewType(ItemFamily, IsItem);"
   ]
  },
  {
   "cell_type": "markdown",
   "id": "785c4166",
   "metadata": {},
   "source": [
    "### Constructor"
   ]
  },
  {
   "cell_type": "code",
   "execution_count": null,
   "id": "be579c2d",
   "metadata": {},
   "outputs": [],
   "source": [
    "Item := function(key)\n",
    "    local   r;\n",
    "    r := rec(key := key, data := rec(), next := []);\n",
    "    return Objectify(ItemType, r);\n",
    "end;"
   ]
  },
  {
   "cell_type": "code",
   "execution_count": null,
   "id": "f93cd169",
   "metadata": {},
   "outputs": [],
   "source": [
    "item:= Item([1,2]);"
   ]
  },
  {
   "cell_type": "markdown",
   "id": "763ad433",
   "metadata": {},
   "source": [
    "### Printing"
   ]
  },
  {
   "cell_type": "code",
   "execution_count": null,
   "id": "36a5def5",
   "metadata": {},
   "outputs": [],
   "source": [
    "InstallMethod(PrintObj, \"for items\", true, [IsItem], 0, function(item)\n",
    "    Print(\"Item( \", item!.key, \" )\");\n",
    "end);\n",
    "\n",
    "InstallMethod(String, \"for items\", true, [IsItem], 0, function(item)\n",
    "    return Concatenation(\"Item( \", item!.key, \" )\");\n",
    "end);"
   ]
  },
  {
   "cell_type": "code",
   "execution_count": null,
   "id": "e4b8969c",
   "metadata": {},
   "outputs": [],
   "source": [
    "item;"
   ]
  },
  {
   "cell_type": "markdown",
   "id": "ac5bf7a7",
   "metadata": {},
   "source": [
    "###  Comparison"
   ]
  },
  {
   "cell_type": "code",
   "execution_count": null,
   "id": "8fb091bb",
   "metadata": {},
   "outputs": [],
   "source": [
    "InstallMethod(\\=, \"for items\", true, [IsItem, IsItem], 0, function(itemL, itemR)\n",
    "    return itemL!.key = itemR!.key;\n",
    "end);\n",
    "\n",
    "InstallMethod(\\<, \"for items\", true, [IsItem, IsItem], 0, function(itemL, itemR)\n",
    "    return itemL!.key < itemR!.key;\n",
    "end);"
   ]
  },
  {
   "cell_type": "code",
   "execution_count": null,
   "id": "eaef38af",
   "metadata": {},
   "outputs": [],
   "source": [
    "item = item;\n",
    "item < item;\n",
    "item <= item;\n",
    "Set([item, item]);"
   ]
  },
  {
   "cell_type": "markdown",
   "id": "6d238c3e",
   "metadata": {},
   "source": [
    "### Data Orbits"
   ]
  },
  {
   "cell_type": "code",
   "execution_count": null,
   "id": "0571ff4a",
   "metadata": {},
   "outputs": [],
   "source": [
    "orbit_with_data := function(aaa, item, under)\n",
    "    local   list,  x,  k,  a,  y,  z;\n",
    "    list := [item];  item!.idx:= 1;  \n",
    "    item!.data:= rec(perm:= (), word:= []);\n",
    "    for x in list do\n",
    "        for k in [1..Length(aaa)] do\n",
    "            a:= aaa[k];\n",
    "            y := Item(under(x!.key, a));\n",
    "            z := First(list, z -> z = y);\n",
    "            if z = fail then\n",
    "                Add(list, y);  y!.idx := Length(list);\n",
    "                y!.data := rec(  \n",
    "                  perm := x!.data.perm * a,\n",
    "                  word := onWords(x!.data.word, k),\n",
    "                );\n",
    "                x!.next[k] := y!.idx;\n",
    "            else\n",
    "                x!.next[k] := z!.idx;\n",
    "            fi;\n",
    "        od;\n",
    "    od;\n",
    "    return list;\n",
    "end;"
   ]
  },
  {
   "cell_type": "code",
   "execution_count": null,
   "id": "ff90f7d1",
   "metadata": {},
   "outputs": [],
   "source": [
    "orb:= orbit_with_data(transpositions(5), item, OnSets);"
   ]
  },
  {
   "cell_type": "code",
   "execution_count": null,
   "id": "5bc7c650",
   "metadata": {},
   "outputs": [],
   "source": [
    "List(orb, x-> x!.idx);\n",
    "List(orb, x-> x!.data.perm);\n",
    "List(orb, x-> x!.data.word);\n",
    "edges:= Union(List(orb, o-> List(o!.next, t-> [o!.idx, t])));;\n",
    "edges:= Filtered(edges, x-> x[1] <> x[2]);;\n",
    "PlotGraph(edges, opts);"
   ]
  },
  {
   "cell_type": "markdown",
   "id": "bcc955ae",
   "metadata": {},
   "source": [
    "## Smart Nodes"
   ]
  },
  {
   "cell_type": "code",
   "execution_count": null,
   "id": "998cc829",
   "metadata": {},
   "outputs": [],
   "source": [
    "NodeFamily := NewFamily(\"NodeFamily\", IsObject);\n",
    "\n",
    "DeclareRepresentation(\"IsNode\",\n",
    "    IsComponentObjectRep and IsAttributeStoringRep,\n",
    "[\"idx\", \"word\", \"next\"]\n",
    ");\n",
    "\n",
    "NodeType := NewType(NodeFamily, IsNode);"
   ]
  },
  {
   "cell_type": "code",
   "execution_count": null,
   "id": "49f0a343",
   "metadata": {},
   "outputs": [],
   "source": [
    "Node := function(word, data)\n",
    "    local   node;\n",
    "    node := Objectify(NodeType, rec(word := word, data := data, next := []));\n",
    "    Add(data.list, node);  node!.idx := Length(data.list);\n",
    "    data.active := data.active + 1;\n",
    "    return node;\n",
    "end;"
   ]
  },
  {
   "cell_type": "markdown",
   "id": "ee894c15",
   "metadata": {},
   "source": [
    "### Print"
   ]
  },
  {
   "cell_type": "code",
   "execution_count": null,
   "id": "c153ccef",
   "metadata": {},
   "outputs": [],
   "source": [
    "InstallMethod(PrintObj, \"for nodes\", true, [IsNode], 0, function(node)\n",
    "    Print(\"Node( \", node!.idx, \" )\");\n",
    "end);"
   ]
  },
  {
   "cell_type": "code",
   "execution_count": null,
   "id": "2f09c461",
   "metadata": {},
   "outputs": [],
   "source": [
    "InstallMethod(String, \"for nodes\", true, [IsNode], 0, function(node)\n",
    "    return Concatenation(\"Node( \", String(node!.idx), \" )\");\n",
    "end);"
   ]
  },
  {
   "cell_type": "code",
   "execution_count": null,
   "id": "8c86ca3d",
   "metadata": {},
   "outputs": [],
   "source": [
    "data := rec(list := [], active := 0);"
   ]
  },
  {
   "cell_type": "code",
   "execution_count": null,
   "id": "1ecdb875",
   "metadata": {},
   "outputs": [],
   "source": [
    "node := Node([], data);"
   ]
  },
  {
   "cell_type": "code",
   "execution_count": null,
   "id": "e1e34548",
   "metadata": {},
   "outputs": [],
   "source": [
    "String(node);"
   ]
  },
  {
   "cell_type": "markdown",
   "id": "fb558541",
   "metadata": {},
   "source": [
    "### Comparison"
   ]
  },
  {
   "cell_type": "code",
   "execution_count": null,
   "id": "328ca535",
   "metadata": {},
   "outputs": [],
   "source": [
    "InstallMethod(\\=, \"for nodes\", true, [IsNode, IsNode], 0, function(nodeL, nodeR)\n",
    "    return nodeL!.idx = nodeR!.idx;\n",
    "end);"
   ]
  },
  {
   "cell_type": "code",
   "execution_count": null,
   "id": "7e05227f",
   "metadata": {},
   "outputs": [],
   "source": [
    "node = node;"
   ]
  },
  {
   "cell_type": "code",
   "execution_count": null,
   "id": "acda0dc0",
   "metadata": {},
   "outputs": [],
   "source": [
    "InstallMethod(\\<, \"for nodes\", true, [IsNode, IsNode], 0, function(nodeL, nodeR)\n",
    "    return nodeL!.idx < nodeR!.idx;\n",
    "end);"
   ]
  },
  {
   "cell_type": "code",
   "execution_count": null,
   "id": "b9419547",
   "metadata": {},
   "outputs": [],
   "source": [
    "node < node;"
   ]
  },
  {
   "cell_type": "code",
   "execution_count": null,
   "id": "c0310783",
   "metadata": {},
   "outputs": [],
   "source": [
    "node <= node;"
   ]
  },
  {
   "cell_type": "code",
   "execution_count": null,
   "id": "6d0ea5d6",
   "metadata": {},
   "outputs": [],
   "source": [
    "node > node;"
   ]
  },
  {
   "cell_type": "markdown",
   "id": "2827fced",
   "metadata": {},
   "source": [
    "## Enumeration"
   ]
  },
  {
   "cell_type": "markdown",
   "id": "ae191c13",
   "metadata": {},
   "source": [
    "* Suppose that a group $G$ is given by a **presentation** $\\langle X \\mid R \\rangle$, consisting of a (finite) set $X$ of abstract **generators** $x_1, x_2, \\dots$, and a (finite) list $R$ of **relations** $l_j = r_j$, where both $l_j$ and $r_j$ are words in $X \\cup X^{-1}$.\n",
    "\n",
    "* For convenience, we assume that $X$ is closed under inverses: $X  = X^{-1}$."
   ]
  },
  {
   "cell_type": "code",
   "execution_count": null,
   "id": "1e5be014",
   "metadata": {},
   "outputs": [],
   "source": []
  },
  {
   "cell_type": "markdown",
   "id": "a2746616",
   "metadata": {},
   "source": [
    "###  Flatness"
   ]
  },
  {
   "cell_type": "code",
   "execution_count": null,
   "id": "02e150ce",
   "metadata": {},
   "outputs": [],
   "source": [
    "isActive := node -> not IsBound(node!.flat);"
   ]
  },
  {
   "cell_type": "code",
   "execution_count": null,
   "id": "252d38d7",
   "metadata": {},
   "outputs": [],
   "source": [
    "isActive(node);"
   ]
  },
  {
   "cell_type": "code",
   "execution_count": null,
   "id": "e22249c3",
   "metadata": {},
   "outputs": [],
   "source": [
    "node!.flat := 0;;\n",
    "isActive(node);"
   ]
  },
  {
   "cell_type": "code",
   "execution_count": null,
   "id": "87561835",
   "metadata": {},
   "outputs": [],
   "source": [
    "Unbind(node!.flat);\n",
    "isActive(node);"
   ]
  },
  {
   "cell_type": "code",
   "execution_count": null,
   "id": "e3dfbdf6",
   "metadata": {},
   "outputs": [],
   "source": [
    "flat := function(node)\n",
    "    while IsBound(node!.flat) do  node := node!.flat;  od;\n",
    "    return node;\n",
    "end;"
   ]
  },
  {
   "cell_type": "markdown",
   "id": "536d67bd",
   "metadata": {},
   "source": [
    "### Images"
   ]
  },
  {
   "cell_type": "code",
   "execution_count": null,
   "id": "84393897",
   "metadata": {},
   "outputs": [],
   "source": [
    "getImage := function(node, s)\n",
    "    if s < 0 then  s:= node!.data.invr[-s];  fi;\n",
    "    return GetWithDefault(node!.next, s, false);\n",
    "end;"
   ]
  },
  {
   "cell_type": "code",
   "execution_count": null,
   "id": "aa606420",
   "metadata": {},
   "outputs": [],
   "source": [
    "sprout := function(node, s)\n",
    "    local   next;\n",
    "    next:= Node(onWords(node!.word, s), node!.data);\n",
    "    node!.next[s] := next;\n",
    "    next!.next[node!.data.invr[s]] := node;\n",
    "    return next;\n",
    "end;"
   ]
  },
  {
   "cell_type": "markdown",
   "id": "38335b79",
   "metadata": {},
   "source": [
    "### Actions"
   ]
  },
  {
   "cell_type": "code",
   "execution_count": null,
   "id": "9ed8a346",
   "metadata": {},
   "outputs": [],
   "source": [
    "onNodesPartial := function(node, s)\n",
    "    local   next;\n",
    "    next := getImage(node, s);\n",
    "    if next = false then  return false;  fi;\n",
    "    return flat(next);\n",
    "end;"
   ]
  },
  {
   "cell_type": "code",
   "execution_count": null,
   "id": "0ea08389",
   "metadata": {},
   "outputs": [],
   "source": [
    "onNodesSprout := function(node, s)\n",
    "    local   next;\n",
    "    next := getImage(node, s);\n",
    "    if next = false then \n",
    "        return sprout(node, s);\n",
    "    else\n",
    "        return flat(next);  \n",
    "    fi;\n",
    "end;"
   ]
  },
  {
   "cell_type": "code",
   "execution_count": null,
   "id": "7b213adf",
   "metadata": {},
   "outputs": [],
   "source": [
    "nodeUnderWordSprout := function(node, word)\n",
    "    local   s;\n",
    "    for s in word do\n",
    "        node := onNodesSprout(node, s);\n",
    "    od;\n",
    "    return node;\n",
    "end;"
   ]
  },
  {
   "cell_type": "code",
   "execution_count": null,
   "id": "f237d835",
   "metadata": {},
   "outputs": [],
   "source": [
    "nodeUnderWordPartial := function(node, word)\n",
    "    local   s;\n",
    "    for s in word do\n",
    "        node := onNodesPartial(node, s);\n",
    "        if node = false then  return node;  fi;\n",
    "    od;\n",
    "    return node;\n",
    "end;"
   ]
  },
  {
   "cell_type": "markdown",
   "id": "fa48e841",
   "metadata": {},
   "source": [
    "### Edges"
   ]
  },
  {
   "cell_type": "code",
   "execution_count": null,
   "id": "4d7655a9",
   "metadata": {},
   "outputs": [],
   "source": [
    "setImage := function(node, s, next)\n",
    "    local   pair;\n",
    "    if IsBound(node!.next[s]) then\n",
    "        pair := Set(List([next, node!.next[s]], flat));\n",
    "        if Length(pair) = 2 then           # coincidence: stack!\n",
    "            mergeNodes(pair[2], pair[1]);\n",
    "        fi;\n",
    "    else\n",
    "        node!.next[s] := next;           # deduction!\n",
    "    fi;\n",
    "end;"
   ]
  },
  {
   "cell_type": "code",
   "execution_count": null,
   "id": "8aa0873e",
   "metadata": {},
   "outputs": [],
   "source": [
    "mergeNodes := function(node, other)\n",
    "    local   s;\n",
    "    node!.flat:= other;\n",
    "    Print(node, \" -> \", other, \"\\n\");\n",
    "    for s in PositionsBound(node!.next) do\n",
    "        updateEdge(other, s, node!.next[s]);\n",
    "    od;\n",
    "    node!.data.active:= node!.data.active - 1;\n",
    "end;"
   ]
  },
  {
   "cell_type": "code",
   "execution_count": null,
   "id": "60bb1a90",
   "metadata": {},
   "outputs": [],
   "source": [
    "updateEdge := function(node, s, next)\n",
    "    setImage(node, s, next);\n",
    "    setImage(next, node!.data.invr[s], node);\n",
    "end;"
   ]
  },
  {
   "cell_type": "markdown",
   "id": "7b6d9e98",
   "metadata": {},
   "source": [
    "###  Tracing Relations"
   ]
  },
  {
   "cell_type": "markdown",
   "id": "305fd75c",
   "metadata": {},
   "source": [
    "* node!word = word"
   ]
  },
  {
   "cell_type": "code",
   "execution_count": null,
   "id": "f2c7210b",
   "metadata": {},
   "outputs": [],
   "source": [
    "trace := function(node, word)\n",
    "    local   other;\n",
    "    other := nodeUnderWordSprout(node, word{[1..Length(word)-1]});\n",
    "    updateEdge(other, word[Length(word)], node);\n",
    "end;"
   ]
  },
  {
   "cell_type": "code",
   "execution_count": null,
   "id": "9ce5e764",
   "metadata": {},
   "outputs": [],
   "source": [
    "process := function(node, s)\n",
    "    local   variant,  next;\n",
    "    for variant in node!.data.variants[s] do\n",
    "        if isActive(node) then\n",
    "            next:= nodeUnderWordPartial(node, variant);\n",
    "            if next <> false then  updateEdge(node, s, next);  fi;\n",
    "        fi;\n",
    "    od;\n",
    "    #    if isActive(node) then  trace(node, [s, node!.data.invr[s]]);  fi;\n",
    "    if isActive(node) and not IsBound(node!.next[s]) then sprout(node, s); fi;\n",
    "end;"
   ]
  },
  {
   "cell_type": "code",
   "execution_count": null,
   "id": "588cfdb6",
   "metadata": {},
   "outputs": [],
   "source": [
    "enumerate := function(genrel)\n",
    "    local  data,  node,  word,  s;\n",
    "\n",
    "    # initialize.\n",
    "    data := rec(list := [], active := 0);\n",
    "    data.invr := genrel.invr;\n",
    "    data.variants:= VariantsRelations(genrel);\n",
    "    node := Node([], data);\n",
    "    \n",
    "    # first close the subgroup tables.\n",
    "    for word in genrel.sbgp do\n",
    "        trace(node, word);\n",
    "    od;\n",
    "    \n",
    "    # process nodes in the queue\n",
    "    for node in data.list do\n",
    "        for s in genrel.gens do\n",
    "            process(node, s);\n",
    "        od;\n",
    "    od;\n",
    "\n",
    "    # return data\n",
    "    return data;\n",
    "end;"
   ]
  },
  {
   "cell_type": "code",
   "execution_count": null,
   "id": "1f4083bd",
   "metadata": {},
   "outputs": [],
   "source": [
    "G := G10;"
   ]
  },
  {
   "cell_type": "code",
   "execution_count": null,
   "id": "c875c544",
   "metadata": {},
   "outputs": [],
   "source": [
    "data:= enumerate(G);"
   ]
  },
  {
   "cell_type": "code",
   "execution_count": null,
   "id": "a741b350",
   "metadata": {},
   "outputs": [],
   "source": [
    "data.active;"
   ]
  },
  {
   "cell_type": "code",
   "execution_count": null,
   "id": "182fa525",
   "metadata": {},
   "outputs": [],
   "source": [
    "gens:= List(TransposedMat(List(data.list, x-> List(x!.next, y-> y!.idx))), PermList);"
   ]
  },
  {
   "cell_type": "code",
   "execution_count": null,
   "id": "d978a69d",
   "metadata": {},
   "outputs": [],
   "source": [
    "sizeOfGroup(GroupWithGenerators(gens));"
   ]
  },
  {
   "cell_type": "markdown",
   "id": "7eea4e0c",
   "metadata": {},
   "source": [
    "* Next: extract and plot the graph!"
   ]
  },
  {
   "cell_type": "code",
   "execution_count": null,
   "id": "9f4566bb",
   "metadata": {},
   "outputs": [],
   "source": [
    "edges:= Union(List(data.list, node -> List(node!.next, x -> [node!.idx, x!.idx])));;\n",
    "edges:= Filtered(edges, x -> x[1] <> x[2]);"
   ]
  },
  {
   "cell_type": "code",
   "execution_count": null,
   "id": "86a19f57",
   "metadata": {},
   "outputs": [],
   "source": [
    "PlotGraph(edges, opts);"
   ]
  },
  {
   "cell_type": "markdown",
   "id": "1508bc85",
   "metadata": {},
   "source": [
    "##  Exercises, etc."
   ]
  },
  {
   "cell_type": "markdown",
   "id": "62bfbc8b",
   "metadata": {},
   "source": [
    "* Find matrices for the reflection representation of a given complex reflection group $G$.\n",
    "* Find a way to enumerate the (conjugacy classes of) parabolic subgroups $P$ of a complex reflection group $G$.\n",
    "* Compute the normalizer of parabolic subgroup $P$ in $G$.  Does $P$ always have a complement $H$? If so, does $H$ have a natural set of generators? "
   ]
  },
  {
   "cell_type": "code",
   "execution_count": null,
   "id": "0c43f08d",
   "metadata": {},
   "outputs": [],
   "source": []
  }
 ],
 "metadata": {
  "kernelspec": {
   "display_name": "GAP 4",
   "language": "gap",
   "name": "gap-4"
  },
  "language_info": {
   "codemirror_mode": "gap",
   "file_extension": ".g",
   "mimetype": "text/x-gap",
   "name": "GAP 4",
   "nbconvert_exporter": "",
   "pygments_lexer": "gap",
   "version": "4.12.2"
  }
 },
 "nbformat": 4,
 "nbformat_minor": 5
}
