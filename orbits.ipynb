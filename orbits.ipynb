{
 "cells": [
  {
   "cell_type": "markdown",
   "id": "90599f92",
   "metadata": {},
   "source": [
    "### Real, Complex and Symplectic Reflection Groups - March 2023, RUB\n",
    "\n",
    "## Computational Aspects of Complex Reflection Groups\n",
    "\n",
    "Götz Pfeiffer - University of Galway\n",
    "\n",
    "# 1. Orbit Algorithms: A Shorter History of CGT"
   ]
  },
  {
   "cell_type": "markdown",
   "id": "07a2bc9e",
   "metadata": {},
   "source": [
    "##  Tree Traversal: BFS vs DFS"
   ]
  },
  {
   "cell_type": "markdown",
   "id": "6be6a91d",
   "metadata": {},
   "source": [
    "* Suppose we want to visit all the nodes of a (rooted) tree like this (with root node in white):"
   ]
  },
  {
   "cell_type": "markdown",
   "id": "2939b554",
   "metadata": {},
   "source": [
    "![e7 tree](images/e7tree.png)"
   ]
  },
  {
   "cell_type": "markdown",
   "id": "62c855d8",
   "metadata": {},
   "source": [
    "* **Breath First Search** (BFS) and **Depth First Search**  (DFS) provide strategies for doing this in a simple and systematic fashion.\n",
    "* For this, we assume that each **node** $x$ in the tree knows all its **children** as a list $x$.next.\n",
    "* Then the two **algorithms** for visiting all nodes of a tree with root $x$ can be described as follows."
   ]
  },
  {
   "cell_type": "markdown",
   "id": "c24ee00a",
   "metadata": {},
   "source": [
    "![bfs vs dfs](images/bfsdfs.png)"
   ]
  },
  {
   "cell_type": "markdown",
   "id": "33c27555",
   "metadata": {},
   "source": [
    "* In practice, BFS can take advantage of the way dynamic lists in a (e.g. GAP, Python, ...) `for` loop are largely organized as queues."
   ]
  },
  {
   "cell_type": "code",
   "execution_count": null,
   "id": "f59b0acb",
   "metadata": {},
   "outputs": [],
   "source": [
    "BFS := function(x, visit)\n",
    "    local   Q,  y,  z;\n",
    "    Q:= [x];\n",
    "    for y in Q do\n",
    "        visit(y);\n",
    "        for z in y.next do\n",
    "            Add(Q, z);\n",
    "        od;\n",
    "    od;\n",
    "end;"
   ]
  },
  {
   "cell_type": "markdown",
   "id": "585363d0",
   "metadata": {},
   "source": [
    "* While DFS, using the function call stack as its stack, can be implemented recursively. "
   ]
  },
  {
   "cell_type": "code",
   "execution_count": null,
   "id": "403cde0a",
   "metadata": {},
   "outputs": [],
   "source": [
    "DFS := function(x, visit)\n",
    "    local   z;\n",
    "    visit(x);\n",
    "    for z in x.next do\n",
    "        DFS(z, visit);\n",
    "    od;\n",
    "end;"
   ]
  },
  {
   "cell_type": "markdown",
   "id": "92154c67",
   "metadata": {},
   "source": [
    "* Applied to the above example ..."
   ]
  },
  {
   "cell_type": "code",
   "execution_count": null,
   "id": "d467a7b9",
   "metadata": {},
   "outputs": [],
   "source": [
    "nodes:= List([1..7], i-> rec(id:= i, next:= []));;\n",
    "root:= nodes[6];;  parent := [3,4,4,5,6,0,6];;\n",
    "for i in [1..Length(parent)] do\n",
    "    if parent[i] > 0 then\n",
    "        Add(nodes[parent[i]].next, nodes[i]);\n",
    "    fi;\n",
    "od;"
   ]
  },
  {
   "cell_type": "markdown",
   "id": "70e7c932",
   "metadata": {},
   "source": [
    "* ... with a visitor that simply prints the names of each node it encounters ..."
   ]
  },
  {
   "cell_type": "code",
   "execution_count": null,
   "id": "1c6a97c6",
   "metadata": {},
   "outputs": [],
   "source": [
    "print := function(x)  Print(x.id, \", \");  end;"
   ]
  },
  {
   "cell_type": "markdown",
   "id": "cd4e9550",
   "metadata": {},
   "source": [
    "* ... BFS and DFS list all the nodes in slightly different orders:"
   ]
  },
  {
   "cell_type": "code",
   "execution_count": null,
   "id": "c9c6eb24",
   "metadata": {},
   "outputs": [],
   "source": [
    "BFS(root, print);"
   ]
  },
  {
   "cell_type": "code",
   "execution_count": null,
   "id": "f3d5999a",
   "metadata": {},
   "outputs": [],
   "source": [
    "DFS(root, print);"
   ]
  },
  {
   "cell_type": "markdown",
   "id": "2cb6862b",
   "metadata": {},
   "source": [
    "* Recall the graph: ![e7 tree](images/e7tree.png)"
   ]
  },
  {
   "cell_type": "markdown",
   "id": "89155625",
   "metadata": {},
   "source": [
    "* the recursive strategy can be modified to suit a specific purpose, e.g., to print a tree as a tree "
   ]
  },
  {
   "cell_type": "code",
   "execution_count": null,
   "id": "d5fc8119",
   "metadata": {},
   "outputs": [],
   "source": [
    "t_indent := 0;;  t_nl := false;;\n",
    "t_print := function(x)\n",
    "    local   c;\n",
    "    if t_nl then\n",
    "        Print(RepeatedString(\" \", t_indent));  t_nl:= false;\n",
    "    fi;\n",
    "    Print(\"-\", x.id);\n",
    "    if Length(x.next) = 0 then\n",
    "        Print(\"\\n\");  t_nl:= true;\n",
    "    fi;\n",
    "    t_indent:= t_indent + 2;\n",
    "    for c in x.next do  t_print(c);  od;\n",
    "    t_indent:= t_indent - 2;\n",
    "end;"
   ]
  },
  {
   "cell_type": "code",
   "execution_count": null,
   "id": "ffc590e5",
   "metadata": {},
   "outputs": [],
   "source": [
    "t_print(root);"
   ]
  },
  {
   "cell_type": "markdown",
   "id": "11e9cd34",
   "metadata": {},
   "source": [
    "### Graph Traversal"
   ]
  },
  {
   "cell_type": "markdown",
   "id": "92d3e5c6",
   "metadata": {},
   "source": [
    "* Both BFS and DFS can be applied to a (simple or directed) **graph**.\n",
    "* The same node then can possibly be reached through different paths.\n",
    "* Care needs to be taken to manage these repeat encounters."
   ]
  },
  {
   "cell_type": "markdown",
   "id": "78eb8808",
   "metadata": {},
   "source": [
    "###  Applications"
   ]
  },
  {
   "cell_type": "markdown",
   "id": "fba9f3f9",
   "metadata": {},
   "source": [
    "* distance between nodes\n",
    "* shortest paths\n",
    "* connected components\n",
    "* ..."
   ]
  },
  {
   "cell_type": "markdown",
   "id": "10fb7214",
   "metadata": {},
   "source": [
    "## Orbits"
   ]
  },
  {
   "cell_type": "markdown",
   "id": "1939597e",
   "metadata": {},
   "source": [
    "* **Group actions** are a rich source of graphs.\n",
    "* Here, the **nodes** of the graph are the elements $x$ of the domain that is acted upon.\n",
    "* The **edges** of the graph are of the form $x \\stackrel{s}{\\longrightarrow} x.s$, implicitly given by the action.\n",
    "* The elements $s$ typically come from a set of **generators** of the acting group."
   ]
  },
  {
   "cell_type": "markdown",
   "id": "3f55b408",
   "metadata": {},
   "source": [
    "<div class=\"alert alert-danger\">\n",
    "\n",
    "**Definition.**\n",
    "Let $G$ be a group acting on a set $X$ via $(x, a) \\mapsto x.a$, and suppose that $G = \\langle S \\rangle$ for \n",
    "some $S \\subseteq G$. The **action graph** of $S$ and $X$ is the (directed) graph with \n",
    "* **vertices:** $x \\in X$, and\n",
    "* **edges:** $x \\stackrel{s}{\\longrightarrow} x.s$ for $x \\in X$, $s \\in S$.\n",
    "</div>"
   ]
  },
  {
   "cell_type": "markdown",
   "id": "e63770eb",
   "metadata": {},
   "source": [
    "* We formulate and apply a variant of BFS called **orbit algorithm** to compute properties of this action."
   ]
  },
  {
   "cell_type": "markdown",
   "id": "0770fa56",
   "metadata": {},
   "source": [
    "* In order to have some groups to play with, provide a list of transpositions of adjacent points."
   ]
  },
  {
   "cell_type": "code",
   "execution_count": null,
   "id": "2bb15cd1",
   "metadata": {},
   "outputs": [],
   "source": [
    "transpositions:= n -> List([2..n], j-> (j-1,j));"
   ]
  },
  {
   "cell_type": "markdown",
   "id": "b88e6d37",
   "metadata": {},
   "source": [
    "* For example, on $4$ points (which group do they generate?):"
   ]
  },
  {
   "cell_type": "code",
   "execution_count": null,
   "id": "6184de40",
   "metadata": {},
   "outputs": [],
   "source": [
    "swaps:= transpositions(4);"
   ]
  },
  {
   "cell_type": "markdown",
   "id": "bd76b9e9",
   "metadata": {},
   "source": [
    "### Orbit Algorithm"
   ]
  },
  {
   "cell_type": "markdown",
   "id": "1cbd4f79",
   "metadata": {},
   "source": [
    "* The plain orbit algorithm:  BFS with $x$.next ${} = \\{x.s : s \\in S\\}$.\n",
    "* The action of $G$ on $X$ is described by an **action function** `under`: calling `under(x, s)` returns $x.s$ (&ldquo;$x$ under $s$&rdquo;).\n",
    "* Given: a list `aaa` of generating operators, a point `x` of the domain $X$, and an action function `under`, we compute the **orbit** $x^G = \\{x.a : a \\in G\\}$ of the point `x` under the the action of the group generated by `aaa`."
   ]
  },
  {
   "cell_type": "code",
   "execution_count": null,
   "id": "15cec430",
   "metadata": {},
   "outputs": [],
   "source": [
    "orbit:= function(aaa, x, under)\n",
    "    local a, y, z, list;\n",
    "    list:= [x];\n",
    "    for y in list do\n",
    "        for a in aaa do\n",
    "            z:= under(y, a);\n",
    "            if z <> y and not z in list then Add(list, z); fi;\n",
    "        od;\n",
    "    od;\n",
    "    return list;\n",
    "end;"
   ]
  },
  {
   "cell_type": "markdown",
   "id": "ce3a821b",
   "metadata": {},
   "source": [
    "To find the orbit of a point $x$ under the group generated by the swaps:\n",
    "* apply the orbit algorithm to (i) the swaps, (ii) the point $x$, (iii) the standard action *on points* $(x, a) \\mapsto x^a$"
   ]
  },
  {
   "cell_type": "code",
   "execution_count": null,
   "id": "4a5c410f",
   "metadata": {},
   "outputs": [],
   "source": [
    "onPoints:= function(x, a)  return x^a;  end;"
   ]
  },
  {
   "cell_type": "code",
   "execution_count": null,
   "id": "8d4a10b0",
   "metadata": {},
   "outputs": [],
   "source": [
    "orbit(swaps, 2, onPoints);"
   ]
  },
  {
   "cell_type": "markdown",
   "id": "0c0e90d7",
   "metadata": {},
   "source": [
    "* in GAP, this action is called `OnPoints`:"
   ]
  },
  {
   "cell_type": "code",
   "execution_count": null,
   "id": "554b92e9",
   "metadata": {},
   "outputs": [],
   "source": [
    "orbit(swaps, 3, OnPoints);"
   ]
  },
  {
   "cell_type": "markdown",
   "id": "cf9cd8cb",
   "metadata": {},
   "source": [
    "### Elements"
   ]
  },
  {
   "cell_type": "markdown",
   "id": "3305f528",
   "metadata": {},
   "source": [
    "To find the **elements** of the group generated by the swaps:\n",
    "* apply the orbit algorithm to (i) the swaps, (ii) the identity permutation, (iii) the action *on the right* $(x, a) \\mapsto x a$"
   ]
  },
  {
   "cell_type": "code",
   "execution_count": null,
   "id": "97acef78",
   "metadata": {},
   "outputs": [],
   "source": [
    "onRight:= function(x, a)  return x * a;  end;"
   ]
  },
  {
   "cell_type": "code",
   "execution_count": null,
   "id": "c55934d5",
   "metadata": {},
   "outputs": [],
   "source": [
    "orbit(swaps, (), onRight);"
   ]
  },
  {
   "cell_type": "markdown",
   "id": "9c91a128",
   "metadata": {},
   "source": [
    "* in GAP, this action is called `OnRight`"
   ]
  },
  {
   "cell_type": "code",
   "execution_count": null,
   "id": "e44ef81e",
   "metadata": {},
   "outputs": [],
   "source": [
    "orbit(swaps, (), OnRight);"
   ]
  },
  {
   "cell_type": "markdown",
   "id": "63815ad2",
   "metadata": {},
   "source": [
    "* In CGT, it is customary to represent a group $G = \\langle A \\rangle$ by a list $A$ of generators (avoiding the need to list all its elements where possible).\n",
    "\n",
    "* Let's turn the list of generators into a group object, and from now on formulate algorithms in terms of the group. "
   ]
  },
  {
   "cell_type": "code",
   "execution_count": null,
   "id": "28ddbbfa",
   "metadata": {},
   "outputs": [],
   "source": [
    "swaps;\n",
    "group:= GroupWithGenerators(swaps);\n",
    "GeneratorsOfGroup(group);"
   ]
  },
  {
   "cell_type": "code",
   "execution_count": null,
   "id": "ceaf66d4",
   "metadata": {},
   "outputs": [],
   "source": [
    "elements:= function(group)\n",
    "    return orbit(GeneratorsOfGroup(group), Identity(group), OnRight);\n",
    "end;"
   ]
  },
  {
   "cell_type": "markdown",
   "id": "451ccd9c",
   "metadata": {},
   "source": [
    "* test it"
   ]
  },
  {
   "cell_type": "code",
   "execution_count": null,
   "id": "0727ba05",
   "metadata": {},
   "outputs": [],
   "source": [
    "eee:= elements(group);"
   ]
  },
  {
   "cell_type": "code",
   "execution_count": null,
   "id": "c63ec66f",
   "metadata": {},
   "outputs": [],
   "source": [
    "Length(eee);"
   ]
  },
  {
   "cell_type": "markdown",
   "id": "6865dd84",
   "metadata": {},
   "source": [
    "### Words in the generators"
   ]
  },
  {
   "cell_type": "markdown",
   "id": "b4e1502b",
   "metadata": {},
   "source": [
    "* express these elements as words in the generators"
   ]
  },
  {
   "cell_type": "code",
   "execution_count": null,
   "id": "d5c56534",
   "metadata": {},
   "outputs": [],
   "source": [
    "onWords := function(word, s)\n",
    "    return Concatenation(word, [s]);\n",
    "end;"
   ]
  },
  {
   "cell_type": "code",
   "execution_count": null,
   "id": "62b48268",
   "metadata": {},
   "outputs": [],
   "source": [
    "orbit_with_words:= function(aaa, x, under)\n",
    "    local   list,  words,  i,  k,  z;\n",
    "    list:= [x];  words:= [[]];  i:= 0;\n",
    "    while i < Length(list) do\n",
    "        i:= i+1;\n",
    "        for k in [1..Length(aaa)] do\n",
    "            z:= under(list[i], aaa[k]);\n",
    "            if not z in list then\n",
    "                Add(list, z);\n",
    "                Add(words, onWords(words[i], k));\n",
    "            fi;\n",
    "        od;\n",
    "    od;\n",
    "    return rec(list:= list, words:= words);\n",
    "end;"
   ]
  },
  {
   "cell_type": "code",
   "execution_count": null,
   "id": "9f911b45",
   "metadata": {},
   "outputs": [],
   "source": [
    "www:= orbit_with_words(swaps, (), onRight).words;"
   ]
  },
  {
   "cell_type": "markdown",
   "id": "9304b4b8",
   "metadata": {},
   "source": [
    "## Conjugacy Classes"
   ]
  },
  {
   "cell_type": "markdown",
   "id": "58377027",
   "metadata": {},
   "source": [
    "* With suitable arguments, `OnPoints` also implements the **conjugation** action of a group $G$ on itself.\n",
    "* We can use the orbit algorithm to compute the conjugacy class of a single element in $G$, and to find the list of all conjugacy classes of $G$."
   ]
  },
  {
   "cell_type": "markdown",
   "id": "b9fdf752",
   "metadata": {},
   "source": [
    "###  Conjugacy Class"
   ]
  },
  {
   "cell_type": "markdown",
   "id": "6ce51397",
   "metadata": {},
   "source": [
    "* to find the conjugacy class of an element"
   ]
  },
  {
   "cell_type": "code",
   "execution_count": null,
   "id": "fe19f3f1",
   "metadata": {},
   "outputs": [],
   "source": [
    "class:= function(group, x)\n",
    "    return Set(orbit(GeneratorsOfGroup(group), x, OnPoints));\n",
    "end;"
   ]
  },
  {
   "cell_type": "markdown",
   "id": "dc3b446b",
   "metadata": {},
   "source": [
    "* test on a random element"
   ]
  },
  {
   "cell_type": "code",
   "execution_count": null,
   "id": "33dea721",
   "metadata": {},
   "outputs": [],
   "source": [
    "a:= Random(eee);"
   ]
  },
  {
   "cell_type": "code",
   "execution_count": null,
   "id": "d5227ef9",
   "metadata": {},
   "outputs": [],
   "source": [
    "class(group, a);"
   ]
  },
  {
   "cell_type": "markdown",
   "id": "d81f153c",
   "metadata": {},
   "source": [
    "* a conjugacy class should know its group.\n",
    "* in GAP, the class of `a` in `G` is denoted (and constructed) as `a^G`."
   ]
  },
  {
   "cell_type": "code",
   "execution_count": null,
   "id": "829ec61d",
   "metadata": {},
   "outputs": [],
   "source": [
    "cl:= a^group;"
   ]
  },
  {
   "cell_type": "markdown",
   "id": "5dc385aa",
   "metadata": {},
   "source": [
    "* such a class has: **elements**, a **representative**, and an **acting domain** (the group `G`)."
   ]
  },
  {
   "cell_type": "code",
   "execution_count": null,
   "id": "ad94c975",
   "metadata": {},
   "outputs": [],
   "source": [
    "Elements(cl);\n",
    "Representative(cl);\n",
    "ActingDomain(cl);"
   ]
  },
  {
   "cell_type": "markdown",
   "id": "86b04517",
   "metadata": {},
   "source": [
    "###  Conjugacy Classes"
   ]
  },
  {
   "cell_type": "markdown",
   "id": "4fad8d8f",
   "metadata": {},
   "source": [
    "* to find all conjugacy classes, the list of generators itself needs to be closed under conjugation.\n",
    "* to find the closure of a set under conjugation, we can use a version of the orbit algorithm that initializes its queue with several points, not just one."
   ]
  },
  {
   "cell_type": "code",
   "execution_count": null,
   "id": "2a005a95",
   "metadata": {},
   "outputs": [],
   "source": [
    "orbits:= function(aaa, xxx, under)\n",
    "    local a, y, z, list;\n",
    "    list:= ShallowCopy(xxx);\n",
    "    for y in list do\n",
    "        for a in aaa do\n",
    "            z:= under(y, a);\n",
    "            if z <> y and not z in list then Add(list, z); fi;\n",
    "        od;\n",
    "    od;\n",
    "    return list;\n",
    "end;"
   ]
  },
  {
   "cell_type": "code",
   "execution_count": null,
   "id": "c9012b0e",
   "metadata": {},
   "outputs": [],
   "source": [
    "orbits(swaps, swaps, onPoints);"
   ]
  },
  {
   "cell_type": "code",
   "execution_count": null,
   "id": "5d36dee4",
   "metadata": {},
   "outputs": [],
   "source": [
    "onClasses:= function(x, a)\n",
    "    return OnRight(Representative(x), a)^ActingDomain(x);\n",
    "end;"
   ]
  },
  {
   "cell_type": "code",
   "execution_count": null,
   "id": "bdce403c",
   "metadata": {},
   "outputs": [],
   "source": [
    "conjugacyClasses:= function(group)\n",
    "    local gens;\n",
    "    gens:= GeneratorsOfGroup(group);\n",
    "    return orbit(orbits(gens, gens, OnPoints), Identity(group)^group, onClasses);\n",
    "end;"
   ]
  },
  {
   "cell_type": "code",
   "execution_count": null,
   "id": "a42b6ebe",
   "metadata": {},
   "outputs": [],
   "source": [
    "cc:= conjugacyClasses(group);"
   ]
  },
  {
   "cell_type": "code",
   "execution_count": null,
   "id": "acd0b7da",
   "metadata": {},
   "outputs": [],
   "source": [
    "List(cc, Size);"
   ]
  },
  {
   "cell_type": "markdown",
   "id": "c05f7eeb",
   "metadata": {},
   "source": [
    "## Subgroups"
   ]
  },
  {
   "cell_type": "markdown",
   "id": "558df82e",
   "metadata": {},
   "source": [
    "* The power set $2^G$ is a monoid wrt. to set union, generated by the singleton sets $\\{a\\}$, $a \\in G$, as atoms.\n",
    "* $2^G$ acts on the subgroups $H$ of $G$ via closure: $H.A = \\langle H, A \\rangle$.  (Check!)\n",
    "* In fact, each subgroup lies in the orbit of the trivial subgroup of $G$.  (Check!)"
   ]
  },
  {
   "cell_type": "code",
   "execution_count": null,
   "id": "a0525f18",
   "metadata": {},
   "outputs": [],
   "source": [
    "onGroups:= function(x, a)\n",
    "    return ClosureGroup(x, a);\n",
    "end;"
   ]
  },
  {
   "cell_type": "code",
   "execution_count": null,
   "id": "1c827530",
   "metadata": {},
   "outputs": [],
   "source": [
    "subgroups:= function(group)\n",
    "    return orbit(Elements(group), TrivialSubgroup(group), onGroups);\n",
    "end;"
   ]
  },
  {
   "cell_type": "code",
   "execution_count": null,
   "id": "22e24974",
   "metadata": {},
   "outputs": [],
   "source": [
    "Size(group);"
   ]
  },
  {
   "cell_type": "code",
   "execution_count": null,
   "id": "093f9312",
   "metadata": {},
   "outputs": [],
   "source": [
    "subs:= subgroups(group);"
   ]
  },
  {
   "cell_type": "code",
   "execution_count": null,
   "id": "4bab2f15",
   "metadata": {},
   "outputs": [],
   "source": [
    "Length(subs);"
   ]
  },
  {
   "cell_type": "markdown",
   "id": "4bf8fe09",
   "metadata": {},
   "source": [
    "### Conjugacy Classes of Subgroups"
   ]
  },
  {
   "cell_type": "markdown",
   "id": "0a9a92f0",
   "metadata": {},
   "source": [
    "* combining ideas from above ..."
   ]
  },
  {
   "cell_type": "code",
   "execution_count": null,
   "id": "ad8ad336",
   "metadata": {},
   "outputs": [],
   "source": [
    "onSubgroupClasses:= function(x, a)\n",
    "    return onGroups(Representative(x), a)^ActingDomain(x);\n",
    "end;"
   ]
  },
  {
   "cell_type": "markdown",
   "id": "2cc5561c",
   "metadata": {},
   "source": [
    "* also it suffices to consider **zuppos** as potential generators ..."
   ]
  },
  {
   "cell_type": "code",
   "execution_count": null,
   "id": "5469d7f9",
   "metadata": {},
   "outputs": [],
   "source": [
    "subgroupClasses:= function(group)\n",
    "    return orbit(Zuppos(group), TrivialSubgroup(group)^group, onSubgroupClasses);\n",
    "end;"
   ]
  },
  {
   "cell_type": "code",
   "execution_count": null,
   "id": "0b65254d",
   "metadata": {},
   "outputs": [],
   "source": [
    "ccs:= subgroupClasses(group);"
   ]
  },
  {
   "cell_type": "code",
   "execution_count": null,
   "id": "2b9a208e",
   "metadata": {},
   "outputs": [],
   "source": [
    "Length(ccs);"
   ]
  },
  {
   "cell_type": "code",
   "execution_count": null,
   "id": "487b6b64",
   "metadata": {},
   "outputs": [],
   "source": [
    "List(ccs, Size);"
   ]
  },
  {
   "cell_type": "code",
   "execution_count": null,
   "id": "512c996f",
   "metadata": {},
   "outputs": [],
   "source": [
    "Sum(ccs, Size);"
   ]
  },
  {
   "cell_type": "code",
   "execution_count": null,
   "id": "cb4c9ef1",
   "metadata": {},
   "outputs": [],
   "source": [
    "ccs:= subgroupClasses(GroupWithGenerators(transpositions(5)));;\n",
    "Length(ccs);"
   ]
  },
  {
   "cell_type": "markdown",
   "id": "d814411e",
   "metadata": {},
   "source": [
    "## Stabilizer and Transversal"
   ]
  },
  {
   "cell_type": "markdown",
   "id": "e8790b24",
   "metadata": {},
   "source": [
    "* we can use a variant of the orbit algorithm to determine (and remember), for each point $y$ in the $G$-orbit of $x$, a representative element $a \\in G$ with $x.a = y$.\n",
    "* this list of representatives will form a **transversal** of the cosets of the stabilizer of $x$ in $G$.\n",
    "* by Schreier's Theorem, a generating set for the **stabilizer** can be computed from the transversal."
   ]
  },
  {
   "cell_type": "markdown",
   "id": "cdcd42fe",
   "metadata": {},
   "source": [
    "### Transversal"
   ]
  },
  {
   "cell_type": "code",
   "execution_count": null,
   "id": "5f3975bc",
   "metadata": {},
   "outputs": [],
   "source": [
    "orbit_with_transversal:= function(aaa, x, under)\n",
    "    local   list,  reps,  i,  k,  z;\n",
    "    list:= [x];  reps:= [aaa[1]^0];  i:= 0;\n",
    "    while i < Length(list) do\n",
    "        i:= i+1;\n",
    "        for k in [1..Length(aaa)] do\n",
    "            z:= under(list[i], aaa[k]);\n",
    "            if not z in list then\n",
    "                Add(list, z);\n",
    "                Add(reps, reps[i] * aaa[k]);\n",
    "            fi;\n",
    "        od;\n",
    "    od;\n",
    "    return rec(list:= list, reps:= reps);\n",
    "end;"
   ]
  },
  {
   "cell_type": "code",
   "execution_count": null,
   "id": "7c432b65",
   "metadata": {},
   "outputs": [],
   "source": [
    "swaps:= transpositions(5);;\n",
    "transversal:= orbit_with_transversal(swaps, 2, onPoints);"
   ]
  },
  {
   "cell_type": "markdown",
   "id": "18eced31",
   "metadata": {},
   "source": [
    "### Stabilizer"
   ]
  },
  {
   "cell_type": "markdown",
   "id": "b8d93a46",
   "metadata": {},
   "source": [
    "<div class=\"alert alert-danger\">\n",
    "\n",
    "**Schreier's Theorem.**\n",
    "Suppose a group $G$, generated by a set $S$,\n",
    "acts on a set $X$ and that $\\{f_y : y \\in x^G\\}$ is a transversal\n",
    "of the orbit of $x \\in X$.  Then\n",
    "$$\n",
    "    \\{f_y a f_{y.a}^{-1}: a \\in A,\\, y \\in x^G\\}\n",
    "$$\n",
    "is a set of generators for the stabilizer $G_x$ of $x$ in $G$.\n",
    "    \n",
    "</div>"
   ]
  },
  {
   "cell_type": "code",
   "execution_count": null,
   "id": "b80b1cbe",
   "metadata": {},
   "outputs": [],
   "source": [
    "orbit_with_stabilizer:= function(aaa, x, under)\n",
    "    local   list,  reps,  stab,  i,  k,  l,  z;\n",
    "    list:= [x];  reps:= [aaa[1]^0];  stab:= [];  i:= 0;\n",
    "    while i < Length(list) do\n",
    "        i:= i+1;\n",
    "        for k in [1..Length(aaa)] do\n",
    "            z:= under(list[i], aaa[k]);\n",
    "            l:= Position(list, z);\n",
    "            if l = fail then\n",
    "                Add(list, z);\n",
    "                Add(reps, reps[i] * aaa[k]);\n",
    "            else   # x^(reps[i] * a) = x^reps[l]\n",
    "                Add(stab, reps[i] * aaa[k] / reps[l]);\n",
    "            fi;\n",
    "        od;\n",
    "    od;\n",
    "    return rec(list:= list, reps:= reps, stab:= stab);\n",
    "end;"
   ]
  },
  {
   "cell_type": "code",
   "execution_count": null,
   "id": "a727429b",
   "metadata": {},
   "outputs": [],
   "source": [
    "stabilizer:= orbit_with_stabilizer(swaps, 2, OnPoints);"
   ]
  },
  {
   "cell_type": "code",
   "execution_count": null,
   "id": "9db9b351",
   "metadata": {},
   "outputs": [],
   "source": [
    "Difference(stabilizer.stab, [()]);"
   ]
  },
  {
   "cell_type": "markdown",
   "id": "fb7312a7",
   "metadata": {},
   "source": [
    "## Stabilizer Chain"
   ]
  },
  {
   "cell_type": "markdown",
   "id": "b6c45003",
   "metadata": {},
   "source": [
    "* Applying these ideas along a chain of stabilizers can yield information about the whole group."
   ]
  },
  {
   "cell_type": "markdown",
   "id": "1fbf2d83",
   "metadata": {},
   "source": [
    "### Order of the Group"
   ]
  },
  {
   "cell_type": "markdown",
   "id": "798f7df5",
   "metadata": {},
   "source": [
    "* Orbit-Stabilzer Lemma: $|G| = |x^G| \\, |G_x| = |x^G| \\, |y^{G_x}| \\, |G_{x, y}| = {\\dots}$"
   ]
  },
  {
   "cell_type": "code",
   "execution_count": null,
   "id": "775b8829",
   "metadata": {},
   "outputs": [],
   "source": [
    "sizeOfGroup:= function(group)\n",
    "    local x, orb, stab;\n",
    "    if group = TrivialSubgroup(group) then return 1; fi;\n",
    "    x:= LargestMovedPoint(group);\n",
    "    orb:= orbit_with_stabilizer(GeneratorsOfGroup(group), x, OnPoints);\n",
    "    stab:= Subgroup(group, Difference(orb.stab, [()]));\n",
    "    return sizeOfGroup(stab) * Length(orb.reps);\n",
    "end;"
   ]
  },
  {
   "cell_type": "code",
   "execution_count": null,
   "id": "b297d94a",
   "metadata": {},
   "outputs": [],
   "source": [
    "sizeOfGroup(group);"
   ]
  },
  {
   "cell_type": "code",
   "execution_count": null,
   "id": "50b555b5",
   "metadata": {},
   "outputs": [],
   "source": [
    "group:= Group(transpositions(10));"
   ]
  },
  {
   "cell_type": "code",
   "execution_count": null,
   "id": "99b2054a",
   "metadata": {},
   "outputs": [],
   "source": [
    "sizeOfGroup(group);"
   ]
  },
  {
   "cell_type": "code",
   "execution_count": null,
   "id": "e060e80d",
   "metadata": {},
   "outputs": [],
   "source": [
    "m24:= Group([\n",
    "  (1,2,3,4,5,6,7,8,9,10,11,12,13,14,15,16,17,18,19,20,21,22,23),\n",
    "  (3,17,10,7,9)(4,13,14,19,5)(8,18,11,12,23)(15,20,22,21,16),\n",
    "  (1,24)(2,23)(3,12)(4,16)(5,18)(6,10)(7,20)(8,14)(9,21)(11,17)(13,22)(15,19) \n",
    "]);;\n",
    "sizeOfGroup(m24);"
   ]
  },
  {
   "cell_type": "markdown",
   "id": "9a4f0172",
   "metadata": {},
   "source": [
    "###  Random Element"
   ]
  },
  {
   "cell_type": "markdown",
   "id": "71130ece",
   "metadata": {},
   "source": [
    "* random elements: along the same lines as `sizeOfGroup`"
   ]
  },
  {
   "cell_type": "code",
   "execution_count": null,
   "id": "89730bd1",
   "metadata": {},
   "outputs": [],
   "source": [
    "randomGroupElement:= function(group)\n",
    "    local x, orb, stab;\n",
    "    if group = TrivialSubgroup(group) then return Identity(group); fi;\n",
    "    x:= LargestMovedPoint(group);\n",
    "    orb:= orbit_with_stabilizer(GeneratorsOfGroup(group), x, OnPoints);\n",
    "    stab:= Subgroup(group, Difference(orb.stab, [()]));\n",
    "    return randomGroupElement(stab) * Random(orb.reps);\n",
    "end;"
   ]
  },
  {
   "cell_type": "code",
   "execution_count": null,
   "id": "c01cc902",
   "metadata": {},
   "outputs": [],
   "source": [
    "randomGroupElement(m24);"
   ]
  },
  {
   "cell_type": "markdown",
   "id": "20333d25",
   "metadata": {},
   "source": [
    "* Check: These random elements are **uniformly distributed**!"
   ]
  },
  {
   "cell_type": "code",
   "execution_count": null,
   "id": "04af8284",
   "metadata": {},
   "outputs": [],
   "source": [
    "group:= Group(transpositions(4));\n",
    "Collected(List([1..2400], i-> randomGroupElement(group)));"
   ]
  },
  {
   "cell_type": "markdown",
   "id": "8275c4d4",
   "metadata": {},
   "source": [
    "Also, using similar ideas:\n",
    "* **membership** test $a \\in G$?\n",
    "* express element as **word in the generators**: $a = s_1 \\dotsm s_k$\n",
    "* **homomorphisms** (defined on generators): $\\phi(a) = \\phi(s_1) \\dotsm \\phi(s_k)$"
   ]
  },
  {
   "cell_type": "markdown",
   "id": "bb5cfeb3",
   "metadata": {},
   "source": [
    "## Graphs"
   ]
  },
  {
   "cell_type": "markdown",
   "id": "2d05c32e",
   "metadata": {},
   "source": [
    "* With a further small modification, the orbit algorithm can keep track of edges and thus construct the **action graph**.  \n",
    "* Recall that this is a labelled directed graph, with vertices $x, y \\in X$ and edges $x \\stackrel{a}{\\to} y$, whenever $x.s = y$ for $x, y \\in X$, and $s \\in S$.  \n",
    "* However, we need to decide on a data structure for such graphs first.  The simplest, perhaps, is a list of pairs of indices, each representing an edge."
   ]
  },
  {
   "cell_type": "code",
   "execution_count": null,
   "id": "de07a622",
   "metadata": {},
   "outputs": [],
   "source": [
    "LoadPackage(\"jupyterviz\");  # thanks: Nathan Carter @bentley.edu\n",
    "opts:= rec(vertexwidth:= 12, vertexheight:= 12, edgecolor:= \"#def\");"
   ]
  },
  {
   "cell_type": "code",
   "execution_count": null,
   "id": "b9b1cf9a",
   "metadata": {},
   "outputs": [],
   "source": [
    "PlotGraph([[2,4],[2,6],[2,8],[4,4]], opts);"
   ]
  },
  {
   "cell_type": "code",
   "execution_count": null,
   "id": "f9b0aeaa",
   "metadata": {},
   "outputs": [],
   "source": [
    "edges:= List([1..Length(parent)], i -> [i, parent[i]]);\n",
    "edges[6][2]:= 6;\n",
    "PlotGraph(edges, opts);"
   ]
  },
  {
   "cell_type": "code",
   "execution_count": null,
   "id": "421ded4f",
   "metadata": {},
   "outputs": [],
   "source": [
    "orbit_with_edges:= function(aaa, x, under)\n",
    "    local   list,  edges,  i,  k,  l,  z;\n",
    "    list:= [x];  edges:= [];  i:= 0;\n",
    "    while i < Length(list) do\n",
    "        i:= i+1;\n",
    "        for k in [1..Length(aaa)] do\n",
    "            z:= under(list[i], aaa[k]);\n",
    "            l:= Position(list, z);\n",
    "            if l = fail then\n",
    "                Add(list, z);\n",
    "                l := Length(list);\n",
    "            fi;\n",
    "            Add(edges, [i, l]);\n",
    "        od;\n",
    "    od;\n",
    "    return rec(list:= list, edges:= edges);\n",
    "end;"
   ]
  },
  {
   "cell_type": "code",
   "execution_count": null,
   "id": "9e1763a0",
   "metadata": {},
   "outputs": [],
   "source": [
    "edges:= orbit_with_edges(swaps, 2, OnPoints).edges;"
   ]
  },
  {
   "cell_type": "code",
   "execution_count": null,
   "id": "5997142a",
   "metadata": {},
   "outputs": [],
   "source": [
    "PlotGraph(Set(edges), opts);"
   ]
  },
  {
   "cell_type": "code",
   "execution_count": null,
   "id": "f59dbf3c",
   "metadata": {},
   "outputs": [],
   "source": [
    "edges:= orbit_with_edges(swaps, [1,2], OnPairs).edges;;\n",
    "edges:= Filtered(Set(edges), x-> x[1] <> x[2]);"
   ]
  },
  {
   "cell_type": "code",
   "execution_count": null,
   "id": "0af83508",
   "metadata": {},
   "outputs": [],
   "source": [
    "PlotGraph(edges, opts);"
   ]
  },
  {
   "cell_type": "code",
   "execution_count": null,
   "id": "867a8d8b",
   "metadata": {},
   "outputs": [],
   "source": [
    "edges:= orbit_with_edges(transpositions(6), [1,2], OnSets).edges;;\n",
    "edges:= Filtered(Set(edges), x-> x[1] <> x[2]);"
   ]
  },
  {
   "cell_type": "code",
   "execution_count": null,
   "id": "c8742e31",
   "metadata": {},
   "outputs": [],
   "source": [
    "PlotGraph(Set(edges), opts);"
   ]
  },
  {
   "cell_type": "code",
   "execution_count": null,
   "id": "2ce44f56",
   "metadata": {},
   "outputs": [],
   "source": [
    "edges:= orbit_with_edges(transpositions(4), (), OnRight).edges;;\n",
    "edges:= Filtered(Set(edges), x-> x[1] <> x[2]);"
   ]
  },
  {
   "cell_type": "code",
   "execution_count": null,
   "id": "04f8bfc7",
   "metadata": {},
   "outputs": [],
   "source": [
    "PlotGraph(edges, opts);"
   ]
  },
  {
   "cell_type": "markdown",
   "id": "923e852a",
   "metadata": {},
   "source": [
    "### Permutations"
   ]
  },
  {
   "cell_type": "markdown",
   "id": "5444cfb7",
   "metadata": {},
   "source": [
    "* The action graph is in fact a directed graph.\n",
    "* It encodes the permutations induced by the action on the domain.\n",
    "* For this (and other applications) it is convenient to store the edge information in a different format: as image lists."
   ]
  },
  {
   "cell_type": "code",
   "execution_count": null,
   "id": "65f83e6b",
   "metadata": {},
   "outputs": [],
   "source": [
    "orbit_with_images := function(aaa, x, under)\n",
    "    local   list,  images,  i,  k,  l,  z;\n",
    "    list := [x];  i := 0;\n",
    "    images := List(aaa, x -> []);\n",
    "    while i < Length(list) do\n",
    "        i := i+1;\n",
    "        for k in [1..Length(aaa)] do\n",
    "            z := under(list[i], aaa[k]);\n",
    "            l := Position(list, z);\n",
    "            if l = fail then\n",
    "                Add(list, z);\n",
    "                l := Length(list);\n",
    "            fi;\n",
    "            images[k][i] := l;\n",
    "        od;\n",
    "    od;\n",
    "    return rec(list := list, images := images);\n",
    "end;"
   ]
  },
  {
   "cell_type": "code",
   "execution_count": null,
   "id": "62f6250f",
   "metadata": {},
   "outputs": [],
   "source": [
    "swaps := transpositions(5);\n",
    "orb := orbit_with_images(transpositions(5), 1, OnPoints);"
   ]
  },
  {
   "cell_type": "code",
   "execution_count": null,
   "id": "8da22a58",
   "metadata": {},
   "outputs": [],
   "source": [
    "List(orb.images, PermList);"
   ]
  },
  {
   "cell_type": "code",
   "execution_count": null,
   "id": "0f466bb5",
   "metadata": {},
   "outputs": [],
   "source": [
    "List(orbit_with_images(swaps, [1,2], OnSets).images, PermList);"
   ]
  },
  {
   "cell_type": "markdown",
   "id": "95850535",
   "metadata": {},
   "source": [
    "### Rearrangements"
   ]
  },
  {
   "cell_type": "markdown",
   "id": "222fd40e",
   "metadata": {},
   "source": [
    "* Example Polya Action: rearrangements of a word.\n",
    "* In GAP, the action on the positions of a list is called `Permuted`."
   ]
  },
  {
   "cell_type": "code",
   "execution_count": null,
   "id": "730b3b3e",
   "metadata": {},
   "outputs": [],
   "source": [
    "word := [1,1,2,2,2];\n",
    "orb := orbit_with_images(swaps, word, Permuted);;\n",
    "orb.list;"
   ]
  },
  {
   "cell_type": "code",
   "execution_count": null,
   "id": "49743985",
   "metadata": {},
   "outputs": [],
   "source": [
    "List(orb.images, PermList);"
   ]
  },
  {
   "cell_type": "code",
   "execution_count": null,
   "id": "749ad741",
   "metadata": {},
   "outputs": [],
   "source": [
    "PlotGraph(Union(List(orb.images, x -> List([1..10], i-> [i,x[i]]))), rec(directed:= true));"
   ]
  },
  {
   "cell_type": "markdown",
   "id": "7a6aec62",
   "metadata": {},
   "source": [
    "## Exercises"
   ]
  },
  {
   "cell_type": "markdown",
   "id": "877bc40e",
   "metadata": {},
   "source": [
    "*  Prove the claims made above.  In particular, show that the partition of a (finite) group into conjugacy classes can be computed as an orbit under the right action, provided that the set of generators is closed under conjugation."
   ]
  },
  {
   "cell_type": "markdown",
   "id": "27de3386",
   "metadata": {},
   "source": [
    "* Show that the power set $2^A = \\{B : B \\subseteq A\\}$ of a (finite) set $A$ is the orbit of $A$ under the take-away action:\n",
    "```gap\n",
    "takeAway := function(set, s)\n",
    "    return Difference(set, [s]);\n",
    "end;\n",
    "```"
   ]
  },
  {
   "cell_type": "markdown",
   "id": "5d4086de",
   "metadata": {},
   "source": [
    "* Implement the **membership test** $x \\in G$, using stabilizers."
   ]
  },
  {
   "cell_type": "markdown",
   "id": "f91f209f",
   "metadata": {},
   "source": [
    "* ($*$) In practice, the number of Schreier generators of the stabilizers in the chain can grow very fast, in larger examples.  The **Schreier-Sims** algorithm intertwines orbit calculations and membership tests to keep the number of necessary generators small.  Implement such a strategy."
   ]
  },
  {
   "cell_type": "markdown",
   "id": "b33ebe50",
   "metadata": {},
   "source": [
    "* ($**$) Compute the order of the Rubik's cube group\n",
    "```gap\n",
    "cube := Group(\n",
    "( 1, 3, 8, 6)( 2, 5, 7, 4)( 9,33,25,17)(10,34,26,18)(11,35,27,19),\n",
    "( 9,11,16,14)(10,13,15,12)( 1,17,41,40)( 4,20,44,37)( 6,22,46,35),\n",
    "(17,19,24,22)(18,21,23,20)( 6,25,43,16)( 7,28,42,13)( 8,30,41,11),\n",
    "(25,27,32,30)(26,29,31,28)( 3,38,43,19)( 5,36,45,21)( 8,33,48,24),\n",
    "(33,35,40,38)(34,37,39,36)( 3, 9,46,32)( 2,12,47,29)( 1,14,48,27),\n",
    "(41,43,48,46)(42,45,47,44)(14,22,30,38)(15,23,31,39)(16,24,32,40) \n",
    ");;\n",
    "```"
   ]
  },
  {
   "cell_type": "code",
   "execution_count": null,
   "id": "72ea87d0",
   "metadata": {},
   "outputs": [],
   "source": []
  }
 ],
 "metadata": {
  "kernelspec": {
   "display_name": "GAP 4",
   "language": "gap",
   "name": "gap-4"
  },
  "language_info": {
   "codemirror_mode": "gap",
   "file_extension": ".g",
   "mimetype": "text/x-gap",
   "name": "GAP 4",
   "nbconvert_exporter": "",
   "pygments_lexer": "gap",
   "version": "4.12.2"
  }
 },
 "nbformat": 4,
 "nbformat_minor": 5
}
